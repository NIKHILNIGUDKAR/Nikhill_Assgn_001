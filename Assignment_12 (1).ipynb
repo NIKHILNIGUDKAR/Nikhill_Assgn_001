{
  "nbformat": 4,
  "nbformat_minor": 0,
  "metadata": {
    "colab": {
      "provenance": []
    },
    "kernelspec": {
      "name": "python3",
      "display_name": "Python 3"
    },
    "language_info": {
      "name": "python"
    }
  },
  "cells": [
    {
      "cell_type": "markdown",
      "source": [
        "Q1. Does assigning a value to a string&#39;s indexed character violate Python&#39;s string immutability?"
      ],
      "metadata": {
        "id": "jaC2hpeRCex_"
      }
    },
    {
      "cell_type": "markdown",
      "source": [
        "ANS---> strings are immutable, which means that their values cannot be changed after they are created. This means that attempting to modify a string by assigning a value to a specific character or index will result in a TypeError.So yes, assigning a value to a string's indexed character violates Python's string immutability. \n",
        "\n"
      ],
      "metadata": {
        "id": "HEr2nsgiChAt"
      }
    },
    {
      "cell_type": "markdown",
      "source": [
        "Q2. Does using the += operator to concatenate strings violate Python&#39;s string immutability? Why or\n",
        "why not?"
      ],
      "metadata": {
        "id": "kI_o0TQUC6Q-"
      }
    },
    {
      "cell_type": "markdown",
      "source": [
        "ANS--->In '+=\" operator concatenate the string it does not violates the string immutubility. it adds elements to the string"
      ],
      "metadata": {
        "id": "N7_M93wwDDiF"
      }
    },
    {
      "cell_type": "markdown",
      "source": [
        "Q3. In Python, how many different ways are there to index a character?"
      ],
      "metadata": {
        "id": "6fyt9QxiDBrH"
      }
    },
    {
      "cell_type": "markdown",
      "source": [
        "ANS--->There are many ways to index character first one by positive indexing which starts from 0 for the first character and then 1, 2,... so on\n",
        "\n",
        "The second ways is negative indexing which starts from right hand side of the string and numering starts by -1,-2 and so on\n",
        "\n",
        "The third ways is by slicing the string in this case we can take specific character of our choice out as the output."
      ],
      "metadata": {
        "id": "k2szXRmqDKTV"
      }
    },
    {
      "cell_type": "markdown",
      "source": [
        "Q4. What is the relationship between indexing and slicing?"
      ],
      "metadata": {
        "id": "npulXzNGEYiM"
      }
    },
    {
      "cell_type": "markdown",
      "source": [
        "ANS---> In indexing it either starts from 0 or -1 which are positive and negative indexing respectively whereas in slicing it can be starts from any number it get the result sliced(cut) as we want."
      ],
      "metadata": {
        "id": "KmVBSGZXEZnk"
      }
    },
    {
      "cell_type": "markdown",
      "source": [
        "Q5. What is an indexed character&#39;s exact data type? What is the data form of a slicing-generated\n",
        "substring?"
      ],
      "metadata": {
        "id": "bqEbT9taEz1E"
      }
    },
    {
      "cell_type": "markdown",
      "source": [
        "ANS--->The indexed character data  type is string "
      ],
      "metadata": {
        "id": "fQ_7zjuuE1SE"
      }
    },
    {
      "cell_type": "markdown",
      "source": [
        "Q6. What is the relationship between string and character &quot;types&quot; in Python?"
      ],
      "metadata": {
        "id": "YVViLUgZFN0b"
      }
    },
    {
      "cell_type": "markdown",
      "source": [
        "ANS--->there is no separate data type for characters as there is in some other programming languages. Instead, a single-character string is used to represent a character. This means that in Python, strings and characters are essentially the same thing, and the \"type\" of a character is simply a string with a length of one."
      ],
      "metadata": {
        "id": "4D4t-ncQFQ08"
      }
    },
    {
      "cell_type": "markdown",
      "source": [
        "Q7. Identify at least two operators and one method that allow you to combine one or more smaller\n",
        "strings to create a larger string."
      ],
      "metadata": {
        "id": "gYFFzKrvF7O0"
      }
    },
    {
      "cell_type": "markdown",
      "source": [
        "ANS---> There are three operators which can cobine two strings. \"+=\" , \"+\" ,join()."
      ],
      "metadata": {
        "id": "nZR2asWtGDac"
      }
    },
    {
      "cell_type": "markdown",
      "source": [
        "Q8. What is the benefit of first checking the target string with in or not in before using the index\n",
        "method to find a substring?"
      ],
      "metadata": {
        "id": "f_lH5gMkGQEz"
      }
    },
    {
      "cell_type": "markdown",
      "source": [
        "ANS--->Avoiding errors: If you try to use the index() or find() method on a target string that does not contain the substring you are looking for, you will get an error. By first checking whether the substring is present using in or not in, you can avoid this error and handle the case where the substring is not present in the target string.\n",
        "\n",
        "Performance: The in and not in operators are generally faster than the index() and find() methods, especially when the target string is very long. This is because the in and not in operators can often stop searching as soon as they find the substring (or determine that it is not present), while the index() and find() methods may have to search through the entire string even if the substring is found early on.\n",
        "\n",
        "Clarity: Using in or not in before using index() or find() can make your code more clear and easier to read, especially if you are checking for multiple substrings or using conditional logic based on the presence of a substring."
      ],
      "metadata": {
        "id": "xkfPhHTCGaYL"
      }
    },
    {
      "cell_type": "markdown",
      "source": [
        "Q9. Which operators and built-in string methods produce simple Boolean (true/false) results?"
      ],
      "metadata": {
        "id": "cozFtFaPGelb"
      }
    },
    {
      "cell_type": "markdown",
      "source": [
        "ANS--->endswith(): The endswith() method checks whether a string ends with a specified substring and returns a Boolean value indicating whether it does (True) or not (False)\n",
        "startswith(): The startswith() method checks whether a string starts with a specified substring and returns a Boolean value indicating whether it does (True) or not (False)"
      ],
      "metadata": {
        "id": "5AZWgeo6Gsab"
      }
    }
  ]
}