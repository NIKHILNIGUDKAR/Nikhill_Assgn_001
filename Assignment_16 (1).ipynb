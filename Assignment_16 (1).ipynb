{
  "nbformat": 4,
  "nbformat_minor": 0,
  "metadata": {
    "colab": {
      "provenance": []
    },
    "kernelspec": {
      "name": "python3",
      "display_name": "Python 3"
    },
    "language_info": {
      "name": "python"
    }
  },
  "cells": [
    {
      "cell_type": "markdown",
      "source": [
        "Q1. What is the benefit of regular expressions?"
      ],
      "metadata": {
        "id": "XlagzeiB2lmN"
      }
    },
    {
      "cell_type": "markdown",
      "source": [
        "ANS--->\n",
        "        The main benefit of regular expressions is that they provide a powerful and flexible way to search for and manipulate text. They allow you to specify complex patterns of text that you want to match or replace, making it possible to perform tasks that would be difficult or impossible using simple string manipulation functions. Some common tasks that can be accomplished using regular expressions include searching for specific patterns of characters in a large body of text, validating input from users, and extracting data from unstructured text. Regular expressions are also supported by many programming languages, text editors, and other software tools, making them a widely used and important tool for text processing."
      ],
      "metadata": {
        "id": "hivdBM192oMa"
      }
    },
    {
      "cell_type": "markdown",
      "source": [
        "Q2. Describe the difference between the effects of &quot;(ab)c+&quot; and &quot;a(bc)+.&quot; Which of these, if any, is the\n",
        "unqualified pattern &quot;abc+&quot;?"
      ],
      "metadata": {
        "id": "kFaLWIKi23Lj"
      }
    },
    {
      "cell_type": "markdown",
      "source": [
        "ANS--->\n",
        "        Both \"(ab)c+\" and \"a(bc)+\" are regular expressions that match a sequence of characters containing at least one \"ab\" or \"bc\" substring, respectively. The \"+\" operator in both expressions indicates that the preceding group of characters (in parentheses) must appear one or more times.\n",
        "\n",
        "The unqualified pattern \"abc+\" matches a sequence of characters containing one or more \"a\" characters followed by one or more \"b\" characters, followed by one or more \"c\" characters. This pattern does not include parentheses or the \"+\" operator, indicating that each character should be matched only once."
      ],
      "metadata": {
        "id": "2qqyX0HN24aK"
      }
    },
    {
      "cell_type": "markdown",
      "source": [
        "Q3. How much do you need to use the following sentence while using regular expressions?\n",
        "\n",
        "import re"
      ],
      "metadata": {
        "id": "rrppIvuv3Axi"
      }
    },
    {
      "cell_type": "markdown",
      "source": [
        "ANS--->\n",
        "        The following sentence \"import re\" is required at the beginning of any Python script that uses regular expressions. It imports the regular expression module \"re\" which provides support for searching and manipulating strings using regular expressions."
      ],
      "metadata": {
        "id": "HCnWdBW-3I5r"
      }
    },
    {
      "cell_type": "markdown",
      "source": [
        "Q4. Which characters have special significance in square brackets when expressing a range, and\n",
        "under what circumstances?"
      ],
      "metadata": {
        "id": "Tsb8f9BA4pqf"
      }
    },
    {
      "cell_type": "markdown",
      "source": [
        "In square brackets, some characters have special significance when expressing a range in regular expressions. These characters are:\n",
        "\n",
        "Hyphen (-): It indicates a range between two characters. For example, [a-z] means any lowercase letter from a to z.\n",
        "Caret (^): It is used to match any character except those listed in the square brackets. For example, [^a-z] means any character except lowercase letters from a to z.\n",
        "Backslash (): It is used to escape the special characters within square brackets. For example, [\n",
        "] means either [ or ].\n",
        "These characters have special significance in square brackets because they allow us to define a set of characters to match a pattern. By using these characters, we can specify which characters are allowed or not allowed in the matching string."
      ],
      "metadata": {
        "id": "RB33JxSu3QkE"
      }
    },
    {
      "cell_type": "markdown",
      "source": [
        "Q5. How does compiling a regular-expression object benefit you?"
      ],
      "metadata": {
        "id": "NiNeqYPh4vaW"
      }
    },
    {
      "cell_type": "markdown",
      "source": [
        "ANS--->\n",
        "        Compiling a regular expression object in Python provides performance benefits when you need to use the same expression multiple times. The compiled object can be reused as often as needed without the need for re-parsing the regular expression each time. This can lead to faster execution times and more efficient use of system resources. Additionally, the compiled object can be passed as a parameter to functions that expect a regular expression object, making code easier to read and maintain."
      ],
      "metadata": {
        "id": "JkY2RUV144XH"
      }
    },
    {
      "cell_type": "markdown",
      "source": [
        "Q6. What are some examples of how to use the match object returned by re.match and re.search?"
      ],
      "metadata": {
        "id": "yPo15oLV4_z5"
      }
    },
    {
      "cell_type": "code",
      "source": [
        "import re\n",
        "pattern = r'(\\w+) (\\w+)'\n",
        "text = 'Hello World'\n",
        "match_obj = re.match(pattern, text)\n",
        "print(match_obj.group())"
      ],
      "metadata": {
        "id": "YuGw8gy62nwz",
        "outputId": "9ff8b376-1daa-42bc-a37f-7c0ceeff2cc1",
        "colab": {
          "base_uri": "https://localhost:8080/"
        }
      },
      "execution_count": 62,
      "outputs": [
        {
          "output_type": "stream",
          "name": "stdout",
          "text": [
            "Hello World\n"
          ]
        }
      ]
    },
    {
      "cell_type": "markdown",
      "source": [
        "Q7. What is the difference between using a vertical bar (|) as an alteration and using square brackets\n",
        "as a character set?"
      ],
      "metadata": {
        "id": "27_pO1HC5Jvy"
      }
    },
    {
      "cell_type": "markdown",
      "source": [
        "ANS--->\n",
        "        The vertical bar | in a regular expression is used to specify alternative patterns. It matches any one of the alternative patterns. For example, the regular expression a|b matches either a or b.\n",
        "\n",
        "Square brackets [ ] in a regular expression define a character set. It matches any one character from the set of characters enclosed within the square brackets. For example, the regular expression [abc] matches any one of the characters a, b, or c.\n",
        "\n",
        "The difference between the two is that the vertical bar is used for alternatives between patterns, whereas the square brackets are used for alternatives between individual characters."
      ],
      "metadata": {
        "id": "wDb2mJtM5R7p"
      }
    },
    {
      "cell_type": "markdown",
      "source": [
        "Q8. In regular-expression search patterns, why is it necessary to use the raw-string indicator (r)? In  \n",
        "replacement strings?"
      ],
      "metadata": {
        "id": "nkj0MeCx5Xch"
      }
    },
    {
      "cell_type": "markdown",
      "source": [
        "ANS--->\n",
        "        In regular-expression search patterns, the raw-string indicator (r) is used to indicate that the string is a \"raw string,\" which means that it should be interpreted literally, without any special handling of escape sequences. This is important because regular expressions often contain special characters that have special meaning in Python, such as the backslash (), which is used to escape special characters in Python but also has special meaning in regular expressions.\n",
        "\n",
        "In replacement strings, the raw-string indicator (r) is also used to ensure that escape sequences are not processed. This is important because replacement strings often contain backslashes, which are used to represent special characters in the replacement text. By using a raw string, you can ensure that the backslashes are interpreted literally and not as escape sequences."
      ],
      "metadata": {
        "id": "8d-J13lW5YxB"
      }
    }
  ]
}