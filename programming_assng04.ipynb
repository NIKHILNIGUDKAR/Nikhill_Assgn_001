{
  "nbformat": 4,
  "nbformat_minor": 0,
  "metadata": {
    "colab": {
      "provenance": []
    },
    "kernelspec": {
      "name": "python3",
      "display_name": "Python 3"
    },
    "language_info": {
      "name": "python"
    }
  },
  "cells": [
    {
      "cell_type": "markdown",
      "source": [
        "1. Write a Python Program to Find the Factorial of a Number?\n"
      ],
      "metadata": {
        "id": "TzU50Pzphx0T"
      }
    },
    {
      "cell_type": "code",
      "source": [
        "num = 7\n",
        "factorial = 1\n",
        "\n",
        "if num < 0:\n",
        "   print(\"Sorry, factorial does not exist for negative numbers\")\n",
        "elif num == 0:\n",
        "   print(\"The factorial of 0 is 1\")\n",
        "else:\n",
        "   for i in range(1,num + 1):\n",
        "       factorial = factorial*i\n",
        "   print(\"The factorial of\",num,\"is\",factorial)\n"
      ],
      "metadata": {
        "id": "6hOZGEja_FvT",
        "colab": {
          "base_uri": "https://localhost:8080/"
        },
        "outputId": "f546d3e5-079a-4043-f3c6-c5aae75bc008"
      },
      "execution_count": null,
      "outputs": [
        {
          "output_type": "stream",
          "name": "stdout",
          "text": [
            "The factorial of 7 is 5040\n"
          ]
        }
      ]
    },
    {
      "cell_type": "markdown",
      "source": [
        "2. Write a Python Program to Display the multiplication Table?\n"
      ],
      "metadata": {
        "id": "FsGFBHx9h41r"
      }
    },
    {
      "cell_type": "code",
      "source": [
        "x = int(input(\"Enter the number: \"))\n",
        "print(f\"The table of\",x)\n",
        "for i in range(1,11):\n",
        "    print(x*i)"
      ],
      "metadata": {
        "colab": {
          "base_uri": "https://localhost:8080/"
        },
        "id": "8x5P6DrziIJy",
        "outputId": "a164a775-b6ad-46f5-b30b-30c23a8b2361"
      },
      "execution_count": null,
      "outputs": [
        {
          "output_type": "stream",
          "name": "stdout",
          "text": [
            "Enter the number: 5\n",
            "The table of 5\n",
            "5\n",
            "10\n",
            "15\n",
            "20\n",
            "25\n",
            "30\n",
            "35\n",
            "40\n",
            "45\n",
            "50\n"
          ]
        }
      ]
    },
    {
      "cell_type": "markdown",
      "source": [
        "3. Write a Python Program to Print the Fibonacci sequence?\n"
      ],
      "metadata": {
        "id": "r3yRhicJh753"
      }
    },
    {
      "cell_type": "code",
      "source": [
        "def fibonacci(n):\n",
        "    a=0\n",
        "    b=1\n",
        "    if n<0:\n",
        "        print(\"Incorrect input\")\n",
        "    elif n==0:\n",
        "        return a\n",
        "    elif n==1:\n",
        "        return b\n",
        "    else:\n",
        "        for i in range(2,n):\n",
        "            c = a+b\n",
        "            a =b\n",
        "            b =c\n",
        "        return b"
      ],
      "metadata": {
        "id": "-NsBfcaZL3cc"
      },
      "execution_count": 1,
      "outputs": []
    },
    {
      "cell_type": "markdown",
      "source": [
        "4. Write a Python Program to Check Armstrong Number?\n"
      ],
      "metadata": {
        "id": "3GKqOSuYh-dK"
      }
    },
    {
      "cell_type": "code",
      "source": [
        "num = int(input(\"Enter a number: \"))\n",
        "sum = 0\n",
        "\n",
        "temp = num\n",
        "while temp > 0:\n",
        "   digit = temp % 10\n",
        "   sum += digit ** 3\n",
        "   temp //= 10\n",
        "\n",
        "if num == sum:\n",
        "   print(num,\"is an Armstrong number\")\n",
        "else:\n",
        "   print(num,\"is not an Armstrong number\")\n"
      ],
      "metadata": {
        "id": "2JrbQXLBAN7z",
        "colab": {
          "base_uri": "https://localhost:8080/"
        },
        "outputId": "bceee687-46a6-4e90-8eb1-0e691054843e"
      },
      "execution_count": 2,
      "outputs": [
        {
          "output_type": "stream",
          "name": "stdout",
          "text": [
            "Enter a number: 153\n",
            "153 is an Armstrong number\n"
          ]
        }
      ]
    },
    {
      "cell_type": "markdown",
      "source": [
        "5. Write a Python Program to Find Armstrong Number in an Interval?\n"
      ],
      "metadata": {
        "id": "3sPmpKrCiAxP"
      }
    },
    {
      "cell_type": "code",
      "source": [
        "lower = 100\n",
        "upper = 1000\n",
        "for num in range(lower,upper+1):\n",
        "    order = len(str(num))\n",
        "    sum = 0\n",
        "    temp = num\n",
        "    \n"
      ],
      "metadata": {
        "id": "zFZmnB7UVu5l"
      },
      "execution_count": 3,
      "outputs": []
    },
    {
      "cell_type": "markdown",
      "source": [
        "6. Write a Python Program to Find the Sum of Natural Numbers?"
      ],
      "metadata": {
        "id": "PHLFJ0PgiCvg"
      }
    },
    {
      "cell_type": "code",
      "execution_count": 4,
      "metadata": {
        "id": "DnB1_NJOhnnR",
        "colab": {
          "base_uri": "https://localhost:8080/"
        },
        "outputId": "c14a468b-4ae8-4ae9-af9b-b42557639f29"
      },
      "outputs": [
        {
          "output_type": "stream",
          "name": "stdout",
          "text": [
            "The sum is 136\n"
          ]
        }
      ],
      "source": [
        "num = 16\n",
        "\n",
        "if num < 0:\n",
        "   print(\"Enter a positive number\")\n",
        "else:\n",
        "   sum = 0\n",
        "   while(num > 0):\n",
        "       sum += num\n",
        "       num -= 1\n",
        "   print(\"The sum is\", sum)\n"
      ]
    },
    {
      "cell_type": "code",
      "source": [],
      "metadata": {
        "id": "N-k8Upd1MfAC"
      },
      "execution_count": null,
      "outputs": []
    }
  ]
}