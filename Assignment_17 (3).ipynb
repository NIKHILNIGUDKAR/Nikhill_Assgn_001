{
  "nbformat": 4,
  "nbformat_minor": 0,
  "metadata": {
    "colab": {
      "provenance": []
    },
    "kernelspec": {
      "name": "python3",
      "display_name": "Python 3"
    },
    "language_info": {
      "name": "python"
    }
  },
  "cells": [
    {
      "cell_type": "markdown",
      "source": [
        "Q1. Explain the difference between greedy and non-greedy syntax with visual terms in as few words\n",
        "as possible. What is the bare minimum effort required to transform a greedy pattern into a non-greedy\n",
        "one? What characters or characters can you introduce or change?\n",
        "\n"
      ],
      "metadata": {
        "id": "ZrVE2pJs56nh"
      }
    },
    {
      "cell_type": "markdown",
      "source": [
        "ANS--->\n",
        "        In regular expressions, greedy syntax tries to match as much text as possible while non-greedy syntax tries to match as little text as possible. To transform a greedy pattern into a non-greedy one, you can introduce a question mark (?) after the quantifier character. This will make the quantifier non-greedy. For example, if you want to transform a greedy pattern of \".\" to non-greedy, you can change it to \".?\" which will now match the minimum possible text."
      ],
      "metadata": {
        "id": "lfba42rg7NPR"
      }
    },
    {
      "cell_type": "markdown",
      "source": [
        "Q2. When exactly does greedy versus non-greedy make a difference?  What if you&#39;re looking for a\n",
        "non-greedy match but the only one available is greedy?\n",
        "\n",
        "\n",
        "\n",
        "\n",
        "\n",
        "\n",
        "\n",
        "\n",
        "\n",
        "\n",
        "\n",
        "\n",
        "\n",
        "\n"
      ],
      "metadata": {
        "id": "a3BBbe7v6F1Z"
      }
    },
    {
      "cell_type": "markdown",
      "source": [
        "ANS--->\n",
        "        Greedy and non-greedy syntax in regular expressions make a difference when there is more than one possible match for a pattern in a string.\n",
        "\n",
        "Greedy syntax tries to match the longest possible substring that matches the pattern. In contrast, non-greedy (or lazy) syntax matches the shortest possible substring that matches the pattern.\n",
        "\n",
        "For example, given the string \"Hello world, how are you?\" and the pattern \"H.*o\", the greedy match would return the substring \"Hello world, ho\" while the non-greedy match would return the substring \"He\".\n",
        "\n",
        "If the only available match is greedy and you need a non-greedy match, you can transform the greedy pattern into a non-greedy one by appending a question mark \"?\" to the repetition operator. For example, the greedy pattern \"H.o\" can be transformed into the non-greedy pattern \"H.?o\"."
      ],
      "metadata": {
        "id": "qzqE7rBH7SCg"
      }
    },
    {
      "cell_type": "markdown",
      "source": [
        "Q3. In a simple match of a string, which looks only for one match and does not do any replacement, is\n",
        "the use of a nontagged group likely to make any practical difference?\n"
      ],
      "metadata": {
        "id": "esSVQ_3I6hRo"
      }
    },
    {
      "cell_type": "markdown",
      "source": [
        "ANS--->In a simple match of a string, which looks only for one match and does not do any replacement, the use of a non-tagged group may not make any practical difference in terms of the final output. However, non-tagged groups can be useful for more complex regular expressions that use multiple groups and where it is important to avoid capturing unwanted matches. Non-tagged groups can also help to improve the performance of the regular expression by reducing the number of captured groups."
      ],
      "metadata": {
        "id": "AiKsQOm77Ymw"
      }
    },
    {
      "cell_type": "markdown",
      "source": [
        "Q4. Describe a scenario in which using a nontagged category would have a significant impact on the\n",
        "program&#39;s outcomes."
      ],
      "metadata": {
        "id": "NNezHkGT6cIg"
      }
    },
    {
      "cell_type": "markdown",
      "source": [
        "ANS--->\n",
        "        A nontagged category, also known as a negative lookahead or lookbehind, can have a significant impact on the program's outcomes when searching for patterns that meet certain criteria but do not match specific characters or strings. For example, suppose you want to search for all occurrences of the word \"cat\" in a document but exclude instances where the word is followed immediately by the word \"dog\". In this case, you can use a negative lookahead to search for \"cat\" only if it is not followed by \"dog\". The use of a nontagged category in this scenario would be crucial in order to obtain accurate search results."
      ],
      "metadata": {
        "id": "jo67XNfs7cV5"
      }
    },
    {
      "cell_type": "markdown",
      "source": [
        "Q5. Unlike a normal regex pattern, a look-ahead condition does not consume the characters it\n",
        "examines. Describe a situation in which this could make a difference in the results of your\n",
        "programme."
      ],
      "metadata": {
        "id": "5SxlX2OY6Z5I"
      }
    },
    {
      "cell_type": "markdown",
      "source": [
        "A look-ahead assertion in regular expressions is a way of checking if a pattern exists ahead of the current match without including it in the match. This means that the pattern will be checked, but not included in the final match. This feature can be useful in various scenarios where we want to match a pattern only if it's followed by a specific pattern, without including the latter in the match. For example, suppose we have a list of email addresses, and we want to match all email addresses that end with \".com\", but we don't want to include \".com\" in the final match. In this scenario, a look-ahead assertion can be used as follows:"
      ],
      "metadata": {
        "id": "iBMn3r3G7iEB"
      }
    },
    {
      "cell_type": "code",
      "source": [
        "import re\n",
        "\n",
        "emails = ['john@example.com', 'jane@example.net', 'mike@example.com']\n",
        "\n",
        "# Using a positive look-ahead assertion to match email addresses that end with \".com\"\n",
        "pattern = r'\\b\\w+@[a-zA-Z_]+?\\.[a-zA-Z]{2,3}(?=\\.com)\\b'\n",
        "\n",
        "for email in emails:\n",
        "    match = re.search(pattern, email)\n",
        "    if match:\n",
        "        print(match.group())\n"
      ],
      "metadata": {
        "id": "v-YmpfGA7myq"
      },
      "execution_count": 63,
      "outputs": []
    },
    {
      "cell_type": "markdown",
      "source": [
        "Q6. In standard expressions, what is the difference between positive look-ahead and negative look-\n",
        "ahead?"
      ],
      "metadata": {
        "id": "ZagOACwY6WOB"
      }
    },
    {
      "cell_type": "markdown",
      "source": [
        "ANS--->In regular expressions, a positive lookahead is a construct that matches a group of characters only if they are followed by another specific group of characters. Positive lookahead is denoted by (?=...), where ... is the lookahead pattern.\n",
        "\n",
        "On the other hand, a negative lookahead is a construct that matches a group of characters only if they are not followed by another specific group of characters. Negative lookahead is denoted by (?!...), where ... is the lookahead pattern.\n",
        "\n",
        "For example, let's consider the string \"apple pie\" and the following regular expressions:\n",
        "\n",
        "apple(?=\\s) matches \"apple\" only if it is followed by a whitespace character.\n",
        "pie(?!crust) matches \"pie\" only if it is not followed by the string \"crust\".\n",
        "In the first example, the positive lookahead ensures that \"apple\" is only matched if it is followed by a space character, allowing us to match \"apple\" in \"apple pie\" without also matching \"apple\" in \"applepie\". In the second example, the negative lookahead ensures that \"pie\" is only matched if it is not followed by the string \"crust\", allowing us to match \"pie\" in \"apple pie\" without also matching \"pie\" in \"apple pie crust\""
      ],
      "metadata": {
        "id": "wBI6SJee7pgh"
      }
    },
    {
      "cell_type": "markdown",
      "source": [
        "Q7. What is the benefit of referring to groups by name rather than by number in a standard\n",
        "expression?"
      ],
      "metadata": {
        "id": "LcM2PnaR6TyJ"
      }
    },
    {
      "cell_type": "markdown",
      "source": [
        "ANS--->Referring to groups by name rather than by number in a standard expression provides better readability, maintainability, and ease of understanding to the regular expression. It helps to make the code self-documenting and easier to modify. Using named groups also allows accessing specific groups by their name instead of their index, which can be more intuitive and less error-prone. Additionally, named groups can be referred to multiple times within the same expression and can be reused in other parts of the program."
      ],
      "metadata": {
        "id": "ouwGZXDv7v2h"
      }
    },
    {
      "cell_type": "markdown",
      "source": [
        "Q8. Can you identify repeated items within a target string using named groups, as in &quot;The cow\n",
        "jumped over the moon&quot;?"
      ],
      "metadata": {
        "id": "XP5brvoC6Qub"
      }
    },
    {
      "cell_type": "markdown",
      "source": [
        "ANS--->Yes, we can identify repeated items within a target string using named groups in regular expressions. We can use the syntax (?P<name>...) to define a named group where name is the name of the group, and ... is the regular expression pattern for the group. We can then refer to the named group later in the pattern using \\g<name> or \\g<0> (for the entire match).\n",
        "\n",
        "For example, let's say we want to match any word that appears twice in a row in the string \"The cat cat jumped over the dog dog\". We can use a named group to match the repeated word as follows:"
      ],
      "metadata": {
        "id": "ky9MqoDk7zky"
      }
    },
    {
      "cell_type": "code",
      "source": [
        "import re\n",
        "\n",
        "pattern = r'\\b(?P<word>\\w+)\\s+(?P=word)\\b'\n",
        "text = 'The cat cat jumped over the dog dog'\n",
        "matches = re.findall(pattern, text)\n",
        "\n",
        "print(matches)  # Output: ['cat', 'dog']\n"
      ],
      "metadata": {
        "id": "J8lQCZFF73bY",
        "outputId": "05609da7-f4ae-45e9-bfe6-5e8e58045b8e",
        "colab": {
          "base_uri": "https://localhost:8080/"
        }
      },
      "execution_count": 64,
      "outputs": [
        {
          "output_type": "stream",
          "name": "stdout",
          "text": [
            "['cat', 'dog']\n"
          ]
        }
      ]
    },
    {
      "cell_type": "markdown",
      "source": [
        "Q9. When parsing a string, what is at least one thing that the Scanner interface does for you that the\n",
        "re.findall feature does not?"
      ],
      "metadata": {
        "id": "lcK6mtNU6NBp"
      }
    },
    {
      "cell_type": "markdown",
      "source": [
        "ANS--->In Python, the Scanner interface is not a built-in feature. It is available in Java and is used to parse input text into tokens. In Python, the closest equivalent would be the re.Scanner class.\n",
        "\n",
        "However, to answer the question, one thing that Scanner interface does for you that re.findall does not is that it allows you to specify patterns for different tokens and perform custom actions for each token. This can be useful when you need to parse complex input text and perform different actions depending on the token type. On the other hand, re.findall only returns a list of all non-overlapping matches of a pattern in a string, without any additional parsing or custom actions."
      ],
      "metadata": {
        "id": "zYWdgsJi78J4"
      }
    },
    {
      "cell_type": "markdown",
      "source": [
        "Q10. Does a scanner object have to be named scanner?"
      ],
      "metadata": {
        "id": "jVbXAici6IEh"
      }
    },
    {
      "cell_type": "markdown",
      "source": [
        "ANS--->No, a scanner object can be named anything as long as it follows the rules for valid identifier names in Python."
      ],
      "metadata": {
        "id": "0BV1tVPa8DIg"
      }
    }
  ]
}