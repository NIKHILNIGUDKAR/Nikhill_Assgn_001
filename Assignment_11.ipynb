{
  "nbformat": 4,
  "nbformat_minor": 0,
  "metadata": {
    "colab": {
      "provenance": []
    },
    "kernelspec": {
      "name": "python3",
      "display_name": "Python 3"
    },
    "language_info": {
      "name": "python"
    }
  },
  "cells": [
    {
      "cell_type": "markdown",
      "source": [
        "1. Create an assert statement that throws an AssertionError if the variable spam is a negative\n",
        "integer."
      ],
      "metadata": {
        "id": "eWSGNqVyxKkE"
      }
    },
    {
      "cell_type": "code",
      "source": [
        "spam=int(input())\n",
        "assert spam >= 0, \"spam must be a non-negative integer\""
      ],
      "metadata": {
        "colab": {
          "base_uri": "https://localhost:8080/",
          "height": 201
        },
        "id": "ESMknIHTxM6C",
        "outputId": "2b302623-f206-42e2-800a-c0327e1eec70"
      },
      "execution_count": 2,
      "outputs": [
        {
          "name": "stdout",
          "output_type": "stream",
          "text": [
            "-1\n"
          ]
        },
        {
          "output_type": "error",
          "ename": "AssertionError",
          "evalue": "ignored",
          "traceback": [
            "\u001b[0;31m---------------------------------------------------------------------------\u001b[0m",
            "\u001b[0;31mAssertionError\u001b[0m                            Traceback (most recent call last)",
            "\u001b[0;32m<ipython-input-2-9260a28a7568>\u001b[0m in \u001b[0;36m<cell line: 2>\u001b[0;34m()\u001b[0m\n\u001b[1;32m      1\u001b[0m \u001b[0mspam\u001b[0m\u001b[0;34m=\u001b[0m\u001b[0mint\u001b[0m\u001b[0;34m(\u001b[0m\u001b[0minput\u001b[0m\u001b[0;34m(\u001b[0m\u001b[0;34m)\u001b[0m\u001b[0;34m)\u001b[0m\u001b[0;34m\u001b[0m\u001b[0;34m\u001b[0m\u001b[0m\n\u001b[0;32m----> 2\u001b[0;31m \u001b[0;32massert\u001b[0m \u001b[0mspam\u001b[0m \u001b[0;34m>=\u001b[0m \u001b[0;36m0\u001b[0m\u001b[0;34m,\u001b[0m \u001b[0;34m\"spam must be a non-negative integer\"\u001b[0m\u001b[0;34m\u001b[0m\u001b[0;34m\u001b[0m\u001b[0m\n\u001b[0m",
            "\u001b[0;31mAssertionError\u001b[0m: spam must be a non-negative integer"
          ]
        }
      ]
    },
    {
      "cell_type": "markdown",
      "source": [
        "2. Write an assert statement that triggers an AssertionError if the variables eggs and bacon contain\n",
        "strings that are the same as each other, even if their cases are different (that is,'hello' and 'hello' are\n",
        "considered the same, and 'goodbye' and 'GOODbye' are also considered the same)."
      ],
      "metadata": {
        "id": "gXKUVLBLxsLS"
      }
    },
    {
      "cell_type": "code",
      "source": [
        "assert eggs.lower() != bacon.lower(), \"eggs and bacon should have different values\"\n"
      ],
      "metadata": {
        "id": "JD0J54GUxUj6"
      },
      "execution_count": null,
      "outputs": []
    },
    {
      "cell_type": "markdown",
      "source": [
        "3. Create an assert statement that throws an AssertionError every time."
      ],
      "metadata": {
        "id": "tOi0oQeQyGRT"
      }
    },
    {
      "cell_type": "code",
      "source": [
        "assert False, \"This assertion always fails\""
      ],
      "metadata": {
        "id": "L0JjOEQxx41q"
      },
      "execution_count": null,
      "outputs": []
    },
    {
      "cell_type": "markdown",
      "source": [
        "4. What are the two lines that must be present in your software in order to call logging.debug()?"
      ],
      "metadata": {
        "id": "0QhnxyzayPR5"
      }
    },
    {
      "cell_type": "code",
      "source": [
        "import logging\n",
        "logging.basicConfig(level=logging.DEBUG, format='%(asctime)s - %(levelname)s - %(message)s')"
      ],
      "metadata": {
        "id": "TE4TcRNDyUGn"
      },
      "execution_count": null,
      "outputs": []
    },
    {
      "cell_type": "markdown",
      "source": [
        "5. What are the two lines that your program must have in order to have logging.debug() send a\n",
        "logging message to a file named programLog.txt?"
      ],
      "metadata": {
        "id": "eq2aMP6xyZBZ"
      }
    },
    {
      "cell_type": "code",
      "source": [
        "import logging\n",
        "logging.basicConfig(filename='programLog.txt', level=logging.DEBUG, format='%(asctime)s - %(levelname)s - %(message)s')"
      ],
      "metadata": {
        "id": "X5BBUom-yYUJ"
      },
      "execution_count": null,
      "outputs": []
    },
    {
      "cell_type": "markdown",
      "source": [
        "6. What are the five levels of logging?"
      ],
      "metadata": {
        "id": "KF6OXYChyhuD"
      }
    },
    {
      "cell_type": "markdown",
      "source": [
        "ANS--->1)DEBUG: Detailed information, typically of interest only when diagnosing problems.\n",
        "\n",
        "2)INFO: General information about the application's operation.\n",
        "\n",
        "3)WARNING: An indication that something unexpected happened or indicative of some problem in the near future (e.g. 'disk space low'). The software is still working as expected.\n",
        "\n",
        "3)ERROR: Due to a more serious problem, the software has not been able to perform some function.\n",
        "\n",
        "4)CRITICAL: A very serious error, indicating that the program itself may be unable to continue running"
      ],
      "metadata": {
        "id": "09rcFYNtys2q"
      }
    },
    {
      "cell_type": "markdown",
      "source": [
        "7. What line of code would you add to your software to disable all logging messages?"
      ],
      "metadata": {
        "id": "PoBxaPy8y_1B"
      }
    },
    {
      "cell_type": "code",
      "source": [
        "logging.disable(logging.CRITICAL)"
      ],
      "metadata": {
        "id": "QnukqfBnyiFx"
      },
      "execution_count": null,
      "outputs": []
    },
    {
      "cell_type": "markdown",
      "source": [
        "8.Why is using logging messages better than using print() to display the same message?"
      ],
      "metadata": {
        "id": "2nwq8VxDzDwK"
      }
    },
    {
      "cell_type": "markdown",
      "source": [
        "ANS--->  While print() statements can be useful for quickly outputting information during development or debugging, using logging messages is generally a better approach for several reasons:\n",
        "\n",
        "1)Logging is more flexible: The logging module provides a wide range of logging levels that can be used to control the amount and severity of output. This makes it easy to adjust the level of detail in your log messages depending on the needs of your application, and to filter out irrelevant messages when analyzing logs.\n",
        "\n",
        "2)Logging is more granular: With logging, you can log messages from different parts of your code separately, allowing you to see which parts of your application are generating the most messages or encountering the most errors.\n",
        "\n",
        "3)Logging is extensible: The logging module can be easily extended with custom logging handlers, formatters, and filters to support a wide range of logging use cases.\n",
        "\n",
        "4)Logging is more performant: When you use print() statements to output messages, you're often writing to the console or terminal, which can be slow and resource-intensive. By contrast, logging messages can be directed to a file or other logging endpoint, which can be more efficient and scalable.\n",
        "\n",
        "5)Logging is more secure: When you output information using print() statements, you may inadvertently output sensitive information (like passwords or API keys) to the console or terminal, where it could be visible to other users or processes. By contrast, logging messages can be written to a secure location or encrypted for extra security.\n",
        "\n",
        "Overall, using logging messages is a more robust and maintainable way to output information from your application, and provides a wide range of benefits over using print() statements.\n"
      ],
      "metadata": {
        "id": "5CgUHAKYzVqS"
      }
    },
    {
      "cell_type": "markdown",
      "source": [
        "9. What are the differences between the Step Over, Step In, and Step Out buttons in the debugger?"
      ],
      "metadata": {
        "id": "wXUYKw5Uzk5y"
      }
    },
    {
      "cell_type": "markdown",
      "source": [
        "The Step Over, Step In, and Step Out buttons are common debugging features in integrated development environments (IDEs) like PyCharm, Visual Studio Code, and others. Here are the differences between these three buttons:\n",
        "\n",
        "1)Step Over: This button allows you to execute the current line of code, and then move to the next line of code in the current function. If the current line of code calls another function, the entire function call will be executed before the debugger moves to the next line of code.\n",
        "\n",
        "2)Step In: This button allows you to move the debugger into the function that's called by the current line of code. If the current line of code does not call a function, this button behaves like the Step Over button.\n",
        "\n",
        "3)Step Out: This button allows you to execute the remaining lines of code in the current function, and then move to the next line of code in the calling function. This button is useful when you're debugging a function that has already executed some lines of code, but you want to skip the remaining lines and move to the next function call.\n",
        "\n",
        "4)In summary, the Step Over button executes the current line of code and moves to the next line, the Step In button moves into a called function, and the Step Out button completes execution of the current function and moves to the next line in the calling function. These buttons provide a range of ways to control the execution of your code during debugging, and can help you quickly identify and fix issues in your application."
      ],
      "metadata": {
        "id": "tRqzt5tkz0pJ"
      }
    },
    {
      "cell_type": "markdown",
      "source": [
        "10.After you click Continue, when will the debugger stop ?"
      ],
      "metadata": {
        "id": "695idynsz_WC"
      }
    },
    {
      "cell_type": "markdown",
      "source": [
        "ANS--->When you click the Continue button in a debugger, the debugger will continue running your code without any further breakpoints until one of the following occurs:\n",
        "\n",
        "1)A breakpoint is encountered: If your code encounters a breakpoint that has been set, the debugger will stop at that breakpoint and allow you to step through or analyze your code as before.\n",
        "\n",
        "2)An exception is raised: If your code raises an unhandled exception, the debugger will stop at the point where the exception was raised and allow you to investigate the cause of the exception.\n",
        "\n",
        "3)Your code completes execution: If your code completes execution without encountering a breakpoint or an unhandled exception, the debugger will stop at the end of your program and allow you to analyze the final state of your application.\n",
        "\n",
        "4)In general, clicking the Continue button allows you to resume normal execution of your code and continue running until the next breakpoint or exception occurs. This can be useful when you want to quickly skip over a section of code or continue running until a specific condition is met."
      ],
      "metadata": {
        "id": "8LuLOFpi0FAi"
      }
    },
    {
      "cell_type": "markdown",
      "source": [
        "11. What is the concept of a breakpoint?"
      ],
      "metadata": {
        "id": "2Ytq05qd0QCj"
      }
    },
    {
      "cell_type": "markdown",
      "source": [
        "ANS--->A breakpoint is a debugging feature that allows you to pause the execution of your code at a specific line or statement, allowing you to inspect the current state of your program and analyze any issues or bugs. When a breakpoint is set, the debugger will stop at the line of code where the breakpoint is set, allowing you to step through the code, inspect variables and data structures, and evaluate expressions."
      ],
      "metadata": {
        "id": "JzbTTZzj0Tmy"
      }
    }
  ]
}