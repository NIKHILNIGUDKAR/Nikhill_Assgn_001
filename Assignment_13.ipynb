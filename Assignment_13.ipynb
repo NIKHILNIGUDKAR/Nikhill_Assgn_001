{
 "cells": [
  {
   "cell_type": "markdown",
   "id": "d2b832e1",
   "metadata": {},
   "source": [
    "1. What advantages do Excel spreadsheets have over CSV spreadsheets?"
   ]
  },
  {
   "cell_type": "markdown",
   "id": "1e0728dd",
   "metadata": {},
   "source": [
    "ANS--->Excel file format are better for storing more complex data.where as CSV file format is used to store all data interface\n",
    "If you are planning to move your data between platforms,export and import it from one interface to another, you  might be better off the CSV file format."
   ]
  },
  {
   "cell_type": "markdown",
   "id": "8b4b9839",
   "metadata": {},
   "source": [
    "2. What do you pass to csv.reader() and csv.writer() to create reader and writer objects?"
   ]
  },
  {
   "cell_type": "markdown",
   "id": "d034a642",
   "metadata": {},
   "source": [
    "ANS--->To read csv file we often use csv.reader() inside the parenthesis file name is given.The csv.writer() function returns a writer object that converts the user's data into a delimited string. This string can later be used to write into CSV files using the writerow() function. Let's take an example."
   ]
  },
  {
   "cell_type": "markdown",
   "id": "5d58f61b",
   "metadata": {},
   "source": [
    "3. What modes do File objects for reader and writer objects need to be opened in?"
   ]
  },
  {
   "cell_type": "markdown",
   "id": "e894864c",
   "metadata": {},
   "source": [
    "ANS--->In python, whenever we try read or write files we don’t need to import any library as it’s handled natively.\n",
    "The very first thing we’ll do is to use the built-in open function to get a file object.\n",
    "The open function opens a file and returns a file object. The file objects contains methods and attributes which latter can be used to retrieve information or manipulate the file you opened."
   ]
  },
  {
   "cell_type": "markdown",
   "id": "49141ecd",
   "metadata": {},
   "source": [
    "4. What method takes a list argument and writes it to a CSV file?"
   ]
  },
  {
   "cell_type": "markdown",
   "id": "73b3431e",
   "metadata": {},
   "source": [
    "ANS--->writerows() is used to take a list argument and writes it to csv file."
   ]
  },
  {
   "cell_type": "markdown",
   "id": "dd132fe6",
   "metadata": {},
   "source": [
    "5. What do the keyword arguments delimiter and line terminator do?"
   ]
  },
  {
   "cell_type": "markdown",
   "id": "f6608333",
   "metadata": {},
   "source": [
    "ANS--->The delimeter is the character that appears between cells and on row."
   ]
  },
  {
   "cell_type": "markdown",
   "id": "c44d27de",
   "metadata": {},
   "source": [
    "6. What function takes a string of JSON data and returns a Python data structure?"
   ]
  },
  {
   "cell_type": "markdown",
   "id": "3bdc95b4",
   "metadata": {},
   "source": [
    "ANS--->loads() method return Python data structure of JSON string or data."
   ]
  },
  {
   "cell_type": "markdown",
   "id": "896cf559",
   "metadata": {},
   "source": [
    "7. What function takes a Python data structure and returns a string of JSON data?"
   ]
  },
  {
   "cell_type": "markdown",
   "id": "e3333576",
   "metadata": {},
   "source": [
    "ANS--->json.dumps() takes a python data structure and returns a string of JSON data."
   ]
  }
 ],
 "metadata": {
  "kernelspec": {
   "display_name": "Python 3 (ipykernel)",
   "language": "python",
   "name": "python3"
  },
  "language_info": {
   "codemirror_mode": {
    "name": "ipython",
    "version": 3
   },
   "file_extension": ".py",
   "mimetype": "text/x-python",
   "name": "python",
   "nbconvert_exporter": "python",
   "pygments_lexer": "ipython3",
   "version": "3.9.13"
  }
 },
 "nbformat": 4,
 "nbformat_minor": 5
}
