{
  "nbformat": 4,
  "nbformat_minor": 0,
  "metadata": {
    "colab": {
      "provenance": []
    },
    "kernelspec": {
      "name": "python3",
      "display_name": "Python 3"
    },
    "language_info": {
      "name": "python"
    }
  },
  "cells": [
    {
      "cell_type": "markdown",
      "source": [
        "Q1. Can you create a programme or function that employs both positive and negative indexing? Is\n",
        "there any repercussion if you do so?"
      ],
      "metadata": {
        "id": "7sTgrI5LHyCz"
      }
    },
    {
      "cell_type": "markdown",
      "source": [
        "ANS--->Yes, we can create a program or function that employs both positive and negative indexing in Python. Positive indexing starts from 0 and goes up to the length of the string, while negative indexing starts from -1 and goes up to the length of the string in reverse order.\n",
        "There is no major repercussion if both positive and negative indexing are used together, except that it can make the code harder to read and understand, especially if used inconsistently or incorrectly. It is generally better to stick with one indexing convention (positive or negative) throughout the code to avoid confusion."
      ],
      "metadata": {
        "id": "mX2-zas3Ki4A"
      }
    },
    {
      "cell_type": "markdown",
      "source": [
        "Q2. What is the most effective way of starting with 1,000 elements in a Python list? Assume that all\n",
        "elements should be set to the same value."
      ],
      "metadata": {
        "id": "JwCREHiaKyrR"
      }
    },
    {
      "cell_type": "markdown",
      "source": [
        "ANS--->The most effective way of starting with 1,000 elements in a Python list with all elements set to the same value is to use the list multiplication operator * to create a new list with the desired number of elements, and then initialize all elements in the list to the same value using a loop or list comprehension."
      ],
      "metadata": {
        "id": "1LOVNOuQK3p5"
      }
    },
    {
      "cell_type": "markdown",
      "source": [
        "Q3. How do you slice a list to get any other part while missing the rest? (For example, suppose you\n",
        "want to make a new list with the elements first, third, fifth, seventh, and so on.)"
      ],
      "metadata": {
        "id": "MW2ErhY3LDYe"
      }
    },
    {
      "cell_type": "markdown",
      "source": [
        "ANS--->To slice a list and extract every other element, you can use the slicing syntax start:stop:step, where step is set to 2 to skip every other element."
      ],
      "metadata": {
        "id": "5LJqiWE8LrBR"
      }
    },
    {
      "cell_type": "markdown",
      "source": [
        "Q4. Explain the distinctions between indexing and slicing."
      ],
      "metadata": {
        "id": "JWR2F_9dLJQh"
      }
    },
    {
      "cell_type": "markdown",
      "source": [
        "ANS--->indexing is mostly used to denote the position of the characters in the string whereas slicing is used to get the elements out of the string. indexing starts from 0 or -1 in case of slicing it starts from any number to any number we can provide the step in slicing."
      ],
      "metadata": {
        "id": "1CjhS703LL_Z"
      }
    },
    {
      "cell_type": "markdown",
      "source": [
        "Q5. What happens if one of the slicing expression&#39;s indexes is out of range?"
      ],
      "metadata": {
        "id": "217yVHQdLxcP"
      }
    },
    {
      "cell_type": "markdown",
      "source": [
        "ANS--->It will throw indexError index is out of the range."
      ],
      "metadata": {
        "id": "TIl2ljICL0rK"
      }
    },
    {
      "cell_type": "markdown",
      "source": [
        "Q6. If you pass a list to a function, and if you want the function to be able to change the values of the\n",
        "list—so that the list is different after the function returns—what action should you avoid?"
      ],
      "metadata": {
        "id": "HQr8GUkOMEn4"
      }
    },
    {
      "cell_type": "markdown",
      "source": [
        "ANS--->If you want a function to modify the values of a list that is passed as an argument, you should avoid reassigning the list variable to a new list object within the function. This is because doing so creates a new list object with a new memory address, and any changes made to the new list will not affect the original list."
      ],
      "metadata": {
        "id": "ZIt3B46xMF5w"
      }
    },
    {
      "cell_type": "markdown",
      "source": [
        "Q7. What is the concept of an unbalanced matrix?"
      ],
      "metadata": {
        "id": "cZZ5R-glMToP"
      }
    },
    {
      "cell_type": "markdown",
      "source": [
        "ANS--->An unbalanced matrix is a matrix (usually a two-dimensional array) in which the number of elements in each row or column is not the same. In other words, the matrix is not \"balanced\" or \"square\" in terms of its dimensions"
      ],
      "metadata": {
        "id": "HYduN2SiMUsp"
      }
    },
    {
      "cell_type": "markdown",
      "source": [
        "Q8. Why is it necessary to use either list comprehension or a loop to create arbitrarily large matrices?"
      ],
      "metadata": {
        "id": "kDz5fshLMdUX"
      }
    },
    {
      "cell_type": "markdown",
      "source": [
        "ANS--->It is necessary to use either list comprehension or a loop to create arbitrarily large matrices because Python does not provide a built-in data structure that allows for the creation of matrices of arbitrary size. While Python's built-in list data type can be used to represent a matrix, it is only suitable for small to medium-sized matrices because of its memory limitations."
      ],
      "metadata": {
        "id": "HQqSZAWOMhDY"
      }
    }
  ]
}