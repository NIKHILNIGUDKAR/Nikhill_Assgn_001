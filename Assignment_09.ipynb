{
 "cells": [
  {
   "cell_type": "markdown",
   "id": "0c29681c",
   "metadata": {},
   "source": [
    "1. To what does a relative path refer?"
   ]
  },
  {
   "cell_type": "markdown",
   "id": "1727bed6",
   "metadata": {},
   "source": [
    "ANS--->It is the way to specify the location of the directory releative to another directory."
   ]
  },
  {
   "cell_type": "markdown",
   "id": "d1550c96",
   "metadata": {},
   "source": [
    "2. What does an absolute path start with your operating system?"
   ]
  },
  {
   "cell_type": "markdown",
   "id": "f81f6335",
   "metadata": {},
   "source": [
    "ANS---> Absolute path is a complete path from start of actual filesystem from / directory."
   ]
  },
  {
   "cell_type": "markdown",
   "id": "a49f542c",
   "metadata": {},
   "source": [
    "3. What do the functions os.getcwd() and os.chdir() do?"
   ]
  },
  {
   "cell_type": "markdown",
   "id": "da994ffa",
   "metadata": {},
   "source": [
    "ANS--->getcwd() : CWD stands for Current Working Directory. This function allows you to see what your current working directory is.\n",
    "chdir() : Short for Change Directory, this function allows you to set the current working directory to a path of your choice."
   ]
  },
  {
   "cell_type": "markdown",
   "id": "3cd4ba5b",
   "metadata": {},
   "source": [
    "4. What are the . and .. folders?"
   ]
  },
  {
   "cell_type": "markdown",
   "id": "f4309fd3",
   "metadata": {},
   "source": [
    "ANS--->A directory is a collection of files and subdirectories. A directory inside a directory is known as a subdirectory. Python has the os module that provides us with many useful methods to work with directories ."
   ]
  },
  {
   "cell_type": "markdown",
   "id": "e3503b86",
   "metadata": {},
   "source": [
    "5. In C:\\bacon\\eggs\\spam.txt, which part is the dir name, and which part is the base name?"
   ]
  },
  {
   "cell_type": "markdown",
   "id": "07f8208c",
   "metadata": {},
   "source": [
    "ANS--->spam.txt is the base name."
   ]
  },
  {
   "cell_type": "markdown",
   "id": "e6b88de7",
   "metadata": {},
   "source": [
    "6. What are the three “mode” arguments that can be passed to the open() function?"
   ]
  },
  {
   "cell_type": "markdown",
   "id": "a73454fa",
   "metadata": {},
   "source": [
    "ANS--->1)r:opens read only mode\n",
    "2)w:opens write only mode.\n",
    "3)w+:opens with write and read mode."
   ]
  },
  {
   "cell_type": "markdown",
   "id": "99de178c",
   "metadata": {},
   "source": [
    "7. What happens if an existing file is opened in write mode?"
   ]
  },
  {
   "cell_type": "markdown",
   "id": "20707985",
   "metadata": {},
   "source": [
    "ANS---> It's contents are discarded and the file is treated as a new empty file"
   ]
  },
  {
   "cell_type": "markdown",
   "id": "f4c2c681",
   "metadata": {},
   "source": [
    "8. How do you tell the difference between read() and readlines()?"
   ]
  },
  {
   "cell_type": "markdown",
   "id": "397ce36f",
   "metadata": {},
   "source": [
    "ANS--->The read() will read the whole file at once and then print out the first characters that take up as many bytes as you specify in the parenthesis Where the readline() that will read and print out only the first characters that take up as many bytes as you specify in the parenthesis."
   ]
  },
  {
   "cell_type": "markdown",
   "id": "cd8b8632",
   "metadata": {},
   "source": [
    "9. What data structure does a shelf value resemble?"
   ]
  },
  {
   "cell_type": "markdown",
   "id": "bf3df28b",
   "metadata": {},
   "source": [
    "ANS--->shelf values resembles dictionary values which contain keys and values."
   ]
  }
 ],
 "metadata": {
  "kernelspec": {
   "display_name": "Python 3 (ipykernel)",
   "language": "python",
   "name": "python3"
  },
  "language_info": {
   "codemirror_mode": {
    "name": "ipython",
    "version": 3
   },
   "file_extension": ".py",
   "mimetype": "text/x-python",
   "name": "python",
   "nbconvert_exporter": "python",
   "pygments_lexer": "ipython3",
   "version": "3.9.13"
  }
 },
 "nbformat": 4,
 "nbformat_minor": 5
}
