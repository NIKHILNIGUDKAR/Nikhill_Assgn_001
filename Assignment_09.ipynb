{
 "cells": [
  {
   "cell_type": "markdown",
   "id": "788b2c5c",
   "metadata": {},
   "source": [
    "Q1. In Python 3.X, what are the names and functions of string object types?"
   ]
  },
  {
   "cell_type": "markdown",
   "id": "05cee263",
   "metadata": {},
   "source": [
    "ANS:1.str: The str object represents a sequence of Unicode characters. This is the most commonly used string object type in Python 3.x. You can create a str object by enclosing a sequence of characters in 'single quotes' or \"double quotes\". For example: my_string = \"Hello, World!\".\n",
    "2. bytes: The bytes object represents a sequence of bytes. This type is used to store raw binary data, such as images or sound files. You can create a bytes object by enclosing a sequence of integers in square brackets and prefixing the brackets with the letter 'b'.\n",
    "Both str and bytes objects have a number of built-in methods for manipulating and formatting strings, such as split(), strip(), replace(), format(), and many others."
   ]
  },
  {
   "cell_type": "markdown",
   "id": "3c77ec2e",
   "metadata": {},
   "source": [
    "Q2. How do the string forms in Python 3.X vary in terms of operations?"
   ]
  },
  {
   "cell_type": "markdown",
   "id": "5aa134ed",
   "metadata": {},
   "source": [
    "ANS: 'str' string represents Unicode characters which are immutable.On string we can operate \n",
    "various operations such as split(), upper(),lower(),capatalize().It can also operates by using \n",
    "'+' to concatenate the string and '*' is used to print string multiple times.\n",
    "Bytes are also immutable it also supports \"+\" and \"*\" operators .it also has some unique \n",
    "operations, such as the bytearray() function which allows you to create a mutable byte \n",
    "array, and methods like hex() and fromhex() for working with hexadecimal representations of bytes."
   ]
  },
  {
   "cell_type": "markdown",
   "id": "d41363a3",
   "metadata": {},
   "source": [
    "Q3. In 3.X, how do you put non-ASCII Unicode characters in a string?"
   ]
  },
  {
   "cell_type": "markdown",
   "id": "ae1bec1e",
   "metadata": {},
   "source": [
    "ANS:In Python 3.x, we can include non-ASCII Unicode characters in a string by simply including the character in the string literal. This is because Python 3.x strings are Unicode by default, meaning that they can represent any Unicode character."
   ]
  },
  {
   "cell_type": "code",
   "execution_count": 35,
   "id": "653dc9c0",
   "metadata": {},
   "outputs": [],
   "source": [
    "#Example\n",
    "my_string = \"The price is \\u20AC10.\""
   ]
  },
  {
   "cell_type": "code",
   "execution_count": 36,
   "id": "e67ca25a",
   "metadata": {},
   "outputs": [
    {
     "data": {
      "text/plain": [
       "'The price is €10.'"
      ]
     },
     "execution_count": 36,
     "metadata": {},
     "output_type": "execute_result"
    }
   ],
   "source": [
    " my_string"
   ]
  },
  {
   "cell_type": "markdown",
   "id": "cfd9e96f",
   "metadata": {},
   "source": [
    "Q4. In Python 3.X, what are the key differences between text-mode and binary-mode files?"
   ]
  },
  {
   "cell_type": "markdown",
   "id": "bacec348",
   "metadata": {},
   "source": [
    "ANS:In text mode data is read and written as unicode string whereas in binary mode data is read \n",
    "written as byte.In text mode is used for working with text files, such as .txt or .csv files. In binary mode for working with non-text files, such as images, audio files, or executable files."
   ]
  },
  {
   "cell_type": "markdown",
   "id": "44314cfb",
   "metadata": {},
   "source": [
    "Q5. How can you interpret a Unicode text file containing text encoded in a different encoding than your platform's default?"
   ]
  },
  {
   "cell_type": "code",
   "execution_count": null,
   "id": "eb42123d",
   "metadata": {},
   "outputs": [],
   "source": [
    "with open('myfile.txt', mode='r', encoding='iso-8859-1') as f:\n",
    "    content = f.read()"
   ]
  },
  {
   "cell_type": "code",
   "execution_count": 38,
   "id": "f664faac",
   "metadata": {},
   "outputs": [],
   "source": [
    "Q6. What is the best way to make a Unicode text file in a particular encoding format?"
   ]
  },
  {
   "cell_type": "code",
   "execution_count": null,
   "id": "9a67a746",
   "metadata": {},
   "outputs": [],
   "source": [
    "with open('myfile.txt', mode='w', encoding='iso-8859-1') as f:\n",
    "    f.write('Hello, world!')"
   ]
  },
  {
   "cell_type": "code",
   "execution_count": null,
   "id": "fc5ecd43",
   "metadata": {},
   "outputs": [],
   "source": [
    "Q7. What qualifies ASCII text as a form of Unicode text?"
   ]
  },
  {
   "cell_type": "markdown",
   "id": "02d1b5af",
   "metadata": {},
   "source": [
    "ANS:ASCII (American Standard Code for Information Interchange) is a character encoding standard that uses 7-bit binary codes to represent characters. The ASCII character set includes characters for the English alphabet (both uppercase and lowercase), digits, and a range of symbols."
   ]
  },
  {
   "cell_type": "code",
   "execution_count": null,
   "id": "07239952",
   "metadata": {},
   "outputs": [],
   "source": [
    "Q8. How much of an effect does the change in string types in Python 3.X have on your code?"
   ]
  },
  {
   "cell_type": "markdown",
   "id": "61cd909e",
   "metadata": {},
   "source": [
    "ANS: If your code handles non-ASCII characters, you will need to ensure that your strings are properly encoded and decoded using the appropriate encoding. In Python 2.X, you could often get away with assuming that strings were ASCII-encoded, but in Python 3.X, you will need to be more explicit about how you handle string encodings.\n",
    "\n",
    "Some third-party libraries may not be fully compatible with Python 3.X's Unicode strings, which could cause issues when using those libraries in your code.\n",
    "The syntax for print statements has changed in Python 3.X, so if your code includes print statements that rely on the old syntax, you will need to update those statements."
   ]
  }
 ],
 "metadata": {
  "kernelspec": {
   "display_name": "Python 3 (ipykernel)",
   "language": "python",
   "name": "python3"
  },
  "language_info": {
   "codemirror_mode": {
    "name": "ipython",
    "version": 3
   },
   "file_extension": ".py",
   "mimetype": "text/x-python",
   "name": "python",
   "nbconvert_exporter": "python",
   "pygments_lexer": "ipython3",
   "version": "3.10.9"
  }
 },
 "nbformat": 4,
 "nbformat_minor": 5
}
