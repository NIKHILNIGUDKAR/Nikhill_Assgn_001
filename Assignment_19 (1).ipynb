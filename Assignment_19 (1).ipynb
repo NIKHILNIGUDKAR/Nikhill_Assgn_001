{
  "nbformat": 4,
  "nbformat_minor": 0,
  "metadata": {
    "colab": {
      "provenance": []
    },
    "kernelspec": {
      "name": "python3",
      "display_name": "Python 3"
    },
    "language_info": {
      "name": "python"
    }
  },
  "cells": [
    {
      "cell_type": "markdown",
      "source": [
        "Question1\n",
        "Create a function that takes a string and returns a string in which each character is repeated\n",
        "once.\n",
        "\n",
        "Examples\n",
        "\n",
        "double_char(&quot;String&quot;) ➞ &quot;SSttrriinngg&quot;\n",
        "\n",
        "double_char(&quot;Hello World!&quot;) ➞ &quot;HHeelllloo WWoorrlldd!!&quot;\n",
        "\n",
        "double_char(&quot;1234!_ &quot;) ➞ &quot;11223344!!__ &quot;"
      ],
      "metadata": {
        "id": "qjdbrThgwZjn"
      }
    },
    {
      "cell_type": "code",
      "source": [
        "def double_char(string):\n",
        "    result = \"\"\n",
        "    for char in string:\n",
        "        result += char * 2\n",
        "    return result"
      ],
      "metadata": {
        "id": "d4rpVZ6Ewiae"
      },
      "execution_count": 43,
      "outputs": []
    },
    {
      "cell_type": "markdown",
      "source": [
        "Question2\n",
        "Create a function that reverses a boolean value and returns the string &quot;boolean expected&quot;\n",
        "if another variable type is given."
      ],
      "metadata": {
        "id": "RSzqto6Ow4nf"
      }
    },
    {
      "cell_type": "code",
      "source": [
        "def reverse_bool(b):\n",
        "    if type(b) != bool:\n",
        "        return \"boolean expected\"\n",
        "    return not b"
      ],
      "metadata": {
        "id": "bzdX04VEwxcn"
      },
      "execution_count": 44,
      "outputs": []
    },
    {
      "cell_type": "markdown",
      "source": [
        "Question3\n",
        "Create a function that returns the thickness (in meters) of a piece of paper after folding it n\n",
        "number of times. The paper starts off with a thickness of 0.5mm."
      ],
      "metadata": {
        "id": "otITjUt3xCW9"
      }
    },
    {
      "cell_type": "code",
      "source": [
        "def paper_thickness(n):\n",
        "    return 0.0005 * 2 ** n"
      ],
      "metadata": {
        "id": "icQWRsyhw_EV"
      },
      "execution_count": 45,
      "outputs": []
    },
    {
      "cell_type": "markdown",
      "source": [
        "Question4\n",
        "\n",
        "Create a function that takes a single string as argument and returns an ordered list containing\n",
        "the indices of all capital letters in the string."
      ],
      "metadata": {
        "id": "0ROBrbuLxM-X"
      }
    },
    {
      "cell_type": "code",
      "source": [
        "def capital_indices(string):\n",
        "    indices = []\n",
        "    for i in range(len(string)):\n",
        "        if string[i].isupper():\n",
        "            indices.append(i)\n",
        "    return indices\n"
      ],
      "metadata": {
        "id": "nlZfqx9vxJwO"
      },
      "execution_count": 46,
      "outputs": []
    },
    {
      "cell_type": "markdown",
      "source": [
        "Question5\n",
        "Using list comprehensions, create a function that finds all even numbers from 1 to the given\n",
        "number."
      ],
      "metadata": {
        "id": "kVD88YgixXAe"
      }
    },
    {
      "cell_type": "code",
      "source": [
        "def find_even_numbers(n):\n",
        "    return [i for i in range(1, n+1) if i % 2 == 0]"
      ],
      "metadata": {
        "id": "8N54hzRSxT8d"
      },
      "execution_count": 47,
      "outputs": []
    }
  ]
}