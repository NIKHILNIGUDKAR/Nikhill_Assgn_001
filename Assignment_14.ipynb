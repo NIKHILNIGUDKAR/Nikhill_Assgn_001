{
 "cells": [
  {
   "cell_type": "markdown",
   "id": "36c945aa",
   "metadata": {},
   "source": [
    "1. What does RGBA stand for?"
   ]
  },
  {
   "cell_type": "markdown",
   "id": "99c91444",
   "metadata": {},
   "source": [
    "ANS:RGBA stands for Red , Green, Blue , Alpha"
   ]
  },
  {
   "cell_type": "markdown",
   "id": "e17216ee",
   "metadata": {},
   "source": [
    "2. From the Pillow module, how do you get the RGBA value of any images?"
   ]
  },
  {
   "cell_type": "markdown",
   "id": "a9b32b84",
   "metadata": {},
   "source": [
    "ANS: Pillow offers the ImageColor. getcolor() function so we don't have to memorize RGBA values for the colors we want to use. This function takes a color name string as its first argument and the string 'RGBA' as its second argument and it returns an RGBA tuple."
   ]
  },
  {
   "cell_type": "markdown",
   "id": "bda7505e",
   "metadata": {},
   "source": [
    "3. What is a box tuple, and how does it work?"
   ]
  },
  {
   "cell_type": "markdown",
   "id": "9b88ac1b",
   "metadata": {},
   "source": [
    "ANS:The box tuple provides read only access for the tuple user datatype."
   ]
  },
  {
   "cell_type": "markdown",
   "id": "e83233d0",
   "metadata": {},
   "source": [
    "4. Use your image and load in notebook then, How can you find out the width and height of an Image object?"
   ]
  },
  {
   "cell_type": "code",
   "execution_count": 2,
   "id": "fe98416b",
   "metadata": {},
   "outputs": [
    {
     "name": "stdout",
     "output_type": "stream",
     "text": [
      "The height of the image is:  720\n",
      "The width of the image is:  1280\n"
     ]
    }
   ],
   "source": [
    "from PIL import Image\n",
    "\n",
    "# get image\n",
    "filepath = \"F:\\\\Pearl Igneous Black (1).png\"\n",
    "img = Image.open(filepath)\n",
    "\n",
    "# get width and height\n",
    "width = img.width\n",
    "height = img.height\n",
    "\n",
    "# display width and height\n",
    "print(\"The height of the image is: \", height)\n",
    "print(\"The width of the image is: \", width)\n"
   ]
  },
  {
   "cell_type": "markdown",
   "id": "138920f8",
   "metadata": {},
   "source": [
    "5. What method would you call to get Image object for a 100×100 image, excluding the lower-left quarter of it?"
   ]
  },
  {
   "cell_type": "code",
   "execution_count": 3,
   "id": "92ce7fa8",
   "metadata": {},
   "outputs": [],
   "source": [
    "from PIL import Image\n",
    "import numpy as np\n",
    "\n",
    "img = Image.open('F:\\\\Pearl Igneous Black (1).png')\n",
    "\n",
    "img_array = np.array(img)\n",
    "\n",
    "new_img_array = img_array[:50, 50:]\n",
    "\n",
    "new_img = Image.fromarray(new_img_array)\n",
    "\n",
    "new_img.show()\n"
   ]
  },
  {
   "cell_type": "markdown",
   "id": "683d87f6",
   "metadata": {},
   "source": [
    "6. After making changes to an Image object, how could you save it as an image file?"
   ]
  },
  {
   "cell_type": "code",
   "execution_count": 4,
   "id": "a5d16567",
   "metadata": {},
   "outputs": [],
   "source": [
    "from PIL import Image\n",
    "\n",
    "img = Image.open('F:\\\\Pearl Igneous Black (1).png')\n",
    "\n",
    "img.save(\"F:\\\\Pearl Igneous Black (1).png\", 'PNG')\n"
   ]
  },
  {
   "cell_type": "markdown",
   "id": "b9353c7c",
   "metadata": {},
   "source": [
    "7. What module contains Pillow’s shape-drawing code?"
   ]
  },
  {
   "cell_type": "markdown",
   "id": "786a3629",
   "metadata": {},
   "source": [
    "ANS:The ImageDraw module contains the Pilow's shape-drawing code."
   ]
  },
  {
   "cell_type": "markdown",
   "id": "1ad67613",
   "metadata": {},
   "source": [
    "8. Image objects do not have drawing methods. What kind of object does? How do you get this kind of object?"
   ]
  },
  {
   "cell_type": "code",
   "execution_count": 5,
   "id": "80f5eda6",
   "metadata": {},
   "outputs": [],
   "source": [
    "from PIL import Image, ImageDraw\n",
    "\n",
    "\n",
    "img = Image.open('F:\\\\Pearl Igneous Black (1).png')\n",
    "\n",
    "draw = ImageDraw.Draw(img)\n",
    "\n",
    "draw.rectangle((50, 50, 100, 100), outline='red')\n",
    "\n",
    "img.show()\n"
   ]
  }
 ],
 "metadata": {
  "kernelspec": {
   "display_name": "Python 3 (ipykernel)",
   "language": "python",
   "name": "python3"
  },
  "language_info": {
   "codemirror_mode": {
    "name": "ipython",
    "version": 3
   },
   "file_extension": ".py",
   "mimetype": "text/x-python",
   "name": "python",
   "nbconvert_exporter": "python",
   "pygments_lexer": "ipython3",
   "version": "3.9.13"
  }
 },
 "nbformat": 4,
 "nbformat_minor": 5
}
