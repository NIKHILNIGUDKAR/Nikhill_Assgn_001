{
  "nbformat": 4,
  "nbformat_minor": 0,
  "metadata": {
    "colab": {
      "provenance": []
    },
    "kernelspec": {
      "name": "python3",
      "display_name": "Python 3"
    },
    "language_info": {
      "name": "python"
    }
  },
  "cells": [
    {
      "cell_type": "markdown",
      "source": [
        "Q1. Is an assignment operator like += only for show? Is it possible that it would lead to faster results\n",
        "at the runtime?"
      ],
      "metadata": {
        "id": "XZb19PwAM7f7"
      }
    },
    {
      "cell_type": "markdown",
      "source": [
        "ANS--->No, an assignment operator like += is not only for show. In fact, it can often lead to faster results at runtime than using separate assignment and addition operations.\n",
        "\n",
        "When you use the += operator to add a value to a variable, Python can often optimize the operation by modifying the existing object in place, rather than creating a new object and assigning it to the variable. This can be more efficient in terms of both time and memory usage, especially when dealing with large data structures."
      ],
      "metadata": {
        "id": "RpnjZL4hNDcA"
      }
    },
    {
      "cell_type": "markdown",
      "source": [
        "Q2. What is the smallest number of statements you&#39;d have to write in most programming languages to\n",
        "replace the Python expression a, b = a + b, a?"
      ],
      "metadata": {
        "id": "qVRG9WilNG4Y"
      }
    },
    {
      "cell_type": "markdown",
      "source": [
        "ANS--->In most programming languages, three statements would be needed to replace the Python expression a, b = a + b, a. Here are the three statements that would be required:\n",
        "\n",
        "temp = a + b\n",
        "\n",
        "a = b\n",
        "\n",
        "b = temp\n",
        "\n",
        "The first statement calculates the sum of a and b and stores it in a temporary variable called temp. The second statement assigns the value of b to a, effectively replacing the original value of a with the sum of a and b. Finally, the third statement assigns the value of temp (which contains the original value of a + b) to b, effectively replacing the original value of b with the original value of a."
      ],
      "metadata": {
        "id": "wf6crb-QNKAw"
      }
    },
    {
      "cell_type": "markdown",
      "source": [
        "Q3. In Python, what is the most effective way to set a list of 100 integers to 0?"
      ],
      "metadata": {
        "id": "BjFRcyOINX0n"
      }
    },
    {
      "cell_type": "markdown",
      "source": [
        "ANS--->The most effective way to set a list of 100 integers to 0 in Python is to use the list multiplication syntax along with the list comprehension"
      ],
      "metadata": {
        "id": "j-Up6SpANY2f"
      }
    },
    {
      "cell_type": "markdown",
      "source": [
        "Q4. What is the most effective way to initialise a list of 99 integers that repeats the sequence 1, 2, 3?\n",
        "S If necessary, show step-by-step instructions on how to accomplish this."
      ],
      "metadata": {
        "id": "BcnCns_9NjMf"
      }
    },
    {
      "cell_type": "markdown",
      "source": [
        "ANS--->The most effective way to initialize a list of 99 integers that repeats the sequence 1, 2, 3 is to use the list comprehension along with the modulo operator\n",
        "\n",
        "range(99) creates a sequence of integers from 0 to 98 (99 integers in total).\n",
        "for i in range(99) iterates over this sequence, assigning each integer to the variable i.\n",
        "i % 3 computes the remainder when i is divided by 3. This will result in a sequence of 0s, 1s, and 2s.\n",
        "+ 1 adds 1 to each remainder, resulting in a sequence of 1s, 2s, and 3s.\n",
        "The entire expression i % 3 + 1 is enclosed in square brackets and placed before the for loop. This creates a list comprehension that generates a list of 99 integers, each of which is either 1, 2, or 3, depending on the value of i."
      ],
      "metadata": {
        "id": "lxxIiCQgNnZQ"
      }
    },
    {
      "cell_type": "markdown",
      "source": [
        "Q5. If you&#39;re using IDLE to run a Python application, explain how to print a multidimensional list as\n",
        "efficiently?"
      ],
      "metadata": {
        "id": "LmbV6WReN1hn"
      }
    },
    {
      "cell_type": "markdown",
      "source": [
        "To print a multidimensional list efficiently in IDLE, you can use the pprint module. The pprint module provides a pprint() function that pretty-prints a Python object, such as a list, dictionary, or tuple. It displays the object in a way that is easy to read and understand."
      ],
      "metadata": {
        "id": "jYMFClt3OX2v"
      }
    },
    {
      "cell_type": "markdown",
      "source": [
        "Q6. Is it possible to use list comprehension with a string? If so, how can you go about doing it?"
      ],
      "metadata": {
        "id": "lEO64Yd7ONlm"
      }
    },
    {
      "cell_type": "markdown",
      "source": [
        "ANS--->Yes, it is possible to use list comprehension with a string. In fact, list comprehension can be used with any iterable object in Python, including strings."
      ],
      "metadata": {
        "id": "h9G2dHj1OfNP"
      }
    },
    {
      "cell_type": "code",
      "source": [
        "my_string = \"hello world\"\n",
        "char_list = [char for char in my_string]\n",
        "print(char_list)"
      ],
      "metadata": {
        "colab": {
          "base_uri": "https://localhost:8080/"
        },
        "id": "1gV-ZUGfOkN5",
        "outputId": "f9582cf4-8f1a-476e-e9c0-cdd3f07a5208"
      },
      "execution_count": 1,
      "outputs": [
        {
          "output_type": "stream",
          "name": "stdout",
          "text": [
            "['h', 'e', 'l', 'l', 'o', ' ', 'w', 'o', 'r', 'l', 'd']\n"
          ]
        }
      ]
    },
    {
      "cell_type": "markdown",
      "source": [
        "Q7. From the command line, how do you get support with a user-written Python programme? Is this\n",
        "possible from inside IDLE?"
      ],
      "metadata": {
        "id": "1Gr-KwWYOOHn"
      }
    },
    {
      "cell_type": "markdown",
      "source": [
        "Yes, it is possible to get support with a user-written Python program from inside IDLE as well as from the command line."
      ],
      "metadata": {
        "id": "QUKRnHkaOOhX"
      }
    },
    {
      "cell_type": "markdown",
      "source": [
        "Q8. Functions are said to be “first-class objects” in Python but not in most other languages, such as\n",
        "C++ or Java. What can you do in Python with a function (callable object) that you can&#39;t do in C or\n",
        "C++?"
      ],
      "metadata": {
        "id": "I3hGnPZxO5W_"
      }
    },
    {
      "cell_type": "markdown",
      "source": [
        "ANS---> include:\n",
        "\n",
        "1. Assigning a function to a variable: In Python, you can assign a function to a variable just like any other object. This allows you to pass functions as arguments to other functions, store them in data structures, and even return them as values from other functions. This is not possible in C or C++.\n",
        "\n",
        "2. Defining functions inside functions: In Python, you can define functions inside other functions, which can be useful for encapsulating functionality and reducing code duplication. This is not possible in C or C++.\n",
        "\n",
        "3. Passing functions as arguments: In Python, you can pass functions as arguments to other functions. This allows you to write higher-order functions that can manipulate other functions based on their behavior. This is not possible in C or C++.\n",
        "\n",
        "4. Returning functions from functions: In Python, you can return functions as values from other functions. This allows you to write factory functions that can generate other functions based on their input arguments. This is not possible in C or C++.\n",
        "\n",
        "5. Decorators: In Python, you can use decorators to modify the behavior of functions. Decorators are functions that take other functions as input and return a new function that wraps the input function. This is not possible in C or C++."
      ],
      "metadata": {
        "id": "MIeg9FMXO9UE"
      }
    },
    {
      "cell_type": "markdown",
      "source": [
        "Q9. How do you distinguish between a wrapper, a wrapped feature, and a decorator?"
      ],
      "metadata": {
        "id": "5ZlfxDBhPNmm"
      }
    },
    {
      "cell_type": "markdown",
      "source": [
        "ANS--->a wrapper is a function that takes in another function as input, executes it, and returns the result. It \"wraps\" the original function with additional functionality.\n",
        "\n",
        "A wrapped feature is a function or object that is being wrapped or decorated. It is the original feature that is being extended or modified by the decorator or wrapper.\n",
        "\n",
        "A decorator is a special type of wrapper that modifies or extends the behavior of a function or class. Decorators are applied using the \"@\" symbol before the function or class being decorated."
      ],
      "metadata": {
        "id": "1E0dfQHYPP6o"
      }
    },
    {
      "cell_type": "markdown",
      "source": [
        "Q10. If a function is a generator function, what does it return?"
      ],
      "metadata": {
        "id": "Ihy4imkEOPP2"
      }
    },
    {
      "cell_type": "markdown",
      "source": [
        "ANS--->A generator function in Python does not return a normal value like other functions. Instead, it returns a generator object that can be used to iterate over a sequence of values. The generator object can be created using the yield statement inside the function. Each time the yield statement is executed, the function returns a value and pauses its execution, allowing the caller to use the returned value. The generator function can then be resumed from where it left off by calling next() on the generator object. The generator function continues to yield values until there are no more values to yield, at which point the function exits."
      ],
      "metadata": {
        "id": "xeBZbcc6PbAf"
      }
    }
  ]
}