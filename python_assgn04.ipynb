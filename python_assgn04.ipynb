{
  "nbformat": 4,
  "nbformat_minor": 0,
  "metadata": {
    "colab": {
      "provenance": []
    },
    "kernelspec": {
      "name": "python3",
      "display_name": "Python 3"
    },
    "language_info": {
      "name": "python"
    }
  },
  "cells": [
    {
      "cell_type": "markdown",
      "source": [
        "1. What exactly is [ ]?\n",
        "\n",
        "Ans---> these square brackets are used to denote the list. sometimes while to denote the index or in index slicing it is used."
      ],
      "metadata": {
        "id": "v8KVQBydtlyv"
      }
    },
    {
      "cell_type": "markdown",
      "source": [
        "2. In a list of values stored in a variable called spam, how would you assign the value 'hello' as the\n",
        "third value? (Assume [2, 4, 6, 8, 10] are in spam.)\n"
      ],
      "metadata": {
        "id": "rPuh0Qaquebu"
      }
    },
    {
      "cell_type": "code",
      "source": [
        "spam =[2,4,6,8,10]\n",
        "spam[2]\n",
        "\n",
        "for i in range(len(spam)):\n",
        "    if spam[i]==6:\n",
        "       spam[i]='hello'\n",
        "       print(spam)"
      ],
      "metadata": {
        "colab": {
          "base_uri": "https://localhost:8080/"
        },
        "id": "Xi9MGedfIVks",
        "outputId": "8c61cdd3-8156-415e-962e-9f1dff7b17fd"
      },
      "execution_count": 13,
      "outputs": [
        {
          "output_type": "stream",
          "name": "stdout",
          "text": [
            "[2, 4, 'hello', 8, 10]\n"
          ]
        }
      ]
    },
    {
      "cell_type": "code",
      "execution_count": 16,
      "metadata": {
        "colab": {
          "base_uri": "https://localhost:8080/"
        },
        "id": "-rdawB-Ntd2H",
        "outputId": "3288a96b-867b-4db0-85aa-e3e2fdd2f7aa"
      },
      "outputs": [
        {
          "output_type": "stream",
          "name": "stdout",
          "text": [
            "[2, 4, 'hello', 8, 10]\n"
          ]
        }
      ],
      "source": [
        "spam = [2,4,6,8,10]\n",
        "\n",
        "i = 0\n",
        "while i < len(spam):\n",
        "  \n",
        "    # replace hardik with shardul\n",
        "    if spam[i] == 6:\n",
        "        spam[i] = 'hello'\n",
        "\n",
        "    i += 1\n",
        "  \n",
        "print(spam)\n"
      ]
    },
    {
      "cell_type": "markdown",
      "source": [
        "Let pretend the spam includes the list['a','b','c','d'] for next three quiries.\n",
        "\n",
        "3. What is the value of spam[int(int(3* 2) / 11)]?\n",
        "4. What is the value of spam[-1]?\n",
        "5. What is the value of spam[:2]?"
      ],
      "metadata": {
        "id": "kXksry13I6Ym"
      }
    },
    {
      "cell_type": "code",
      "source": [
        "spam = ['a','b','c','d']\n",
        "spam[int(int(3*2)/11)]"
      ],
      "metadata": {
        "colab": {
          "base_uri": "https://localhost:8080/",
          "height": 35
        },
        "id": "xl8bhBpcIsWr",
        "outputId": "4c9ca028-b4bf-4372-8e34-0a02bda3abeb"
      },
      "execution_count": 5,
      "outputs": [
        {
          "output_type": "execute_result",
          "data": {
            "text/plain": [
              "'a'"
            ],
            "application/vnd.google.colaboratory.intrinsic+json": {
              "type": "string"
            }
          },
          "metadata": {},
          "execution_count": 5
        }
      ]
    },
    {
      "cell_type": "code",
      "source": [
        "spam[-1]"
      ],
      "metadata": {
        "colab": {
          "base_uri": "https://localhost:8080/",
          "height": 35
        },
        "id": "QdN-KiX_JrxP",
        "outputId": "a884b085-582d-476c-f022-d59dfc59f893"
      },
      "execution_count": 6,
      "outputs": [
        {
          "output_type": "execute_result",
          "data": {
            "text/plain": [
              "'d'"
            ],
            "application/vnd.google.colaboratory.intrinsic+json": {
              "type": "string"
            }
          },
          "metadata": {},
          "execution_count": 6
        }
      ]
    },
    {
      "cell_type": "code",
      "source": [
        "spam[:2]"
      ],
      "metadata": {
        "colab": {
          "base_uri": "https://localhost:8080/"
        },
        "id": "YzgycCIWJvWc",
        "outputId": "2557fa6d-1b9f-4b40-c3d3-82dd783eed79"
      },
      "execution_count": 7,
      "outputs": [
        {
          "output_type": "execute_result",
          "data": {
            "text/plain": [
              "['a', 'b']"
            ]
          },
          "metadata": {},
          "execution_count": 7
        }
      ]
    },
    {
      "cell_type": "markdown",
      "source": [
        "Let's pretend bacon has the list [3.14, 'cat', 11,'cat',True] for the next three questions.\n",
        "\n",
        "6. What is the value of bacon.index('cat')?\n",
        "\n",
        "Ans--->1\n",
        "\n",
        "7. How does bacon.append(99) change the look of the list value in bacon?\n",
        "\n",
        "8. How does bacon.remove(cat) change the look of the list in bacon?"
      ],
      "metadata": {
        "id": "mGJ1g3fEJ2ya"
      }
    },
    {
      "cell_type": "code",
      "source": [
        "bacon=[3.14,'cat',11,'cat',True]\n",
        "bacon.append(99)"
      ],
      "metadata": {
        "id": "uG0CyubRJyVh"
      },
      "execution_count": 2,
      "outputs": []
    },
    {
      "cell_type": "code",
      "source": [
        "bacon"
      ],
      "metadata": {
        "colab": {
          "base_uri": "https://localhost:8080/"
        },
        "id": "TuqsrBE6tXHf",
        "outputId": "82254568-2c0f-4389-fb83-6c8c49e187f6"
      },
      "execution_count": 4,
      "outputs": [
        {
          "output_type": "execute_result",
          "data": {
            "text/plain": [
              "[3.14, 'cat', 11, 'cat', True, 99]"
            ]
          },
          "metadata": {},
          "execution_count": 4
        }
      ]
    },
    {
      "cell_type": "markdown",
      "source": [
        "###99 will get added to the end."
      ],
      "metadata": {
        "id": "7MYmch0fK-QS"
      }
    },
    {
      "cell_type": "code",
      "source": [
        "bacon"
      ],
      "metadata": {
        "colab": {
          "base_uri": "https://localhost:8080/"
        },
        "id": "iLd6I-meK4No",
        "outputId": "893b99ae-50ab-4218-dae5-8058b7034d91"
      },
      "execution_count": 9,
      "outputs": [
        {
          "output_type": "execute_result",
          "data": {
            "text/plain": [
              "[3.14, 'cat', 11, 'cat', True, 99]"
            ]
          },
          "metadata": {},
          "execution_count": 9
        }
      ]
    },
    {
      "cell_type": "code",
      "source": [
        "bacon.remove('cat')"
      ],
      "metadata": {
        "id": "5XvqNZC9K61i"
      },
      "execution_count": 10,
      "outputs": []
    },
    {
      "cell_type": "code",
      "source": [
        "bacon"
      ],
      "metadata": {
        "colab": {
          "base_uri": "https://localhost:8080/"
        },
        "id": "F1cXZrOFLJhU",
        "outputId": "ad4be744-0ad9-4c84-fff2-9112a02e4dcd"
      },
      "execution_count": 11,
      "outputs": [
        {
          "output_type": "execute_result",
          "data": {
            "text/plain": [
              "[3.14, 11, 'cat', True, 99]"
            ]
          },
          "metadata": {},
          "execution_count": 11
        }
      ]
    },
    {
      "cell_type": "markdown",
      "source": [
        "9. What are the list concatenation and list replication operators?"
      ],
      "metadata": {
        "id": "ZISJ_pS_LXVd"
      }
    },
    {
      "cell_type": "code",
      "source": [
        "l = [1,2,3,4,5]\n",
        "l1= 2*l\n",
        "print(l1)"
      ],
      "metadata": {
        "colab": {
          "base_uri": "https://localhost:8080/"
        },
        "id": "RgKcpiqK_BVu",
        "outputId": "01e9cd72-c254-4dd9-9eab-e775105a99ac"
      },
      "execution_count": 34,
      "outputs": [
        {
          "output_type": "stream",
          "name": "stdout",
          "text": [
            "[1, 2, 3, 4, 5, 1, 2, 3, 4, 5]\n"
          ]
        }
      ]
    },
    {
      "cell_type": "markdown",
      "source": [
        "In list concatentation we use '+' and replication operator '*' "
      ],
      "metadata": {
        "id": "4y_V_vsdAqo9"
      }
    },
    {
      "cell_type": "markdown",
      "source": [
        "10. What is difference between the list methods append() and insert()?"
      ],
      "metadata": {
        "id": "nq3qDIxfLaSl"
      }
    },
    {
      "cell_type": "markdown",
      "source": [
        "Ans--->In append function the given variable is added at the end of the list but in insert function the variables needs the position input where it get to added."
      ],
      "metadata": {
        "id": "_rUhDezguzXG"
      }
    },
    {
      "cell_type": "markdown",
      "source": [
        "11. What are the two methods for removing items from a list?"
      ],
      "metadata": {
        "id": "76KLGycrLf3G"
      }
    },
    {
      "cell_type": "markdown",
      "source": [
        "Ans---> first method to remove the item from the list is remove() by specifying the variable into the bracket."
      ],
      "metadata": {
        "id": "aZdE9oICvLM-"
      }
    },
    {
      "cell_type": "markdown",
      "source": [
        "12. Describe how list values and string values are identical.\n",
        "\n",
        "ANS---> Both strings and lists have lengths is the number of character in the string, a list length is number of items in the list each character in the string as well as each item in the list have a position called index."
      ],
      "metadata": {
        "id": "lQYEdle0Ljin"
      }
    },
    {
      "cell_type": "markdown",
      "source": [
        "13. What&#39;s the difference between tuples and lists?\n",
        "\n",
        "Ans---> Tuples are immutable which means we cannot edit the tuples when it values are given but in case of lists we can make changes in lists"
      ],
      "metadata": {
        "id": "izt8-IfRLnoJ"
      }
    },
    {
      "cell_type": "markdown",
      "source": [
        "14. How do you type a tuple value that only contains the integer 42?"
      ],
      "metadata": {
        "id": "T6dCavEPLuBl"
      }
    },
    {
      "cell_type": "code",
      "source": [
        "c = (42)"
      ],
      "metadata": {
        "id": "tDZOty2vy4Q2"
      },
      "execution_count": 4,
      "outputs": []
    },
    {
      "cell_type": "markdown",
      "source": [
        "15. How do you get a list value's tuple form? How do you get a tuple value's:: list form?"
      ],
      "metadata": {
        "id": "xVWnyiFhLxwv"
      }
    },
    {
      "cell_type": "code",
      "source": [
        "l =[1,2,3,4,5,6]\n",
        "l1 =tuple(l)\n",
        "print(l1)"
      ],
      "metadata": {
        "colab": {
          "base_uri": "https://localhost:8080/"
        },
        "id": "g7OGBy-NzTA9",
        "outputId": "a8802670-6f60-44b4-eb2e-47ddd7b256cd"
      },
      "execution_count": 21,
      "outputs": [
        {
          "output_type": "stream",
          "name": "stdout",
          "text": [
            "(1, 2, 3, 4, 5, 6)\n"
          ]
        }
      ]
    },
    {
      "cell_type": "code",
      "source": [
        "type(l1)"
      ],
      "metadata": {
        "colab": {
          "base_uri": "https://localhost:8080/"
        },
        "id": "TzutmO3O7_tC",
        "outputId": "65338115-8973-405e-c85f-f6e9c306020e"
      },
      "execution_count": 22,
      "outputs": [
        {
          "output_type": "execute_result",
          "data": {
            "text/plain": [
              "tuple"
            ]
          },
          "metadata": {},
          "execution_count": 22
        }
      ]
    },
    {
      "cell_type": "code",
      "source": [
        "l1 =(1,2,3,4,5)\n",
        "l2 = list(l1)"
      ],
      "metadata": {
        "id": "1HGzH-3g8DSb"
      },
      "execution_count": 23,
      "outputs": []
    },
    {
      "cell_type": "code",
      "source": [
        "l2"
      ],
      "metadata": {
        "colab": {
          "base_uri": "https://localhost:8080/"
        },
        "id": "Kj17gMhu8NT9",
        "outputId": "af22ccb6-2c22-4d7e-b729-01a9f6eb9674"
      },
      "execution_count": 24,
      "outputs": [
        {
          "output_type": "execute_result",
          "data": {
            "text/plain": [
              "[1, 2, 3, 4, 5]"
            ]
          },
          "metadata": {},
          "execution_count": 24
        }
      ]
    },
    {
      "cell_type": "code",
      "source": [
        "type(l2)"
      ],
      "metadata": {
        "colab": {
          "base_uri": "https://localhost:8080/"
        },
        "id": "imz96roH8Pg2",
        "outputId": "cc50fd94-2460-475e-fae8-40023ea8bb8d"
      },
      "execution_count": 25,
      "outputs": [
        {
          "output_type": "execute_result",
          "data": {
            "text/plain": [
              "list"
            ]
          },
          "metadata": {},
          "execution_count": 25
        }
      ]
    },
    {
      "cell_type": "markdown",
      "source": [
        "16. Variables that \"contain\" list values are not necessarily lists themselves. Instead, what do they\n",
        "contain?\n",
        "\n",
        "ANS--->Variables will contain refrences to the list values rather than list values themselves"
      ],
      "metadata": {
        "id": "-acnV-vQL8Hk"
      }
    },
    {
      "cell_type": "markdown",
      "source": [
        "17. How do you distinguish between copy.copy() and copy.deepcopy()?\n",
        "\n",
        "Ans---> In copy.copy() when we change the values in original list or copied list then change will reflect in both the list as both lists share same refrence. but in copy.deepcopy() if we make changes in one of the list that change will reflect only in that list "
      ],
      "metadata": {
        "id": "_kkwHbbJMGKc"
      }
    },
    {
      "cell_type": "markdown",
      "source": [],
      "metadata": {
        "id": "XVX4VsHaGR_K"
      }
    },
    {
      "cell_type": "markdown",
      "source": [],
      "metadata": {
        "id": "r6F7tr9ZGEiZ"
      }
    }
  ]
}