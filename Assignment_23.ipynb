{
  "nbformat": 4,
  "nbformat_minor": 0,
  "metadata": {
    "colab": {
      "provenance": []
    },
    "kernelspec": {
      "name": "python3",
      "display_name": "Python 3"
    },
    "language_info": {
      "name": "python"
    }
  },
  "cells": [
    {
      "cell_type": "markdown",
      "source": [
        "Question .1)\n",
        "Create a function that takes a number as an argument and returns True or False depending\n",
        "on whether the number is symmetrical or not. A number is symmetrical when it is the same as\n",
        "its reverse."
      ],
      "metadata": {
        "id": "Tdqw8pWQlppQ"
      }
    },
    {
      "cell_type": "code",
      "source": [
        "def is_symmetrical(num):\n",
        "    reversed_num_str = str(num)[::-1]\n",
        "\n",
        "    return str(num) == reversed_num_str\n"
      ],
      "metadata": {
        "id": "VPto6DqQltVk"
      },
      "execution_count": 11,
      "outputs": []
    },
    {
      "cell_type": "markdown",
      "source": [
        "Question .2)\n",
        "Given a string of numbers separated by a comma and space, return the product of the\n",
        "numbers."
      ],
      "metadata": {
        "id": "LUDQyhzfl5z2"
      }
    },
    {
      "cell_type": "code",
      "source": [
        "def multiply_numbers(num_string):\n",
        "\n",
        "    num_list = num_string.split(\", \")\n",
        "\n",
        "    num_list = [int(num) for num in num_list]\n",
        "\n",
        "    product = 1\n",
        "    for num in num_list:\n",
        "        product *= num\n",
        "\n",
        "    return product\n"
      ],
      "metadata": {
        "id": "Z0HxkZgAl3nZ"
      },
      "execution_count": 12,
      "outputs": []
    },
    {
      "cell_type": "markdown",
      "source": [
        "Question .3)\n",
        "Create a function that squares every digit of a number."
      ],
      "metadata": {
        "id": "O7x856iNmIUT"
      }
    },
    {
      "cell_type": "code",
      "source": [
        "def square_digits(num):\n",
        "\n",
        "    num_str = str(num)\n",
        "\n",
        "    squared_digits_str = \"\"\n",
        "    for digit in num_str:\n",
        "        squared_digit = str(int(digit) ** 2)\n",
        "        squared_digits_str += squared_digit\n",
        "\n",
        "    squared_num = int(squared_digits_str)\n",
        "\n",
        "    return squared_num\n"
      ],
      "metadata": {
        "id": "ggeHd5aomGHL"
      },
      "execution_count": 13,
      "outputs": []
    },
    {
      "cell_type": "markdown",
      "source": [
        "Question .4)\n",
        "Create a function that sorts a list and removes all duplicate items from it."
      ],
      "metadata": {
        "id": "rRuJ5Hi5mczL"
      }
    },
    {
      "cell_type": "code",
      "source": [
        "def sort_and_remove_duplicates(input_list):\n",
        "    \n",
        "    sorted_list = sorted(input_list)\n",
        "\n",
        "    unique_list = []\n",
        "    for item in sorted_list:\n",
        "        if item not in unique_list:\n",
        "            unique_list.append(item)\n",
        "\n",
        "    return unique_list\n"
      ],
      "metadata": {
        "id": "95DcLFipmWnD"
      },
      "execution_count": 14,
      "outputs": []
    },
    {
      "cell_type": "markdown",
      "source": [
        "Question .5)\n",
        "Create a function that returns the mean of all digits."
      ],
      "metadata": {
        "id": "JktX-oH_ms56"
      }
    },
    {
      "cell_type": "code",
      "source": [
        "def mean_of_digits(num):\n",
        "    \n",
        "    num_str = str(num)\n",
        "\n",
        "    digit_sum = 0\n",
        "    for digit in num_str:\n",
        "        digit_sum += int(digit)\n",
        "\n",
        "    num_digits = len(num_str)\n",
        "    mean = digit_sum / num_digits\n",
        "\n",
        "    return mean\n"
      ],
      "metadata": {
        "id": "U2P4b-UvmqHj"
      },
      "execution_count": 15,
      "outputs": []
    }
  ]
}