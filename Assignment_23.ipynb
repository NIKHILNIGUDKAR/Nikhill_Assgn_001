{
 "cells": [
  {
   "cell_type": "markdown",
   "id": "9fc442c9",
   "metadata": {},
   "source": [
    "1. What is the result of the code, and why?\n",
    "def func(a, b=6, c=8):\n",
    "    print(a, b, c)\n",
    "    func(1, 2)"
   ]
  },
  {
   "cell_type": "markdown",
   "id": "eae680ea",
   "metadata": {},
   "source": [
    "ANS: The result of the above code is 1 2 8\n",
    "    because there are three arguments passing through the function. it will take a as one b as 2 and c as 8 . The c value it will take by default set as set in the function."
   ]
  },
  {
   "cell_type": "markdown",
   "id": "8d643684",
   "metadata": {},
   "source": [
    "2. What is the result of this code, and why?\n",
    "def func(a, b, c=5):\n",
    "    print(a, b, c)\n",
    "    func(1, c=3, b=2)"
   ]
  },
  {
   "cell_type": "markdown",
   "id": "6a3812d1",
   "metadata": {},
   "source": [
    "ANS: The output of the above code will be 1  2  3 as declared in function it will take three argument first it will take a as 1 then b as 2 and c as 3 . The values a and b are are taken in the argument and the value of the c is updated ."
   ]
  },
  {
   "cell_type": "markdown",
   "id": "0be4e3bb",
   "metadata": {},
   "source": [
    "3. How about this code: what is its result, and why?\n",
    "def func(a, *pargs):\n",
    "    print(a, pargs)\n",
    "    func(1, 2, 3)"
   ]
  },
  {
   "cell_type": "code",
   "execution_count": 4,
   "id": "e7b46812",
   "metadata": {},
   "outputs": [
    {
     "name": "stdout",
     "output_type": "stream",
     "text": [
      "1 (2, 3)\n"
     ]
    }
   ],
   "source": [
    "def func(a, *pargs):\n",
    "    print(a, pargs)\n",
    "func(1, 2, 3)"
   ]
  },
  {
   "cell_type": "markdown",
   "id": "cbc4fafb",
   "metadata": {},
   "source": [
    "ANS: In this function the value of a is taken as by default and the other two values are taken in as tuple because of *pargs."
   ]
  },
  {
   "cell_type": "markdown",
   "id": "544a6e1b",
   "metadata": {},
   "source": [
    "4. What does this code print, and why?\n",
    "def func(a, **kargs):\n",
    "    print(a, kargs)\n",
    "func(a=1, c=3, b=2)"
   ]
  },
  {
   "cell_type": "code",
   "execution_count": 8,
   "id": "a58ee092",
   "metadata": {},
   "outputs": [
    {
     "name": "stdout",
     "output_type": "stream",
     "text": [
      "1 {'c': 3, 'b': 2}\n"
     ]
    }
   ],
   "source": [
    "def func(a, **kargs):\n",
    "    print(a, kargs)\n",
    "func(a=1, c=3, b=2)"
   ]
  },
  {
   "cell_type": "markdown",
   "id": "5867ff0a",
   "metadata": {},
   "source": [
    "ANS: In this function first value which is 1 is taken then because of *kwars other values are taken as dictionary by default."
   ]
  },
  {
   "cell_type": "markdown",
   "id": "61e091a4",
   "metadata": {},
   "source": [
    "5. What gets printed by this, and explain?\n",
    "def func(a, b, c=8, d=5): print(a, b, c, d)\n",
    "func(1, *(5, 6))"
   ]
  },
  {
   "cell_type": "markdown",
   "id": "0caad2a1",
   "metadata": {},
   "source": [
    "ANS:In this function the function will take the value of a as 1 b as 5 ,c as 6 and d as 5 .because in function we have taken four arguments so for a first it will take 1  for b and c it will take 5 and 6 which are passed in the tuple and for d it will take 5 by default which is declared in the fuinction."
   ]
  },
  {
   "cell_type": "code",
   "execution_count": null,
   "id": "d242794b",
   "metadata": {},
   "outputs": [],
   "source": [
    "6. what is the result of this, and explain?\n",
    "def func(a, b, c): a = 2; b[0] = 'x' c['a'] = 'y'\n",
    "l=1; m=[1]; n={'a':0}\n",
    "func(l, m, n)\n",
    "l,m,n"
   ]
  },
  {
   "cell_type": "code",
   "execution_count": 11,
   "id": "adf3a3cd",
   "metadata": {},
   "outputs": [
    {
     "data": {
      "text/plain": [
       "(1, ['x'], {'a': 'y'})"
      ]
     },
     "execution_count": 11,
     "metadata": {},
     "output_type": "execute_result"
    }
   ],
   "source": [
    "def func(a, b, c): a = 2; b[0] = 'x'; c['a'] = 'y'\n",
    "l=1; m=[1]; n={'a':0}\n",
    "func(l, m, n)\n",
    "l,m,n"
   ]
  },
  {
   "cell_type": "markdown",
   "id": "42107696",
   "metadata": {},
   "source": [
    "ANS:This is because l retained its original value of 1, m was modified to ['x'], and n was modified to {'a': 'y'}."
   ]
  }
 ],
 "metadata": {
  "kernelspec": {
   "display_name": "Python 3 (ipykernel)",
   "language": "python",
   "name": "python3"
  },
  "language_info": {
   "codemirror_mode": {
    "name": "ipython",
    "version": 3
   },
   "file_extension": ".py",
   "mimetype": "text/x-python",
   "name": "python",
   "nbconvert_exporter": "python",
   "pygments_lexer": "ipython3",
   "version": "3.9.13"
  }
 },
 "nbformat": 4,
 "nbformat_minor": 5
}
