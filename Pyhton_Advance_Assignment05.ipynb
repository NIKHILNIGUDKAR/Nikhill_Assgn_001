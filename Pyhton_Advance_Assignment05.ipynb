{
 "cells": [
  {
   "cell_type": "markdown",
   "id": "445793b1",
   "metadata": {},
   "source": [
    "Q1. What is the meaning of multiple inheritance?"
   ]
  },
  {
   "cell_type": "markdown",
   "id": "ef61bcdc",
   "metadata": {},
   "source": [
    "ANS--->When a class is derived from more than one base class then it is said to be multiple inheritance."
   ]
  },
  {
   "cell_type": "markdown",
   "id": "d4ae0836",
   "metadata": {},
   "source": [
    "Q2. What is the concept of delegation?"
   ]
  },
  {
   "cell_type": "markdown",
   "id": "28105088",
   "metadata": {},
   "source": [
    "ANS--->The delegation pattern is an object oriented design pattern that allows objet composition to achieve same code reuse as an inheritance."
   ]
  },
  {
   "cell_type": "markdown",
   "id": "f280a6b9",
   "metadata": {},
   "source": [
    "Q3. What is the concept of composition?"
   ]
  },
  {
   "cell_type": "markdown",
   "id": "dc825fd6",
   "metadata": {},
   "source": [
    "ANS--->composition is a concept that model has releationship.It enables creating complex types by combining objects of other types."
   ]
  },
  {
   "cell_type": "markdown",
   "id": "4d9aaa1c",
   "metadata": {},
   "source": [
    "Q4. What are bound methods and how do we use them?"
   ]
  },
  {
   "cell_type": "markdown",
   "id": "c451aeeb",
   "metadata": {},
   "source": [
    "ANS--->The bound methods are defined in a class The bound method are bound in a classin which they are defined.They take an instance of ther class along with the other argument as its parameters."
   ]
  },
  {
   "cell_type": "markdown",
   "id": "fdfc1026",
   "metadata": {},
   "source": [
    "Q5. What is the purpose of pseudoprivate attributes?"
   ]
  },
  {
   "cell_type": "markdown",
   "id": "51cf0a11",
   "metadata": {},
   "source": [
    "ANS--->This trick can avoid potential name collisions in the instance, but note that it does not amount to true privacy. If you know the name of the enclosing class, you can still access either of these attributes anywhere you have a reference to the instance by using the fully expanded names."
   ]
  }
 ],
 "metadata": {
  "kernelspec": {
   "display_name": "Python 3 (ipykernel)",
   "language": "python",
   "name": "python3"
  },
  "language_info": {
   "codemirror_mode": {
    "name": "ipython",
    "version": 3
   },
   "file_extension": ".py",
   "mimetype": "text/x-python",
   "name": "python",
   "nbconvert_exporter": "python",
   "pygments_lexer": "ipython3",
   "version": "3.9.13"
  }
 },
 "nbformat": 4,
 "nbformat_minor": 5
}
