{
  "nbformat": 4,
  "nbformat_minor": 0,
  "metadata": {
    "colab": {
      "provenance": []
    },
    "kernelspec": {
      "name": "python3",
      "display_name": "Python 3"
    },
    "language_info": {
      "name": "python"
    }
  },
  "cells": [
    {
      "cell_type": "markdown",
      "source": [
        "1. What are escape characters, and how do you use them?\n",
        "\n",
        "ANS--->To insert characters that are illegal in a string, use an escape character or to move to the next line by printing the previous output we use escape characters.\n",
        "\n"
      ],
      "metadata": {
        "id": "3EnotynDT86q"
      }
    },
    {
      "cell_type": "markdown",
      "source": [
        "2. What do the escape characters n and t stand for?\n",
        "\n",
        "ANS---> 1)\\n: It is used to move to the new line\n",
        " \n",
        "        2)\\t: It is used to put tav space between the words or sentences."
      ],
      "metadata": {
        "id": "L0O91mJqVkv6"
      }
    },
    {
      "cell_type": "markdown",
      "source": [
        "3. What is the way to include backslash characters in a string?\n"
      ],
      "metadata": {
        "id": "CSs2o3BHVnUJ"
      }
    },
    {
      "cell_type": "markdown",
      "source": [
        "Ans---> Use \\\\ to include backslash in the string."
      ],
      "metadata": {
        "id": "IYjQG-skfxK1"
      }
    },
    {
      "cell_type": "markdown",
      "source": [],
      "metadata": {
        "id": "cLE8Zt5UXFEq"
      }
    },
    {
      "cell_type": "markdown",
      "source": [
        "4. The string \"Howl's Moving Castle\" is a correct value. Why isn't the single quote character in the\n",
        "word Howl's not escaped a problem?\n"
      ],
      "metadata": {
        "id": "kxqMkbsXVp-x"
      }
    },
    {
      "cell_type": "markdown",
      "source": [
        "ANS--->Single quote character from Howl's is not escaped from problem because backslash is not used there ."
      ],
      "metadata": {
        "id": "AWecc3wQZpNK"
      }
    },
    {
      "cell_type": "markdown",
      "source": [
        "5. How do you write a string of newlines if you don't want to use the n character?"
      ],
      "metadata": {
        "id": "IiySlJrIYTTL"
      }
    },
    {
      "cell_type": "markdown",
      "source": [
        "ANS--->we customize the value of end and set it to \" \".\n"
      ],
      "metadata": {
        "id": "7BsPAMAfefHd"
      }
    },
    {
      "cell_type": "markdown",
      "source": [
        "6. What are the values of the given expressions?\n",
        "\n",
        "'Hello, world!'[1]\n",
        "\n",
        "'Hello, world!'[0:5]\n",
        "\n",
        "'Hello, world!'[:5]\n",
        "\n",
        "'Hello, world!'[3:]\n"
      ],
      "metadata": {
        "id": "OjmhO0HUaCyj"
      }
    },
    {
      "cell_type": "markdown",
      "source": [
        "ANS--->1)'e'\n",
        "\n",
        "2)'Hello'\n",
        "\n",
        "3)'Hello'\n",
        "\n",
        "4)'lo, world!'"
      ],
      "metadata": {
        "id": "D-jLAZe6a6h0"
      }
    },
    {
      "cell_type": "markdown",
      "source": [
        "7. What are the values of the following expressions?\n",
        "\n",
        "'Hello'.upper()\n",
        "\n",
        "'Hello'.upper().isupper()\n",
        "\n",
        "'Hello'.upper().lower()"
      ],
      "metadata": {
        "id": "de7knu7bbPlr"
      }
    },
    {
      "cell_type": "markdown",
      "source": [
        "ANS--->1)'HELLO'\n",
        "\n",
        "2)True\n",
        "\n",
        "3)False"
      ],
      "metadata": {
        "id": "rTVQNU7Wbt97"
      }
    },
    {
      "cell_type": "markdown",
      "source": [
        "8. What are the values of the following expressions?\n",
        "'Remember, remember,the fifth of july.'.split()"
      ],
      "metadata": {
        "id": "EavHIGRZcAG0"
      }
    },
    {
      "cell_type": "code",
      "source": [
        "'Remember, remember,the fifth of july.'.split()"
      ],
      "metadata": {
        "colab": {
          "base_uri": "https://localhost:8080/"
        },
        "id": "5gTCwsIZcQDn",
        "outputId": "d6d4655f-b7fd-4df9-e402-a5d7a854579b"
      },
      "execution_count": 5,
      "outputs": [
        {
          "output_type": "execute_result",
          "data": {
            "text/plain": [
              "['Remember,', 'remember,the', 'fifth', 'of', 'july.']"
            ]
          },
          "metadata": {},
          "execution_count": 5
        }
      ]
    },
    {
      "cell_type": "markdown",
      "source": [
        "9. What are the methods for right-justifying, left-justifying, and centering a string?"
      ],
      "metadata": {
        "id": "Z_LShmCycgLT"
      }
    },
    {
      "cell_type": "markdown",
      "source": [
        "ANS--->1)For right-justifying : we use str.rjust()\n",
        "\n",
        "2)For left-justifying : we use str.ljust()\n",
        "\n",
        "3)for centering : we use str.centering()"
      ],
      "metadata": {
        "id": "gSIUqtn3c_q9"
      }
    },
    {
      "cell_type": "markdown",
      "source": [
        "10.What is the best way to remove whitespace characters from the start or end?"
      ],
      "metadata": {
        "id": "iNYqc21SdaSO"
      }
    },
    {
      "cell_type": "markdown",
      "source": [
        "Ans--->We use str.strip() to remove whitespaces from the begning and the end of the string."
      ],
      "metadata": {
        "id": "ry31NCXgdg_z"
      }
    },
    {
      "cell_type": "markdown",
      "source": [],
      "metadata": {
        "id": "k85MuvkoVsXx"
      }
    }
  ]
}