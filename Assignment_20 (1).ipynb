{
  "nbformat": 4,
  "nbformat_minor": 0,
  "metadata": {
    "colab": {
      "provenance": []
    },
    "kernelspec": {
      "name": "python3",
      "display_name": "Python 3"
    },
    "language_info": {
      "name": "python"
    }
  },
  "cells": [
    {
      "cell_type": "markdown",
      "source": [
        "Question1\n",
        "Create a function that takes a list of strings and integers, and filters out the list so that it\n",
        "returns a list of integers only."
      ],
      "metadata": {
        "id": "ui5zQv7Jx0aQ"
      }
    },
    {
      "cell_type": "code",
      "source": [
        "def filter_list(lst):\n",
        "    # Create a new list to hold integers\n",
        "    new_lst = []\n",
        "    \n",
        "    # Loop through each element in the input list\n",
        "    for elem in lst:\n",
        "        # Check if the element is an integer\n",
        "        if isinstance(elem, int):\n",
        "            # Add the integer to the new list\n",
        "            new_lst.append(elem)\n",
        "    \n",
        "    # Return the new list\n",
        "    return new_lst\n"
      ],
      "metadata": {
        "id": "QmldI7Qmx1hR"
      },
      "execution_count": 48,
      "outputs": []
    },
    {
      "cell_type": "markdown",
      "source": [
        "Question2\n",
        "Given a list of numbers, create a function which returns the list but with each element&#39;s\n",
        "\n",
        "index in the list added to itself. This means you add 0 to the number at index 0, add 1 to the\n",
        "number at index 1, etc..."
      ],
      "metadata": {
        "id": "-2llJ5oPyCvk"
      }
    },
    {
      "cell_type": "code",
      "source": [
        "def add_indexes(lst):\n",
        "    return [i + lst[i] for i in range(len(lst))]"
      ],
      "metadata": {
        "id": "JEbJEX_rx9hS"
      },
      "execution_count": 49,
      "outputs": []
    },
    {
      "cell_type": "markdown",
      "source": [
        "Question3\n",
        "Create a function that takes the height and radius of a cone as arguments and returns the\n",
        "volume of the cone rounded to the nearest hundredth. See the resources tab for the formula."
      ],
      "metadata": {
        "id": "0TdwLsCQyW5U"
      }
    },
    {
      "cell_type": "code",
      "source": [
        "import math\n",
        "\n",
        "def cone_volume(height, radius):\n",
        "    volume = (1/3) * math.pi * radius**2 * height\n",
        "    return round(volume, 2)"
      ],
      "metadata": {
        "id": "GXQ08C1YyTa1"
      },
      "execution_count": 50,
      "outputs": []
    },
    {
      "cell_type": "markdown",
      "source": [
        "Question4\n",
        "This Triangular Number Sequence is generated from a pattern of dots that form a triangle.\n",
        "The first 5 numbers of the sequence, or dots, are:\n",
        "1, 3, 6, 10, 15\n",
        "This means that the first triangle has just one dot, the second one has three dots, the third one\n",
        "has 6 dots and so on.\n",
        "Write a function that gives the number of dots with its corresponding triangle number of the\n",
        "sequence."
      ],
      "metadata": {
        "id": "eYv8JGbEyirk"
      }
    },
    {
      "cell_type": "code",
      "source": [
        "def triangular_number(n):\n",
        "    return n*(n+1)//2\n",
        "\n",
        "print(triangular_number(1))  \n",
        "print(triangular_number(2))  \n",
        "print(triangular_number(3)) \n",
        "print(triangular_number(4))  \n",
        "print(triangular_number(5)) \n"
      ],
      "metadata": {
        "id": "G-pBDW_xyeYV",
        "outputId": "17d50017-44ae-408b-dd73-18cdab679a9b",
        "colab": {
          "base_uri": "https://localhost:8080/"
        }
      },
      "execution_count": 52,
      "outputs": [
        {
          "output_type": "stream",
          "name": "stdout",
          "text": [
            "1\n",
            "3\n",
            "6\n",
            "10\n",
            "15\n"
          ]
        }
      ]
    },
    {
      "cell_type": "markdown",
      "source": [
        "Question5\n",
        "Create a function that takes a list of numbers between 1 and 10 (excluding one number) and\n",
        "returns the missing number."
      ],
      "metadata": {
        "id": "-yHjBmIvyuYt"
      }
    },
    {
      "cell_type": "code",
      "source": [
        "def find_missing_number(lst):\n",
        "    n = len(lst) + 1\n",
        "    expected_sum = n * (n + 1) // 2\n",
        "    actual_sum = sum(lst)\n",
        "    return expected_sum - actual_sum\n",
        "\n",
        "lst = [1, 2, 3, 4, 6, 7, 8, 9, 10]\n",
        "missing_number = find_missing_number(lst)\n",
        "print(missing_number)  \n"
      ],
      "metadata": {
        "id": "Fy6JvcCKyrdk",
        "outputId": "a26fab21-d62c-44e0-dcfe-6aa91dcec4b6",
        "colab": {
          "base_uri": "https://localhost:8080/"
        }
      },
      "execution_count": 54,
      "outputs": [
        {
          "output_type": "stream",
          "name": "stdout",
          "text": [
            "5\n"
          ]
        }
      ]
    },
    {
      "cell_type": "code",
      "source": [],
      "metadata": {
        "id": "p_Yo38B9y41t"
      },
      "execution_count": null,
      "outputs": []
    }
  ]
}