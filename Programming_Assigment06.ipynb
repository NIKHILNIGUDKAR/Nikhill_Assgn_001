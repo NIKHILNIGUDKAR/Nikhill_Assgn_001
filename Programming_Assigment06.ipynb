{
 "cells": [
  {
   "cell_type": "markdown",
   "id": "621de820",
   "metadata": {},
   "source": [
    "1. Write a Python Program to Display Fibonacci Sequence Using Recursion?\n"
   ]
  },
  {
   "cell_type": "code",
   "execution_count": 4,
   "id": "74086ec9",
   "metadata": {},
   "outputs": [
    {
     "name": "stdout",
     "output_type": "stream",
     "text": [
      "Fibonacci sequence : \n",
      "0\n",
      "1\n",
      "1\n",
      "2\n",
      "3\n"
     ]
    }
   ],
   "source": [
    "def recursion_fibonacci(n):\n",
    "    if n<=1:\n",
    "        return n\n",
    "    else:\n",
    "        return (recursion_fibonacci(n-1)+recursion_fibonacci(n-2))\n",
    "nterms =5\n",
    "\n",
    "if nterms<=0:\n",
    "    print(\"Please enter the positive number\")\n",
    "    \n",
    "else:\n",
    "    print(\"Fibonacci sequence : \")\n",
    "    for i in range (nterms):\n",
    "        print(recursion_fibonacci(i))"
   ]
  },
  {
   "cell_type": "markdown",
   "id": "612edf38",
   "metadata": {},
   "source": [
    "2. Write a Python Program to Find Factorial of Number Using Recursion?"
   ]
  },
  {
   "cell_type": "code",
   "execution_count": 12,
   "id": "ccdd222f",
   "metadata": {},
   "outputs": [
    {
     "name": "stdout",
     "output_type": "stream",
     "text": [
      "The factorial of the number is  6\n"
     ]
    }
   ],
   "source": [
    "def recursion_fact(n):\n",
    "    if n==1:\n",
    "        return n\n",
    "    else :\n",
    "        return recursion_fact(n-1)*n\n",
    "num =3\n",
    "\n",
    "if num==0:\n",
    "    print(\"The factorial of the 0 is 1\")\n",
    "elif num<=0:\n",
    "    print(\"The factorial of the negative number is not possible\")\n",
    "else:\n",
    "    print(\"The factorial of the number is \",(recursion_fact(num)))"
   ]
  },
  {
   "cell_type": "markdown",
   "id": "b35dea41",
   "metadata": {},
   "source": [
    "3. Write a Python Program to calculate your Body Mass Index?"
   ]
  },
  {
   "cell_type": "code",
   "execution_count": 6,
   "id": "7565b2f3",
   "metadata": {},
   "outputs": [
    {
     "name": "stdout",
     "output_type": "stream",
     "text": [
      "Enter the  height of the person: 10\n",
      "Enter the weight of the person: 20\n",
      "The body mass index of the person is:   0.2\n"
     ]
    }
   ],
   "source": [
    "height=float(input(\"Enter the  height of the person in kg: \"))\n",
    "weight=float(input(\"Enter the weight of the person in meters: \"))\n",
    "print(\"The body mass index of the person is:  \",(weight/(height**2)))"
   ]
  },
  {
   "cell_type": "markdown",
   "id": "b6b4b78b",
   "metadata": {},
   "source": [
    "4. Write a Python Program to calculate the natural logarithm of any number?"
   ]
  },
  {
   "cell_type": "code",
   "execution_count": 48,
   "id": "63991d49",
   "metadata": {},
   "outputs": [
    {
     "name": "stdout",
     "output_type": "stream",
     "text": [
      "2.4849066497880004\n"
     ]
    }
   ],
   "source": [
    "import math\n",
    "print(math.log(12))"
   ]
  },
  {
   "cell_type": "markdown",
   "id": "29ba5396",
   "metadata": {},
   "source": [
    "5. Write a Python Program for cube sum of first n natural numbers?"
   ]
  },
  {
   "cell_type": "code",
   "execution_count": 29,
   "id": "81360d52",
   "metadata": {},
   "outputs": [],
   "source": [
    "def sum_of_cube(n):\n",
    "    if n<=0:\n",
    "        print(\"User entered the wrong number\")\n",
    "    a = 0\n",
    "    for i in range(1,n+1):\n",
    "        a +=(i**3)\n",
    "    return a\n"
   ]
  },
  {
   "cell_type": "code",
   "execution_count": 30,
   "id": "ecc0fdf1",
   "metadata": {},
   "outputs": [
    {
     "data": {
      "text/plain": [
       "36"
      ]
     },
     "execution_count": 30,
     "metadata": {},
     "output_type": "execute_result"
    }
   ],
   "source": [
    "sum_of_cube(3)"
   ]
  },
  {
   "cell_type": "code",
   "execution_count": null,
   "id": "e60d316e",
   "metadata": {},
   "outputs": [],
   "source": []
  }
 ],
 "metadata": {
  "kernelspec": {
   "display_name": "Python 3 (ipykernel)",
   "language": "python",
   "name": "python3"
  },
  "language_info": {
   "codemirror_mode": {
    "name": "ipython",
    "version": 3
   },
   "file_extension": ".py",
   "mimetype": "text/x-python",
   "name": "python",
   "nbconvert_exporter": "python",
   "pygments_lexer": "ipython3",
   "version": "3.9.13"
  }
 },
 "nbformat": 4,
 "nbformat_minor": 5
}
