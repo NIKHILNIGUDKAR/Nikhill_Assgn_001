{
 "cells": [
  {
   "cell_type": "markdown",
   "id": "57eca59d",
   "metadata": {},
   "source": [
    "1. What are the key tasks that machine learning entails? What does data pre-processing imply?"
   ]
  },
  {
   "cell_type": "markdown",
   "id": "0ea9528a",
   "metadata": {},
   "source": [
    "ANS--->The key tasks that machine learning entails are as follows:\n",
    "1)**Data Collection:** The first step of ML is to collect the data from different resources such as data bases,sensor or from the internet\n",
    "\n",
    "2)**Data Preprocessing**:The data needs to be preprocessed before it get trained by various ML algorithms\n",
    "\n",
    "3)**Model Selection**:Once the data preprocessing is done then we need to choose the perfect algorithm for that data to get trained so it will predict the correct output.\n",
    "\n",
    "4)**Model Training**:In this section we train the data by using various algorithms and depends on the accuracy of the data (it also involves overfitting, underfitting) we processed with best algorithm\n",
    "\n",
    "5)**Model Evalution**:after the model training it need to get evaluated.For that we use test data.The results of the test data used to improve the model to select the algorithm.\n",
    "\n",
    "6)**Model Deployment**:After getting good or satisfactory results of the data then we deploy it.After the deployment of the data it can be available for user.\n",
    "\n",
    "**Data Preprocessing involves cleaning and analysis of the data**.\n",
    "In this section we remove the unnecessary parts of the data and some data need to be get transformed into another forms so data transformation also involves in this process."
   ]
  },
  {
   "cell_type": "markdown",
   "id": "e884ff7d",
   "metadata": {},
   "source": [
    "2. Describe quantitative and qualitative data in depth. Make a distinction between the two."
   ]
  },
  {
   "cell_type": "markdown",
   "id": "49441543",
   "metadata": {},
   "source": [
    "ANS---> Quantative data is the data which expressed in numbers.Whereas Qualitatives data is about the description of the data or we can say that it about the characterstics of the data.\n",
    "\n",
    "Qualitative data is data that cannot be measured or expressed in numbers. It is often used to describe the experiences, opinions, or attitudes of individuals or groups. Qualitative data cannot be analyzed using statistical methods, but it can be analyzed using methods such as content analysis and thematic analysis.\n",
    "\n",
    "\n",
    "\n",
    "Quantitative data is data that can be measured and expressed in numbers. It is often used to describe the size, shape, or other characteristics of a population or group. Quantitative data can be analyzed using statistical methods, such as mean, median, mode, and standard deviation.\n",
    "\n",
    "\n",
    "\n",
    "Qualitative data is data that cannot be measured or expressed in numbers. It is often used to describe the experiences, opinions, or attitudes of individuals or groups. Qualitative data cannot be analyzed using statistical methods, but it can be analyzed using methods such as content analysis and thematic analysis.\n",
    "\n",
    "\n",
    "The main difference between quantitative and qualitative data is that quantitative data can be analyzed using statistical methods, while qualitative data cannot. Quantitative data is often used to answer questions about how much, how many, or how often something occurs. Qualitative data is often used to answer questions about why something occurs or what people think about something."
   ]
  },
  {
   "cell_type": "markdown",
   "id": "a55b72e2",
   "metadata": {},
   "source": [
    "3. Create a basic data collection that includes some sample records. Have at least one attribute from each of the machine learning data types."
   ]
  },
  {
   "cell_type": "code",
   "execution_count": 2,
   "id": "3724ef74",
   "metadata": {},
   "outputs": [
    {
     "name": "stdout",
     "output_type": "stream",
     "text": [
      "         Name  Age  Gender         Occupation   Income Marital Status  \\\n",
      "0    John Doe   30    Male  Software Engineer   100000         Single   \n",
      "1    Jane Doe   25  Female            Teacher    50000        Married   \n",
      "2  Bill Smith   40    Male             Doctor   200000        Married   \n",
      "3      Nikhil   55    Male       Data analyst  1500000         Single   \n",
      "4       Akash   32    Male                 CA  1450000         Single   \n",
      "5      Shruti   41  Female             Fisher  1230000         Single   \n",
      "\n",
      "   Number of Children    Education Level Home Ownership Location  \n",
      "0                   0  Bachelor's Degree        Renting     City  \n",
      "1                   1    Master's Degree         Owning   Suburb  \n",
      "2                   2          Doctorate         Owning    Rural  \n",
      "3                   0    Master's Degree        Renting   Suburb  \n",
      "4                   0  Bachelor's Degree         Owning   Suburb  \n",
      "5                   0  Bachelor's Degree         Owning   Suburb  \n"
     ]
    }
   ],
   "source": [
    "import pandas as pd\n",
    "\n",
    "# Create a data frame\n",
    "df = pd.DataFrame({\n",
    "  \"Name\": [\"John Doe\", \"Jane Doe\", \"Bill Smith\",\"Nikhil\",\"Akash\",\"Shruti\"],\n",
    "  \"Age\": [30, 25, 40,55,32,41],\n",
    "  \"Gender\": [\"Male\", \"Female\", \"Male\",\"Male\",\"Male\",\"Female\"],\n",
    "  \"Occupation\": [\"Software Engineer\", \"Teacher\", \"Doctor\",\"Data analyst\",\"CA\",\"Fisher\"],\n",
    "  \"Income\": [100000, 50000, 200000,1500000,1450000,1230000],\n",
    "  \"Marital Status\": [\"Single\", \"Married\", \"Married\",\"Single\",\"Single\",\"Single\"],\n",
    "  \"Number of Children\": [0, 1, 2,0,0,0],\n",
    "  \"Education Level\": [\"Bachelor's Degree\", \"Master's Degree\", \"Doctorate\",\"Master's Degree\",\"Bachelor's Degree\",\"Bachelor's Degree\"],\n",
    "  \"Home Ownership\": [\"Renting\", \"Owning\", \"Owning\",\"Renting\",\"Owning\",\"Owning\"],\n",
    "  \"Location\": [\"City\", \"Suburb\", \"Rural\",\"Suburb\",\"Suburb\",\"Suburb\"]\n",
    "})\n",
    "\n",
    "# Print the data frame\n",
    "print(df)"
   ]
  },
  {
   "cell_type": "markdown",
   "id": "b567d9f6",
   "metadata": {},
   "source": [
    "4. What are the various causes of machine learning data issues? What are the ramifications?"
   ]
  },
  {
   "cell_type": "markdown",
   "id": "f7561936",
   "metadata": {},
   "source": [
    "**Data imbalance:** This occurs when the data used to train a machine learning model is not evenly distributed across the different classes that the model is intended to predict. This can lead to the model making biased predictions.\n",
    "\n",
    "**Data bias:** This occurs when the data used to train a machine learning model is not representative of the population that the model is intended to be used on. This can lead to the model making biased predictions.\n",
    "\n",
    "**Data scarcity:** This occurs when there is not enough data available to train a machine learning model. This can lead to the model making inaccurate predictions or failing to learn at all."
   ]
  },
  {
   "cell_type": "markdown",
   "id": "f1fd49a7",
   "metadata": {},
   "source": [
    "5. Demonstrate various approaches to categorical data exploration with appropriate examples."
   ]
  },
  {
   "cell_type": "markdown",
   "id": "9adf543e",
   "metadata": {},
   "source": [
    "Boxplots: A boxplot is a graph that shows the distribution of values in a continuous variable, including the median, quartiles, and outliers. For example, a boxplot for the continuous variable \"age\" might show that the median age is 30 years old, the interquartile range is 10 years, and there are two outliers, one at age 10 and one at age 60.\n",
    "\n",
    "Bar charts: A bar chart is a graph that shows the frequency of each category in a categorical variable. For example, a bar chart for the categorical variable \"gender\" might show that there are more males than females in a data set.\n",
    "\n",
    "Histograms: A histogram is a graph that shows the distribution of values in a continuous variable. For example, a histogram for the continuous variable \"age\" might show that the majority of the data set is between 20 and 40 years old."
   ]
  },
  {
   "cell_type": "markdown",
   "id": "2b2b6dbc",
   "metadata": {},
   "source": [
    "6. How would the learning activity be affected if certain variables have missing values? Having said that, what can be done about it?"
   ]
  },
  {
   "cell_type": "markdown",
   "id": "a936473c",
   "metadata": {},
   "source": [
    "ANS--->The missing values can have big impact on the learning data.If a variable is missing, it cannot be used to train the model, which can lead to inaccurate predictions. In addition, missing values can make it difficult to interpret the results of the model.The best approach to dealing with missing values will depend on the specific data set and the research question that is being asked. However, it is important to be aware of the potential impact of missing values and to take steps to address them."
   ]
  },
  {
   "cell_type": "markdown",
   "id": "dd6f4285",
   "metadata": {},
   "source": [
    "7. Describe the various methods for dealing with missing data values in depth."
   ]
  },
  {
   "cell_type": "markdown",
   "id": "1311a2d3",
   "metadata": {},
   "source": []
  },
  {
   "cell_type": "markdown",
   "id": "083caa62",
   "metadata": {},
   "source": [
    "8. What are the various data pre-processing techniques? Explain dimensionality reduction and function selection in a few words."
   ]
  },
  {
   "cell_type": "markdown",
   "id": "5e74f4b8",
   "metadata": {},
   "source": []
  },
  {
   "cell_type": "markdown",
   "id": "7bc32543",
   "metadata": {},
   "source": [
    "9.i. What is the IQR? What criteria are used to assess it?"
   ]
  },
  {
   "cell_type": "markdown",
   "id": "a4d328ca",
   "metadata": {},
   "source": [
    "ANS--->The IQR means Inter Quartile range it divides the data into four equal parts.Each containing 25% of the data of overall data availableThe first quartile (Q1) is the middle number between the smallest observation and the median of the data set. The third quartile (Q3) is the middle number between the median and the largest observation. The interquartile range is calculated by subtracting Q1 from Q3.\n",
    "\n",
    "**Ways to assess the IQR:**\n",
    "1.Size: The IQR should be large enough to capture the variability in the data set, but not so large that it is dominated by outliers.\n",
    "2.Robustness: The IQR should be a robust measure of variability that is not affected by outliers.\n",
    "3.Interpretability: The IQR should be easy to interpret and communicate."
   ]
  },
  {
   "cell_type": "markdown",
   "id": "10b24158",
   "metadata": {},
   "source": [
    "ii. Describe the various components of a box plot in detail? When will the lower whisker\n",
    "surpass the upper whisker in length? How can box plots be used to identify outliers?"
   ]
  },
  {
   "cell_type": "markdown",
   "id": "d01fd9be",
   "metadata": {},
   "source": [
    "**Median**:Median is the middle most value of the dataset.\n",
    "\n",
    "**First Quartile**:It is the area between smallest value to median.\n",
    "\n",
    "**Inter Quartile Range**:It is value between first quartile to third quartile.\n",
    "\n",
    "**Third Quartile**:It is between middle value to largest value.\n",
    "\n",
    "**Whiskers**:The whiskers extend from the box to the minimum and maximum values in the data set."
   ]
  },
  {
   "cell_type": "markdown",
   "id": "3f085b50",
   "metadata": {},
   "source": [
    "10. Make brief notes on any two of the following:\n",
    "\n",
    "1. Data collected at regular intervals\n",
    "\n",
    "2. The gap between the quartiles\n",
    "\n",
    "3. Use a cross-tab"
   ]
  },
  {
   "cell_type": "markdown",
   "id": "8c6fb8f1",
   "metadata": {},
   "source": [
    "ANS--->**The gap between the quartiles**: The gap between the quartiles is called the interquartile range (IQR). The IQR is a measure of variability that is not affected by outliers. It is often used in place of the standard deviation when the data is not normally distributed.\n",
    "\n",
    "The IQR is calculated by subtracting the first quartile (Q1) from the third quartile (Q3). For example, if Q1 is 20 and Q3 is 30, then the IQR is 10.\n",
    "\n",
    "The IQR can be used to assess the spread of a data set. A large IQR indicates that the data is spread out over a wide range of values, while a small IQR indicates that the data is clustered around a central value.\n",
    "\n",
    "The IQR can also be used to identify outliers. An outlier is an observation that is significantly different from the rest of the data. Outliers can be identified by comparing them to the IQR. An observation that is more than 1.5 IQRs above Q3 or 1.5 IQRs below Q1 is considered to be an outlier.\n",
    "\n",
    "**Data collected at regular intervals**:\n",
    "\n",
    "Data collected at regular intervals is called time series data. Time series data is often used to track trends over time. For example, a company might collect time series data on its sales to track how its sales are changing over time.\n",
    "\n",
    "There are a number of different ways to collect time series data. One common way is to collect data at regular intervals, such as once a day, once a week, or once a month. Another common way is to collect data whenever an event occurs, such as whenever a sale is made or whenever a customer calls customer service.\n",
    "\n",
    "Time series data can be analyzed using a variety of statistical methods. One common method is to plot the data on a time series chart. A time series chart shows the data points plotted over time. This can help to identify trends and patterns in the data.\n",
    "\n",
    "Time series data can also be analyzed using statistical models. Statistical models are mathematical equations that can be used to predict future values of the data. For example, a company might use a statistical model to predict its future sales."
   ]
  },
  {
   "cell_type": "markdown",
   "id": "ca0046b8",
   "metadata": {},
   "source": [
    "1. Make a comparison between:\n",
    "\n",
    "1. Data with nominal and ordinal values\n",
    "\n",
    "2. Histogram and box plot\n",
    "\n",
    "3. The average and median"
   ]
  },
  {
   "cell_type": "markdown",
   "id": "cd99529a",
   "metadata": {},
   "source": [
    "ANS--->1.**Nominal and Ordinal**:Nominal values are used to name or identify categories. They have no inherent order, and the categories are not ranked in any way. For example, the categories \"male\" and \"female\" are nominal values. Ordinal values are used to rank categories. The categories have a natural order, and the values can be compared to each other. For example, the categories \"low,\" \"medium,\" and \"high\" are ordinal values.\n",
    "\n",
    "\n",
    "2.**Histogram and Box plot**:In histogram the data is divided into some intervals acccording to our convience and we have bars for that specific intervals which represents the values for that intervals but in case of box plot that data is divided into the quartiles outside of it there is minimum and maximum values.in between median is given.\n",
    "\n",
    "3.**Average and Median**: Average is the value which is determined after calculating the sum of all observation and then divided by the number of observations whereas Median is the depends just on the number of observation it is the middle most observation values is the median.if number of obsevations are even then we took two middle values and then take avg of it ."
   ]
  },
  {
   "cell_type": "code",
   "execution_count": null,
   "id": "ed473200",
   "metadata": {},
   "outputs": [],
   "source": []
  }
 ],
 "metadata": {
  "kernelspec": {
   "display_name": "Python 3 (ipykernel)",
   "language": "python",
   "name": "python3"
  },
  "language_info": {
   "codemirror_mode": {
    "name": "ipython",
    "version": 3
   },
   "file_extension": ".py",
   "mimetype": "text/x-python",
   "name": "python",
   "nbconvert_exporter": "python",
   "pygments_lexer": "ipython3",
   "version": "3.10.9"
  }
 },
 "nbformat": 4,
 "nbformat_minor": 5
}
