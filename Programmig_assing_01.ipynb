{
  "nbformat": 4,
  "nbformat_minor": 0,
  "metadata": {
    "colab": {
      "provenance": []
    },
    "kernelspec": {
      "name": "python3",
      "display_name": "Python 3"
    },
    "language_info": {
      "name": "python"
    }
  },
  "cells": [
    {
      "cell_type": "markdown",
      "source": [
        "1. Write a Python program to print \"Hello Python\"?"
      ],
      "metadata": {
        "id": "WL1ql3q2DrUj"
      }
    },
    {
      "cell_type": "code",
      "source": [
        "print(\"Hello Python\")"
      ],
      "metadata": {
        "colab": {
          "base_uri": "https://localhost:8080/"
        },
        "id": "p1PLFJXyEPuU",
        "outputId": "de013bd6-9c83-4ba3-8679-70a4839301d4"
      },
      "execution_count": 1,
      "outputs": [
        {
          "output_type": "stream",
          "name": "stdout",
          "text": [
            "Hello Python\n"
          ]
        }
      ]
    },
    {
      "cell_type": "markdown",
      "source": [
        "2. Write a Python program to do arithmetical operations addition and division.?"
      ],
      "metadata": {
        "id": "b2u5BHzMD4HD"
      }
    },
    {
      "cell_type": "code",
      "source": [
        "a = int(input())\n",
        "b = int(input())\n",
        "c = print(a+b)\n",
        "d = print(a/b)"
      ],
      "metadata": {
        "colab": {
          "base_uri": "https://localhost:8080/"
        },
        "id": "F-aEBzpdEYbj",
        "outputId": "7858f3c8-a3a4-4fae-d2f8-59ab805bfc7f"
      },
      "execution_count": 2,
      "outputs": [
        {
          "output_type": "stream",
          "name": "stdout",
          "text": [
            "20\n",
            "10\n",
            "30\n",
            "2.0\n"
          ]
        }
      ]
    },
    {
      "cell_type": "markdown",
      "source": [
        "3. Write a Python program to find the area of a triangle?"
      ],
      "metadata": {
        "id": "9dAMC6vyD8O9"
      }
    },
    {
      "cell_type": "code",
      "source": [
        "a =float(input(\"enter first side: \"))\n",
        "b =float(input(\"Enter second side: \"))\n",
        "c =float(input(\"Enter third side: \"))\n",
        "s = (a+b+c)/2\n",
        "print(\"The semiperimeter of the trianle is : \",s)\n",
        "print(\"The area of the triangle is : \",((s*(s-a)*(s-b)*(s-c)))**0.5)"
      ],
      "metadata": {
        "colab": {
          "base_uri": "https://localhost:8080/"
        },
        "id": "c5THXsvKEptR",
        "outputId": "f9136173-5da8-4c67-9a4a-078e9d9d87b8"
      },
      "execution_count": 17,
      "outputs": [
        {
          "output_type": "stream",
          "name": "stdout",
          "text": [
            "enter first side: 10\n",
            "Enter second side: 12\n",
            "Enter third side: 20\n",
            "The semiperimeter of the trianle is :  21.0\n",
            "The area of the triangle is :  45.59605246071199\n"
          ]
        }
      ]
    },
    {
      "cell_type": "markdown",
      "source": [
        "4. Write a Python program to swap two variables?\n"
      ],
      "metadata": {
        "id": "R1TcZzpmEAT4"
      }
    },
    {
      "cell_type": "code",
      "source": [
        "x = 5\n",
        "y = 10\n",
        "\n",
        "x, y = y, x\n",
        "print(\"x =\", x)\n",
        "print(\"y =\", y)\n"
      ],
      "metadata": {
        "colab": {
          "base_uri": "https://localhost:8080/"
        },
        "id": "57T6VIW9JBJv",
        "outputId": "1d42efee-6689-40f5-ded8-377472a43471"
      },
      "execution_count": 19,
      "outputs": [
        {
          "output_type": "stream",
          "name": "stdout",
          "text": [
            "x = 10\n",
            "y = 5\n"
          ]
        }
      ]
    },
    {
      "cell_type": "code",
      "source": [
        "x = input()\n",
        "y = input()\n",
        "temp = x\n",
        "x = y\n",
        "y = temp\n",
        "print('The value of x after swapping: {}'.format(x))\n",
        "print('The value of y after swapping: {}'.format(y))"
      ],
      "metadata": {
        "colab": {
          "base_uri": "https://localhost:8080/"
        },
        "id": "ZUTtOVUyMwo7",
        "outputId": "d8c9156e-5890-435f-8a9a-a4367ac13958"
      },
      "execution_count": 21,
      "outputs": [
        {
          "output_type": "stream",
          "name": "stdout",
          "text": [
            "5\n",
            "0\n",
            "The value of x after swapping: 0\n",
            "The value of y after swapping: 5\n"
          ]
        }
      ]
    },
    {
      "cell_type": "markdown",
      "source": [
        "5. Write a Python program to generate a random number?"
      ],
      "metadata": {
        "id": "M7ll-zJqEDv1"
      }
    },
    {
      "cell_type": "code",
      "source": [
        "import random\n",
        "print(random.randint(10,10000))"
      ],
      "metadata": {
        "colab": {
          "base_uri": "https://localhost:8080/"
        },
        "id": "m3P2XjEdD_uE",
        "outputId": "c2423a32-b363-4ab9-a539-de750e74d0b2"
      },
      "execution_count": 27,
      "outputs": [
        {
          "output_type": "stream",
          "name": "stdout",
          "text": [
            "3037\n"
          ]
        }
      ]
    }
  ]
}