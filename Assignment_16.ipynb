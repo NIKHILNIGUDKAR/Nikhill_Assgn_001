{
  "nbformat": 4,
  "nbformat_minor": 0,
  "metadata": {
    "colab": {
      "provenance": []
    },
    "kernelspec": {
      "name": "python3",
      "display_name": "Python 3"
    },
    "language_info": {
      "name": "python"
    }
  },
  "cells": [
    {
      "cell_type": "markdown",
      "source": [
        "Question.1) Write a function that stutters a word as if someone is struggling to read it. The\n",
        "first two letters are repeated twice with an ellipsis ... and space after each, and then the\n",
        "word is pronounced with a question mark ?."
      ],
      "metadata": {
        "id": "yzrF5hU7p6UC"
      }
    },
    {
      "cell_type": "code",
      "source": [
        "def stutter(word):\n",
        " \n",
        "    # Repeat the first two letters of the word twice with an ellipsis and space after each\n",
        "    stuttered_word = word[0:2] + \"... \" + word[0:2] + \"... \"\n",
        "\n",
        "    # Add the stuttered word to the original word and a question mark at the end\n",
        "    stuttered_word += word + \"?\"\n",
        "\n",
        "    return stuttered_word\n"
      ],
      "metadata": {
        "id": "qY8d-75Dp88T"
      },
      "execution_count": 21,
      "outputs": []
    },
    {
      "cell_type": "markdown",
      "source": [
        "Question .2)Create a function that takes an angle in radians and returns the corresponding\n",
        "angle in degrees rounded to one decimal place."
      ],
      "metadata": {
        "id": "WW558IwQqCCz"
      }
    },
    {
      "cell_type": "code",
      "source": [
        "import math\n",
        "\n",
        "def radians_to_degrees(angle):\n",
        "    \"\"\"\n",
        "    This function takes an angle in radians and returns the corresponding angle in degrees\n",
        "    rounded to one decimal place.\n",
        "    \"\"\"\n",
        "    # Convert the angle from radians to degrees\n",
        "    degrees = angle * (180 / math.pi)\n",
        "\n",
        "    # Round the degrees to one decimal place\n",
        "    degrees = round(degrees, 1)\n",
        "\n",
        "    # Return the degrees\n",
        "    return degrees\n"
      ],
      "metadata": {
        "id": "H2VjQCVCqLNO"
      },
      "execution_count": 22,
      "outputs": []
    },
    {
      "cell_type": "markdown",
      "source": [
        "Question .3). In this challenge, establish if a given integer num is a Curzon number. If 1 plus\n",
        "2 elevated to num is exactly divisible by 1 plus 2 multiplied by num, then num is a Curzon\n",
        "number.\n",
        "Given a non-negative integer num, implement a function that returns True if num is a Curzon\n",
        "number, or False otherwise."
      ],
      "metadata": {
        "id": "0AzFPM5lqRbx"
      }
    },
    {
      "cell_type": "code",
      "source": [
        "def is_curzon_number(num):\n",
        "\n",
        "    numerator = 2**num + 1\n",
        "    denominator = 2*num + 1\n",
        "\n",
        "    if numerator % denominator == 0:\n",
        "        return True\n",
        "    else:\n",
        "        return False\n"
      ],
      "metadata": {
        "id": "-FSP1ofoqOGx"
      },
      "execution_count": 23,
      "outputs": []
    },
    {
      "cell_type": "markdown",
      "source": [
        "Question 4.Given the side length x find the area of a hexagon."
      ],
      "metadata": {
        "id": "inCjtDpmqavI"
      }
    },
    {
      "cell_type": "code",
      "source": [
        "import math\n",
        "\n",
        "def hexagon_area(x):\n",
        "    area = (3 * math.sqrt(3) * x**2) / 2\n",
        "    return area"
      ],
      "metadata": {
        "id": "uX8EVzVJqjIf"
      },
      "execution_count": null,
      "outputs": []
    },
    {
      "cell_type": "markdown",
      "source": [
        "Question .5). Create a function that returns a base-2 (binary) representation of a base-10\n",
        "(decimal) string number. To convert is simple: ((2) means base-2 and (10) means base-10)\n",
        "010101001(2) = 1 + 8 + 32 + 128.\n",
        "Going from right to left, the value of the most right bit is 1, now from that every bit to the left\n",
        "will be x2 the value, value of an 8 bit binary numbers are (256, 128, 64, 32, 16, 8, 4, 2, 1)."
      ],
      "metadata": {
        "id": "ecZ0qvs_rBqO"
      }
    },
    {
      "cell_type": "code",
      "source": [
        "def decimal_to_binary(decimal):\n",
        "    binary = bin(decimal)[2:]\n",
        "    return binary\n",
        "print(decimal_to_binary(10))\n",
        "print(decimal_to_binary(255)) \n",
        "print(decimal_to_binary(16))   \n"
      ],
      "metadata": {
        "colab": {
          "base_uri": "https://localhost:8080/"
        },
        "id": "XMAQ7lf-qtHY",
        "outputId": "214bc61d-e776-4df3-a20d-ab413e3bf379"
      },
      "execution_count": 27,
      "outputs": [
        {
          "output_type": "stream",
          "name": "stdout",
          "text": [
            "1010\n",
            "11111111\n",
            "10000\n"
          ]
        }
      ]
    },
    {
      "cell_type": "code",
      "source": [],
      "metadata": {
        "id": "ScZ46M6erYG8"
      },
      "execution_count": null,
      "outputs": []
    }
  ]
}