{
 "cells": [
  {
   "cell_type": "markdown",
   "id": "fb33f236",
   "metadata": {},
   "source": [
    "1. Create a list called years_list, starting with the year of your birth, and each year thereafter until\n",
    "the year of your fifth birthday. For example, if you were born in 1980. the list would be years_list =\n",
    "[1980, 1981, 1982, 1983, 1984, 1985]."
   ]
  },
  {
   "cell_type": "code",
   "execution_count": 1,
   "id": "6e40b4a6",
   "metadata": {},
   "outputs": [],
   "source": [
    "year_list=[2000,2001,2002,2003,2004,2005]"
   ]
  },
  {
   "cell_type": "markdown",
   "id": "34614432",
   "metadata": {},
   "source": [
    "2. In which year in years_list was your third birthday? Remember, you were 0 years of age for your\n",
    "first year."
   ]
  },
  {
   "cell_type": "code",
   "execution_count": 2,
   "id": "cc600acc",
   "metadata": {},
   "outputs": [
    {
     "data": {
      "text/plain": [
       "2003"
      ]
     },
     "execution_count": 2,
     "metadata": {},
     "output_type": "execute_result"
    }
   ],
   "source": [
    "year_list[3]"
   ]
  },
  {
   "cell_type": "markdown",
   "id": "5989808b",
   "metadata": {},
   "source": [
    "3.In the years list, which year were you the oldest?"
   ]
  },
  {
   "cell_type": "code",
   "execution_count": 3,
   "id": "a26be6de",
   "metadata": {},
   "outputs": [
    {
     "data": {
      "text/plain": [
       "2005"
      ]
     },
     "execution_count": 3,
     "metadata": {},
     "output_type": "execute_result"
    }
   ],
   "source": [
    "year_list[-1]"
   ]
  },
  {
   "cell_type": "markdown",
   "id": "45ad189c",
   "metadata": {},
   "source": [
    "4. Make a list called things with these three strings as elements: 'mozzarella','cinderella','salmonella'"
   ]
  },
  {
   "cell_type": "code",
   "execution_count": 2,
   "id": "d3057964",
   "metadata": {},
   "outputs": [],
   "source": [
    "things=['mozzarella','cinderella','salmonella']"
   ]
  },
  {
   "cell_type": "markdown",
   "id": "43eb954d",
   "metadata": {},
   "source": [
    "5. Capitalize the element in things that refers to a person and then print the list. Did it change the\n",
    "element in the list?"
   ]
  },
  {
   "cell_type": "code",
   "execution_count": 5,
   "id": "3504f9ae",
   "metadata": {},
   "outputs": [
    {
     "name": "stdout",
     "output_type": "stream",
     "text": [
      "MOZZARELLA\n"
     ]
    }
   ],
   "source": [
    "print(things[0].upper())"
   ]
  },
  {
   "cell_type": "markdown",
   "id": "acb7364b",
   "metadata": {},
   "source": [
    "6. Make a surprise list with the elements\"Groucho\", \"Chico\", and 'Harpo'"
   ]
  },
  {
   "cell_type": "code",
   "execution_count": 6,
   "id": "f8a24e57",
   "metadata": {},
   "outputs": [],
   "source": [
    "surprise_list = [\"Groucho\", \"Chico\", \"Harpo\"]"
   ]
  },
  {
   "cell_type": "markdown",
   "id": "dc37a384",
   "metadata": {},
   "source": [
    "7. Lowercase the last element of the surprise list, reverse it, and then capitalize it."
   ]
  },
  {
   "cell_type": "code",
   "execution_count": 8,
   "id": "a21099c6",
   "metadata": {},
   "outputs": [
    {
     "name": "stdout",
     "output_type": "stream",
     "text": [
      "harpo\n"
     ]
    }
   ],
   "source": [
    "print(surprise_list[-1].lower())"
   ]
  },
  {
   "cell_type": "code",
   "execution_count": 11,
   "id": "4062c41c",
   "metadata": {},
   "outputs": [
    {
     "name": "stdout",
     "output_type": "stream",
     "text": [
      "opraH\n"
     ]
    }
   ],
   "source": [
    "print(surprise_list[-1][::-1])"
   ]
  },
  {
   "cell_type": "code",
   "execution_count": 12,
   "id": "d1aeaa58",
   "metadata": {},
   "outputs": [
    {
     "name": "stdout",
     "output_type": "stream",
     "text": [
      "HARPO\n"
     ]
    }
   ],
   "source": [
    "print(surprise_list[-1].upper())"
   ]
  },
  {
   "cell_type": "markdown",
   "id": "fcd21192",
   "metadata": {},
   "source": [
    "8. Make an English-to-French dictionary called e2f and print it. Here are your starter words: dog is chien, cat is chat, and walrus is morse."
   ]
  },
  {
   "cell_type": "code",
   "execution_count": 13,
   "id": "a68ea3f1",
   "metadata": {},
   "outputs": [],
   "source": [
    "e2f={\"dog\":\"chien\",\"cat\":\"chat\",\"walrus\":\"morse\"}"
   ]
  },
  {
   "cell_type": "markdown",
   "id": "910d62cf",
   "metadata": {},
   "source": [
    "9. Write the French word for walrus in your three-word dictionary e2f."
   ]
  },
  {
   "cell_type": "code",
   "execution_count": 14,
   "id": "a204acdf",
   "metadata": {},
   "outputs": [
    {
     "name": "stdout",
     "output_type": "stream",
     "text": [
      "morse\n"
     ]
    }
   ],
   "source": [
    "print(e2f['walrus'])"
   ]
  },
  {
   "cell_type": "markdown",
   "id": "98846cbe",
   "metadata": {},
   "source": [
    "10. Make a French-to-English dictionary called f2e from e2f. Use the items method."
   ]
  },
  {
   "cell_type": "code",
   "execution_count": 15,
   "id": "08e2a235",
   "metadata": {},
   "outputs": [
    {
     "name": "stdout",
     "output_type": "stream",
     "text": [
      "The input dictionary is:\n",
      "{'dog': 'chien', 'cat': 'chat', 'walrus': 'morse'}\n",
      "The reversed dictionary is:\n",
      "{'chien': 'dog', 'chat': 'cat', 'morse': 'walrus'}\n"
     ]
    }
   ],
   "source": [
    "e2f = {\"dog\":\"chien\",\"cat\":\"chat\",\"walrus\":\"morse\"}\n",
    "print(\"The input dictionary is:\")\n",
    "print(e2f)\n",
    "reversedDict = dict()\n",
    "for item in e2f.items():\n",
    "    key = item[1]\n",
    "    val = item[0]\n",
    "    reversedDict[key] = val\n",
    "print(\"The reversed dictionary is:\")\n",
    "print(reversedDict)"
   ]
  },
  {
   "cell_type": "markdown",
   "id": "7fbf1bb0",
   "metadata": {},
   "source": [
    "11. Print the English version of the French word chien using f2e."
   ]
  },
  {
   "cell_type": "code",
   "execution_count": 17,
   "id": "a95b54fa",
   "metadata": {},
   "outputs": [
    {
     "name": "stdout",
     "output_type": "stream",
     "text": [
      "dog\n"
     ]
    }
   ],
   "source": [
    "f2e={'chien': 'dog', 'chat': 'cat', 'morse': 'walrus'}\n",
    "print(f2e['chien'])"
   ]
  },
  {
   "cell_type": "markdown",
   "id": "5e3f4566",
   "metadata": {},
   "source": [
    "12. Make and print a set of English words from the keys in e2f."
   ]
  },
  {
   "cell_type": "code",
   "execution_count": 18,
   "id": "31aeb91c",
   "metadata": {},
   "outputs": [
    {
     "name": "stdout",
     "output_type": "stream",
     "text": [
      "{'morse', 'chien', 'chat'}\n"
     ]
    }
   ],
   "source": [
    "e2f = {\"dog\":\"chien\",\"cat\":\"chat\",\"walrus\":\"morse\"}\n",
    "my_set = set(e2f.values())\n",
    "print(my_set) "
   ]
  },
  {
   "cell_type": "markdown",
   "id": "aab930e0",
   "metadata": {},
   "source": [
    "13. Make a multilevel dictionary called life. Use these strings for the topmost keys: 'animals', 'plants',and 'other'. Make the 'animals' key refer to another dictionary with the keys 'cats', 'octopi' and'emus'. Make the 'cats' key refer to a list of strings with the values 'Henri', 'Grumpy', and 'Lucy'.Make all the other keys refer to empty dictionaries."
   ]
  },
  {
   "cell_type": "code",
   "execution_count": 19,
   "id": "aed07307",
   "metadata": {},
   "outputs": [],
   "source": [
    "life = {\n",
    "    'animals': {\n",
    "        'cats': ['Henri', 'Grumpy', 'Lucy'],\n",
    "        'octopi': {},\n",
    "        'emus': {}\n",
    "    },\n",
    "    'plants': {},\n",
    "    'other': {}\n",
    "}\n"
   ]
  },
  {
   "cell_type": "code",
   "execution_count": null,
   "id": "b49802b1",
   "metadata": {},
   "outputs": [],
   "source": [
    "14. Print the top-level keys of life."
   ]
  },
  {
   "cell_type": "code",
   "execution_count": 24,
   "id": "b27689ee",
   "metadata": {},
   "outputs": [
    {
     "name": "stdout",
     "output_type": "stream",
     "text": [
      "dict_keys(['animals', 'plants', 'other'])\n"
     ]
    }
   ],
   "source": [
    "print(life.keys())"
   ]
  },
  {
   "cell_type": "markdown",
   "id": "f96aa4fc",
   "metadata": {},
   "source": [
    "15. Print the keys for life['animals']."
   ]
  },
  {
   "cell_type": "code",
   "execution_count": 26,
   "id": "caaef6c7",
   "metadata": {},
   "outputs": [
    {
     "name": "stdout",
     "output_type": "stream",
     "text": [
      "dict_keys(['cats', 'octopi', 'emus'])\n"
     ]
    }
   ],
   "source": [
    "print(life['animals'].keys())"
   ]
  },
  {
   "cell_type": "markdown",
   "id": "53fba3bc",
   "metadata": {},
   "source": [
    "16. Print the values for life['animals']['cats']"
   ]
  },
  {
   "cell_type": "code",
   "execution_count": 28,
   "id": "ba8b365e",
   "metadata": {},
   "outputs": [
    {
     "name": "stdout",
     "output_type": "stream",
     "text": [
      "['Henri', 'Grumpy', 'Lucy']\n"
     ]
    }
   ],
   "source": [
    "print(life['animals']['cats'])"
   ]
  }
 ],
 "metadata": {
  "kernelspec": {
   "display_name": "Python 3 (ipykernel)",
   "language": "python",
   "name": "python3"
  },
  "language_info": {
   "codemirror_mode": {
    "name": "ipython",
    "version": 3
   },
   "file_extension": ".py",
   "mimetype": "text/x-python",
   "name": "python",
   "nbconvert_exporter": "python",
   "pygments_lexer": "ipython3",
   "version": "3.9.13"
  }
 },
 "nbformat": 4,
 "nbformat_minor": 5
}
