{
  "nbformat": 4,
  "nbformat_minor": 0,
  "metadata": {
    "colab": {
      "provenance": []
    },
    "kernelspec": {
      "name": "python3",
      "display_name": "Python 3"
    },
    "language_info": {
      "name": "python"
    }
  },
  "cells": [
    {
      "cell_type": "markdown",
      "source": [
        "1. What are the new features added in Python 3.8 version?"
      ],
      "metadata": {
        "id": "39Bd9Bf40zAA"
      }
    },
    {
      "cell_type": "markdown",
      "source": [
        "ANS---> \n",
        "1. Assignment Expressions (the \"walrus operator\" :=) allow you to assign values to variables as part of an expression, which can simplify code and improve readability.\n",
        "\n",
        "2. Positional-only parameters allow you to define function parameters that can only be passed positionally and not by keyword argument.\n",
        "\n",
        "3. f-strings now support = to specify a formatted expression's value and repr to get the string representation of a value.\n",
        "\n",
        "4. The typing module has been updated to support TypedDict, which allows you to create dictionary-like objects with specified keys and value types.\n",
        "\n",
        "5. The math module now includes several new functions, including gcd(), lcm(), and isqrt()."
      ],
      "metadata": {
        "id": "dleZ8PUG00S3"
      }
    },
    {
      "cell_type": "markdown",
      "source": [
        "2. What is monkey patching in Python?\n"
      ],
      "metadata": {
        "id": "UQNgQwFl1XiE"
      }
    },
    {
      "cell_type": "markdown",
      "source": [
        "ANS---> \n",
        "        Monkey patching in Python is the process of modifying or extending the behavior of a module, class, method, or function at runtime without actually changing its source code. It involves overriding or replacing an object's attribute, method or function with a new implementation at runtime, which is done by assigning a new value to the object's attribute, method or function. This technique can be useful in situations where it is not possible or practical to modify the original source code, or when quick and temporary fixes are needed. However, it can also be risky and lead to unexpected behavior, so it should be used with caution."
      ],
      "metadata": {
        "id": "IH1W4iBi11lj"
      }
    },
    {
      "cell_type": "markdown",
      "source": [
        "3. What is the difference between a shallow copy and deep copy?\n"
      ],
      "metadata": {
        "id": "MIbjWpzR1Zh7"
      }
    },
    {
      "cell_type": "markdown",
      "source": [
        "ANS--->\n",
        "        In Python, when you make a copy of an object, you can either create a shallow copy or a deep copy.\n",
        "\n",
        "A shallow copy creates a new object and then inserts references to the same objects as the original. In other words, the new object points to the same memory location as the original. If you modify one of the objects, the other will also be affected. You can create a shallow copy using the copy() method or the built-in function list().\n",
        "\n",
        "A deep copy, on the other hand, creates a new object and recursively inserts copies of all the objects referenced by the original. In other words, the new object is completely independent of the original. If you modify one of the objects, the other will not be affected. You can create a deep copy using the deepcopy() method from the copy module.\n",
        "\n",
        "In summary, the main difference between shallow copy and deep copy is that shallow copy creates a new object that references the original, while deep copy creates a new object with its own copies of all referenced objects"
      ],
      "metadata": {
        "id": "CzuituKh18zL"
      }
    },
    {
      "cell_type": "markdown",
      "source": [
        "4. What is the maximum possible length of an identifier?\n"
      ],
      "metadata": {
        "id": "o9HZN9Df1bgE"
      }
    },
    {
      "cell_type": "markdown",
      "source": [
        "ANS--->\n",
        "        In Python, the maximum length of an identifier is not explicitly defined. However, it is generally recommended to keep identifiers reasonably short and descriptive. In addition, PEP 8, the official Python style guide, recommends that identifiers should not exceed 79 characters in lengths"
      ],
      "metadata": {
        "id": "wEhxfh9e2D-C"
      }
    },
    {
      "cell_type": "markdown",
      "source": [
        "5. What is generator comprehension?"
      ],
      "metadata": {
        "id": "oBybqlww1dMk"
      }
    },
    {
      "cell_type": "markdown",
      "source": [
        "ANS--->\n",
        "        Generator comprehension is a concise way to create an iterable generator object in Python. It is similar to list comprehension, but instead of creating a list, it creates a generator. A generator comprehension is defined within parentheses, and it follows the same syntax as list comprehension, with the only difference being that it uses round brackets instead of square bracke"
      ],
      "metadata": {
        "id": "lMgsihvj2MIE"
      }
    }
  ]
}