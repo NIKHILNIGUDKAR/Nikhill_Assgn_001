{
 "cells": [
  {
   "cell_type": "markdown",
   "id": "dca89492",
   "metadata": {},
   "source": [
    "1. What are the key tasks involved in getting ready to work with machine learning modeling?\n"
   ]
  },
  {
   "cell_type": "markdown",
   "id": "97c3c5cd",
   "metadata": {},
   "source": [
    "ANS--->**Define the problem:** Clearly define the problem you want to solve using machine learning. Identify the specific task or objective, such as classification, regression, clustering, or recommendation.\n",
    "\n",
    "**Gather and preprocess data:** Collect the relevant data needed for your machine learning task. This includes identifying the data sources, obtaining the data, and preprocessing it to ensure it is in a suitable format for analysis. This may involve tasks like data cleaning, handling missing values, handling outliers, and normalizing or scaling the data.\n",
    "\n",
    "**Data exploration and visualization:** Explore and visualize the data to gain insights into its characteristics, relationships, and distributions. This step helps in understanding the data, identifying patterns, and making informed decisions about feature selection and engineering."
   ]
  },
  {
   "cell_type": "markdown",
   "id": "4c925d26",
   "metadata": {},
   "source": [
    "2. What are the different forms of data used in machine learning? Give a specific example for each of them."
   ]
  },
  {
   "cell_type": "markdown",
   "id": "df60a2fd",
   "metadata": {},
   "source": [
    "ANS---> In machine learning, various forms of data can be used, depending on the nature of the problem and the available information.\n",
    "I.**Structured Data:**\n",
    "Structured data refers to data that is organized in a tabular format, typically represented as rows and columns. Each column represents a feature or attribute, and each row represents an instance or data point.e.g:Customer Data: A dataset containing customer information such as name, age, gender, income, and purchase history.\n",
    "Financial Data: A dataset with columns representing financial indicators like revenue, expenses, profit, and stock price over time.\n",
    "\n",
    "II.**Unstructured Data:**\n",
    "Unstructured data refers to data that does not have a predefined structure or format. It is typically free-form and can include text, images, audio, or video.Examples Text Data: A collection of documents, articles, or social media posts.\n",
    "\n",
    "III.**Time Series Data:**\n",
    "Time series data is a sequence of data points collected at regular intervals over time. It is commonly used in forecasting or analyzing trends and patterns. Examples of time series data include:\n",
    "Stock Prices: A historical dataset of stock prices recorded at specific time intervals.\n",
    "Climate Data: A collection of temperature, humidity, or precipitation measurements over a specific period"
   ]
  },
  {
   "cell_type": "markdown",
   "id": "f3520469",
   "metadata": {},
   "source": [
    "3. Distinguish:\n",
    "\n",
    "1. Numeric vs. categorical attributes\n",
    "\n",
    "2. Feature selection vs. dimensionality reduction"
   ]
  },
  {
   "cell_type": "markdown",
   "id": "9ff545fd",
   "metadata": {},
   "source": [
    "ANS--->**Numeric Attributes:**\n",
    "\n",
    "Numeric attributes represent quantitative values that can be measured or counted.\n",
    "They are typically continuous or discrete variables that can take on a wide range of numerical values.\n",
    "Examples of numeric attributes include age, height, temperature, income, or number of sales.\n",
    "Numeric attributes allow for mathematical operations such as addition, subtraction, multiplication, and division.\n",
    "\n",
    "**Categorical Attributes:**\n",
    "\n",
    "Categorical attributes represent qualitative or nominal values that belong to specific categories or groups.\n",
    "They are non-numeric variables that describe qualities or characteristics.\n",
    "Examples of categorical attributes include gender (male/female), color (red/blue/green), nationality, or product categories.\n",
    "Categorical attributes do not have an inherent order or mathematical meaning and are typically represented by labels or symbols.\n",
    "\n",
    "**Feature Selection:**\n",
    "\n",
    "Feature selection is the process of identifying and selecting a subset of relevant features or variables from a larger set of available features.\n",
    "The goal of feature selection is to reduce the number of features without sacrificing the predictive power or performance of a machine learning model.\n",
    "It aims to improve model efficiency, reduce overfitting, and enhance interpretability by focusing on the most informative features.\n",
    "Feature selection techniques include univariate selection, recursive feature elimination, feature importance ranking, or correlation analysis.\n",
    "\n",
    "**Dimensionality Reduction:**\n",
    "\n",
    "Dimensionality reduction is the process of reducing the number of variables or dimensions in a dataset while preserving as much information as possible.\n",
    "It aims to overcome the curse of dimensionality, reduce computational complexity, and enhance model performance.\n",
    "Dimensionality reduction techniques transform the original high-dimensional dataset into a lower-dimensional representation.\n",
    "Techniques such as principal component analysis (PCA), linear discriminant analysis (LDA), or t-SNE (t-distributed stochastic neighbor embedding) are commonly used for dimensionality reduction."
   ]
  },
  {
   "cell_type": "markdown",
   "id": "b72b313a",
   "metadata": {},
   "source": [
    "4. Make quick notes on any two of the following:\n",
    "\n",
    "1. The histogram\n",
    "\n",
    "2. Use a scatter plot\n",
    "\n",
    "3. PCA (Personal Computer Aid)"
   ]
  },
  {
   "cell_type": "markdown",
   "id": "c4f03053",
   "metadata": {},
   "source": [
    "ANS--->**1. The histogram**:A histogram is a graphical representation of the distribution of a continuous or discrete variable.\n",
    "It consists of a series of bars or rectangles where the width represents the range of values and the height represents the frequency or count of observations within each range.\n",
    "Histograms provide insights into the shape, center, spread, and presence of outliers in the data distribution.\n",
    "They are useful for understanding the data's overall pattern, detecting skewness, identifying modes, and assessing the presence of gaps or clusters.\n",
    "Histograms can help make comparisons between different groups or datasets, allowing for visual comparisons of distributions.\n",
    "**scatter plot**:A scatter plot is a two-dimensional plot that displays the relationship between two continuous variables.\n",
    "It represents data points as individual dots or markers on a coordinate system, with one variable plotted along the x-axis and the other along the y-axis.\n",
    "Scatter plots are helpful for understanding the correlation, trend, or pattern between two variables.\n",
    "They can indicate the presence of a positive, negative, or no relationship between the variables.\n",
    "Scatter plots are particularly useful for identifying outliers or unusual observations that deviate from the general pattern."
   ]
  },
  {
   "cell_type": "markdown",
   "id": "a9f529c5",
   "metadata": {},
   "source": [
    "5. Why is it necessary to investigate data? Is there a discrepancy in how qualitative and quantitative data are explored?"
   ]
  },
  {
   "cell_type": "markdown",
   "id": "aff5185f",
   "metadata": {},
   "source": [
    "ANS--->While the methods and techniques used may differ, the ultimate goal of data exploration remains the same: to gain insights, understand the data's characteristics, and make informed decisions based on the findings."
   ]
  },
  {
   "cell_type": "markdown",
   "id": "296af69c",
   "metadata": {},
   "source": [
    "6. What are the various histogram shapes? What exactly are ‘bins'?"
   ]
  },
  {
   "cell_type": "markdown",
   "id": "62b76ee1",
   "metadata": {},
   "source": [
    "ANS--->Uniform Distribution,Normal distribution,skewed distribution,positively skewed,negatively skewed.'Bins' refer to the intervals or ranges into which the data is divided in a histogram. A histogram displays the distribution of data by dividing the range of values into equal-sized intervals or bins and counting the number of observations that fall into each bin. "
   ]
  },
  {
   "cell_type": "markdown",
   "id": "5fc58717",
   "metadata": {},
   "source": [
    "7. How do we deal with data outliers?"
   ]
  },
  {
   "cell_type": "markdown",
   "id": "d2e17938",
   "metadata": {},
   "source": [
    "ANS--->We can remove the outliers.If we couldnot remove the outliers then we can transformed this data into various type we can take the square root of that data or we can use box-cox transformation.Winsorization,Imputation,Robust Models,Separate Analysis these are various methods tho deal with outliers."
   ]
  },
  {
   "cell_type": "markdown",
   "id": "f284c248",
   "metadata": {},
   "source": [
    "8. What are the various central inclination measures? Why does mean vary too much from median in certain data sets?"
   ]
  },
  {
   "cell_type": "markdown",
   "id": "4045c20c",
   "metadata": {},
   "source": [
    "ANS--->1. Mean: The mean is calculated by summing all the values in the dataset and dividing by the total number of observations. It is sensitive to extreme values and outliers.\n",
    "\n",
    "2. Median: The median is the middle value in a sorted dataset. It divides the data into two equal halves, with 50% of the observations falling below and 50% above the median. It is less sensitive to extreme values and outliers compared to the mean.\n",
    "\n",
    "3. Mode: The mode represents the value(s) that occur most frequently in the dataset. It is applicable to both categorical and numerical data."
   ]
  },
  {
   "cell_type": "markdown",
   "id": "9889518f",
   "metadata": {},
   "source": [
    "9. Describe how a scatter plot can be used to investigate bivariate relationships. Is it possible to find outliers using a scatter plot?"
   ]
  },
  {
   "cell_type": "markdown",
   "id": "f060149b",
   "metadata": {},
   "source": [
    "ANS---> A scatter plot is a graphical representation of a bivariate dataset that allows us to visualize the relationship between two variables. It is particularly useful for investigating the correlation, trend, or pattern between the variables. Here's how a scatter plot can be used to investigate bivariate relationships:\n",
    "\n",
    "1. Relationship Assessment: By plotting the values of one variable on the x-axis and the values of another variable on the y-axis, a scatter plot shows the distribution of points in the coordinate plane. It provides an immediate visual impression of the relationship between the two variables. We can identify whether there is a positive, negative, or no apparent relationship.\n",
    "\n",
    "2. Correlation Detection: Scatter plots help assess the strength and direction of the relationship between the variables. If the points on the scatter plot roughly follow a linear trend, it suggests a correlation between the variables. A positive correlation implies that as one variable increases, the other tends to increase as well. Conversely, a negative correlation indicates that as one variable increases, the other tends to decrease.\n",
    "\n",
    "3. Outlier Identification: Scatter plots can be helpful in detecting outliers, which are observations that deviate significantly from the general pattern or trend in the data. Outliers appear as points that are far away from the majority of the data points. By visualizing the scatter plot, we can identify observations that fall outside the expected range and may require further investigation. Outliers can provide valuable insights into unusual or interesting phenomena within the data.\n",
    "\n",
    "4. Pattern Recognition: Scatter plots can reveal patterns beyond simple correlation. They can expose non-linear relationships, clusters, or other structures in the data. These patterns can be crucial in understanding the underlying mechanisms or dependencies between the variables."
   ]
  },
  {
   "cell_type": "markdown",
   "id": "37af2dea",
   "metadata": {},
   "source": [
    "10. Describe how cross-tabs can be used to figure out how two variables are related."
   ]
  },
  {
   "cell_type": "markdown",
   "id": "30e3cc62",
   "metadata": {},
   "source": [
    "ANS--->1.**Create a Cross-Tab Table:** To create a cross-tab table, we place the values of one variable along the rows and the values of another variable along the columns. The cells in the table show the number of observations that have a particular combination of values for the two variables. This provides a visual representation of the relationship between the two variables.\n",
    "\n",
    "2.**Analyze the Conditional Distributions:** Conditional distributions show the frequency distribution of one variable within each category of the other variable. This provides insights into how the two variables are related. We can use conditional distributions to identify any association or correlation between the variables. If the distribution of one variable is significantly different for different categories of the other variable, it suggests that there is an association between the two variables"
   ]
  }
 ],
 "metadata": {
  "kernelspec": {
   "display_name": "Python 3 (ipykernel)",
   "language": "python",
   "name": "python3"
  },
  "language_info": {
   "codemirror_mode": {
    "name": "ipython",
    "version": 3
   },
   "file_extension": ".py",
   "mimetype": "text/x-python",
   "name": "python",
   "nbconvert_exporter": "python",
   "pygments_lexer": "ipython3",
   "version": "3.10.9"
  }
 },
 "nbformat": 4,
 "nbformat_minor": 5
}
