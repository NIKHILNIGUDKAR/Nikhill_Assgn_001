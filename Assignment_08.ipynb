{
 "cells": [
  {
   "cell_type": "markdown",
   "id": "1ef5e3e0",
   "metadata": {},
   "source": [
    "Q1. What are the two latest user-defined exception constraints in Python 3.X?"
   ]
  },
  {
   "cell_type": "markdown",
   "id": "d73a6998",
   "metadata": {},
   "source": [
    "ANS:The \"__Cause__\" attribute and the \"__constraint__\" attribute these are the two latest user-defined  exception constraints in python 3.x"
   ]
  },
  {
   "cell_type": "markdown",
   "id": "ac2e4d66",
   "metadata": {},
   "source": [
    "Q2. How are class-based exceptions that have been raised matched to handlers?"
   ]
  },
  {
   "cell_type": "markdown",
   "id": "f5b53696",
   "metadata": {},
   "source": [
    "ANS:The current function or method: The interpreter first checks if there is an exception handler in the current function or method. If there is, the handler is executed.\n",
    "\n",
    "1.The calling function or method: If there is no handler in the current function or method, the interpreter checks the calling function or method for a handler. This process continues up the call stack until a handler is found or the top level of the program is reached.\n",
    "\n",
    "2.The module level: If no handler is found in any calling function or method, the interpreter looks for a handler at the module level.\n",
    "\n",
    "3.The built-in exception handlers: If no handler is found at the module level, the interpreter looks for a built-in exception handler that matches the exception. If a built-in handler is found, it is executed.\n",
    "\n",
    "When the interpreter searches for a handler, it matches the exception to the handler by comparing the exception type to the type of the handler. If the exception type is a subclass of the handler type, the handler is considered a match and is executed. If the exception type is not a subclass of the handler type, the handler is not executed and the search for a handler continues."
   ]
  },
  {
   "cell_type": "markdown",
   "id": "c593e922",
   "metadata": {},
   "source": [
    "Q3. Describe two methods for attaching context information to exception artefacts."
   ]
  },
  {
   "cell_type": "markdown",
   "id": "9a167a09",
   "metadata": {},
   "source": [
    "  ANS: 1.Using the with_traceback() method: The with_traceback() method can be used to attach a traceback object to an exception. This can be useful when you want to provide additional context information about where the exception occurred.\n",
    "\n",
    "2.Using the __context__ attribute: The __context__ attribute can be used to attach context information to an exception. This can be useful when you want to provide additional context information about an exception that is not directly related to the cause of the exception"
   ]
  },
  {
   "cell_type": "markdown",
   "id": "29aa9ec0",
   "metadata": {},
   "source": [
    "Q4. Describe two methods for specifying the text of an exception object's error message."
   ]
  },
  {
   "cell_type": "markdown",
   "id": "41fc7278",
   "metadata": {},
   "source": [
    "ANS:1.Using the str() function: The str() function can be used to convert any object to a string. This can be useful when you want to create a custom error message for an exception.\n",
    "\n",
    "2.Overriding the __str__() method: The __str__() method can be overridden in a custom exception class to specify the text of the error message. "
   ]
  },
  {
   "cell_type": "markdown",
   "id": "48c0606f",
   "metadata": {},
   "source": [
    "Q5. Why do you no longer use string-based exceptions?"
   ]
  },
  {
   "cell_type": "markdown",
   "id": "41505899",
   "metadata": {},
   "source": [
    "ANS:It is difficult to determine the exact type of exception that was raised. This can make hard to write code that properly handles different types of exceptions.With class based exceptions you can define your own exception classes that inherited from the built in exception class.This allows you to custom exceptions that are specific to your classes."
   ]
  }
 ],
 "metadata": {
  "kernelspec": {
   "display_name": "Python 3 (ipykernel)",
   "language": "python",
   "name": "python3"
  },
  "language_info": {
   "codemirror_mode": {
    "name": "ipython",
    "version": 3
   },
   "file_extension": ".py",
   "mimetype": "text/x-python",
   "name": "python",
   "nbconvert_exporter": "python",
   "pygments_lexer": "ipython3",
   "version": "3.9.13"
  }
 },
 "nbformat": 4,
 "nbformat_minor": 5
}
