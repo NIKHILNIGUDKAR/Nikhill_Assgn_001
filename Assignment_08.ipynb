{
 "cells": [
  {
   "cell_type": "markdown",
   "id": "de8a8977",
   "metadata": {},
   "source": [
    "1. Is the Python Standard Library included with PyInputPlus?"
   ]
  },
  {
   "cell_type": "markdown",
   "id": "a4669b54",
   "metadata": {},
   "source": [
    "ANS--->PyInputPlus is not part of the python standard library."
   ]
  },
  {
   "cell_type": "markdown",
   "id": "7ea08f49",
   "metadata": {},
   "source": [
    "2. Why is PyInputPlus commonly imported with import pyinputplus as pypi?"
   ]
  },
  {
   "cell_type": "markdown",
   "id": "3d959029",
   "metadata": {},
   "source": [
    "ANS--->We import PyInputPlus with import pyinputplus as pypi because we can enter shorter name while calling module    function."
   ]
  },
  {
   "cell_type": "markdown",
   "id": "88f89ac9",
   "metadata": {},
   "source": [
    "3. How do you distinguish between inputInt() and inputFloat()?"
   ]
  },
  {
   "cell_type": "markdown",
   "id": "9b590863",
   "metadata": {},
   "source": [
    "ANS--->inputInt() accepts integer values and additional parameters like min , max , greater than equal to where inputFloat() accepts floating point numeric value."
   ]
  },
  {
   "cell_type": "markdown",
   "id": "44d4b6e6",
   "metadata": {},
   "source": [
    "4. Using PyInputPlus, how do you ensure that the user enters a whole number between 0 and 99?"
   ]
  },
  {
   "cell_type": "code",
   "execution_count": null,
   "id": "85979804",
   "metadata": {},
   "outputs": [],
   "source": [
    "pyip.inputInt(min = 0, max =99)"
   ]
  },
  {
   "cell_type": "markdown",
   "id": "e18c4ac0",
   "metadata": {},
   "source": [
    "5. What is transferred to the keyword arguments allowRegexes and blockRegexes?"
   ]
  },
  {
   "cell_type": "markdown",
   "id": "5dd462f2",
   "metadata": {},
   "source": [
    "ANS--->We can use regular expressions to specify whether an input is allowed or not. The allowRegexes and blockRegexes\n",
    "keyword arguments take a list of regular expression strings to determine what the PyInputPlus function will accept or reject as valid input."
   ]
  },
  {
   "cell_type": "markdown",
   "id": "b348dc8a",
   "metadata": {},
   "source": [
    "6. If a blank input is entered three times, what does inputStr(limit=3) do?"
   ]
  },
  {
   "cell_type": "markdown",
   "id": "7a8e71de",
   "metadata": {},
   "source": [
    "ANS--->It will throw RetryLimitException exception."
   ]
  },
  {
   "cell_type": "markdown",
   "id": "1c1446b4",
   "metadata": {},
   "source": [
    "7. If blank input is entered three times, what does inputStr(limit=3, default='hello') do?"
   ]
  },
  {
   "cell_type": "markdown",
   "id": "bf287526",
   "metadata": {},
   "source": [
    "ANS--->When we use limit keyword arguments and also pass a default keyword argument, the function returns the default value instead of raising an exception"
   ]
  }
 ],
 "metadata": {
  "kernelspec": {
   "display_name": "Python 3 (ipykernel)",
   "language": "python",
   "name": "python3"
  },
  "language_info": {
   "codemirror_mode": {
    "name": "ipython",
    "version": 3
   },
   "file_extension": ".py",
   "mimetype": "text/x-python",
   "name": "python",
   "nbconvert_exporter": "python",
   "pygments_lexer": "ipython3",
   "version": "3.9.13"
  }
 },
 "nbformat": 4,
 "nbformat_minor": 5
}
