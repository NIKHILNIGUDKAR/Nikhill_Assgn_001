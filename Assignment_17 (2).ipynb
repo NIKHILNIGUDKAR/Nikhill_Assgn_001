{
  "nbformat": 4,
  "nbformat_minor": 0,
  "metadata": {
    "colab": {
      "provenance": []
    },
    "kernelspec": {
      "name": "python3",
      "display_name": "Python 3"
    },
    "language_info": {
      "name": "python"
    }
  },
  "cells": [
    {
      "cell_type": "markdown",
      "source": [
        "Question.1) Create a function that takes three arguments a, b, c and returns the sum of the\n",
        "numbers that are evenly divided by c from the range a, b inclusive.*italicized text*"
      ],
      "metadata": {
        "id": "ntX5jRJerxHK"
      }
    },
    {
      "cell_type": "code",
      "source": [
        "def sum_divisible_by_c(a, b, c):\n",
        "    total = 0\n",
        "    for num in range(a, b+1):\n",
        "        if num % c == 0:\n",
        "            total += num\n",
        "    return total\n",
        "\n",
        "print(sum_divisible_by_c(1, 10, 2)) \n",
        "print(sum_divisible_by_c(3, 15, 3)) \n",
        "print(sum_divisible_by_c(10, 20, 5)) "
      ],
      "metadata": {
        "id": "jxcEstLHrzkl",
        "outputId": "25682f39-0136-4f2f-fdce-7fb4e6c369ab",
        "colab": {
          "base_uri": "https://localhost:8080/"
        }
      },
      "execution_count": 29,
      "outputs": [
        {
          "output_type": "stream",
          "name": "stdout",
          "text": [
            "30\n",
            "45\n",
            "45\n"
          ]
        }
      ]
    },
    {
      "cell_type": "markdown",
      "source": [
        "Question.2) Create a function that returns True if a given inequality expression is correct and\n",
        "False otherwise.\n",
        "\n",
        "Examples\n",
        "correct_signs(&quot;3 &lt; 7 &lt; 11&quot;) ➞ True\n",
        "\n",
        "correct_signs(&quot;13 &gt; 44 &gt; 33 &gt; 1&quot;) ➞ False\n",
        "\n",
        "correct_signs(&quot;1 &lt; 2 &lt; 6 &lt; 9 &gt; 3&quot;) ➞ True"
      ],
      "metadata": {
        "id": "9KN9eWaAr4HI"
      }
    },
    {
      "cell_type": "code",
      "source": [
        "def correct_signs(txt):\n",
        "    lst = txt.split()  # split the string into a list of strings\n",
        "    for i in range(1, len(lst), 2):\n",
        "        if lst[i] == '<' and int(lst[i-1]) >= int(lst[i+1]):\n",
        "            return False\n",
        "        elif lst[i] == '>' and int(lst[i-1]) <= int(lst[i+1]):\n",
        "            return False\n",
        "    return True"
      ],
      "metadata": {
        "id": "gMiJtOIXr-De"
      },
      "execution_count": 30,
      "outputs": []
    },
    {
      "cell_type": "code",
      "source": [
        "print(correct_signs(\"3 < 7 < 11\"))  \n",
        "print(correct_signs(\"13 > 44 > 33 > 1\"))  \n",
        "print(correct_signs(\"1 < 2 < 6 < 9 > 3\"))  "
      ],
      "metadata": {
        "id": "i3xeT6zwtAUT",
        "outputId": "9bc0af79-00de-4420-e0ca-233fe32cd7df",
        "colab": {
          "base_uri": "https://localhost:8080/"
        }
      },
      "execution_count": 31,
      "outputs": [
        {
          "output_type": "stream",
          "name": "stdout",
          "text": [
            "True\n",
            "False\n",
            "True\n"
          ]
        }
      ]
    },
    {
      "cell_type": "markdown",
      "source": [
        "Question3. Create a function that replaces all the vowels in a string with a specified character.\n",
        "\n",
        "Examples\n",
        "\n",
        "replace_vowels(&quot;the aardvark&quot;, &quot;#&quot;) ➞ &quot;th# ##rdv#rk&quot;\n",
        "\n",
        "replace_vowels(&quot;minnie mouse&quot;, &quot;?&quot;) ➞ &quot;m?nn?? m??s?&quot;\n",
        "\n",
        "replace_vowels(&quot;shakespeare&quot;, &quot;*&quot;) ➞ &quot;sh*k*sp**r*&quot;"
      ],
      "metadata": {
        "id": "NwJKi4u4s5u3"
      }
    },
    {
      "cell_type": "code",
      "source": [
        "def replace_vowels(string, char):\n",
        "    vowels = 'aeiouAEIOU'\n",
        "    new_string = ''\n",
        "    for letter in string:\n",
        "        if letter in vowels:\n",
        "            new_string += char\n",
        "        else:\n",
        "            new_string += letter\n",
        "    return new_string"
      ],
      "metadata": {
        "id": "VkoUAA5Ks1aY"
      },
      "execution_count": 32,
      "outputs": []
    },
    {
      "cell_type": "markdown",
      "source": [
        "Question4. Write a function that calculates the factorial of a number recursively.\n",
        "Examples\n",
        "factorial(5) ➞ 120\n",
        "\n",
        "factorial(3) ➞ 6\n",
        "\n",
        "factorial(1) ➞ 1\n",
        "\n",
        "factorial(0) ➞ 1"
      ],
      "metadata": {
        "id": "0iFAN8tutNtQ"
      }
    },
    {
      "cell_type": "code",
      "source": [
        "def factorial(n):\n",
        "    if n == 0:\n",
        "        return 1\n",
        "    else:\n",
        "        return n * factorial(n-1)\n"
      ],
      "metadata": {
        "id": "Imh51fJetJBm"
      },
      "execution_count": 35,
      "outputs": []
    },
    {
      "cell_type": "markdown",
      "source": [
        "Question 5\n",
        "Hamming distance is the number of characters that differ between two strings.\n",
        "To illustrate:\n",
        "\n",
        "String1: &quot;abcbba&quot;\n",
        "\n",
        "String2: &quot;abcbda&quot;\n",
        "Hamming Distance: 1 - &quot;b&quot; vs. &quot;d&quot;\n",
        " is the only difference.\n",
        "Create a function that computes the hamming distance between two strings.\n",
        "Examples\n",
        "hamming_distance(&quot;abcde&quot;, &quot;bcdef&quot;) ➞ 5\n",
        "\n",
        "hamming_distance(&quot;abcde&quot;, &quot;abcde&quot;) ➞ 0\n",
        "\n",
        "hamming_distance(&quot;strong&quot;, &quot;strung&quot;) ➞ 1"
      ],
      "metadata": {
        "id": "0nSsacWntdL0"
      }
    },
    {
      "cell_type": "code",
      "source": [
        "def hamming_distance(str1, str2):\n",
        "    distance = 0\n",
        "    for i in range(len(str1)):\n",
        "        if str1[i] != str2[i]:\n",
        "            distance += 1\n",
        "    return distance"
      ],
      "metadata": {
        "id": "luykI5GZtZRw"
      },
      "execution_count": 36,
      "outputs": []
    },
    {
      "cell_type": "code",
      "source": [],
      "metadata": {
        "id": "bmlnaliot0_P"
      },
      "execution_count": null,
      "outputs": []
    }
  ]
}