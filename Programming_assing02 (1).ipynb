{
  "nbformat": 4,
  "nbformat_minor": 0,
  "metadata": {
    "colab": {
      "provenance": []
    },
    "kernelspec": {
      "name": "python3",
      "display_name": "Python 3"
    },
    "language_info": {
      "name": "python"
    }
  },
  "cells": [
    {
      "cell_type": "markdown",
      "source": [
        "1. Write a Python program to convert kilometers to miles?\n"
      ],
      "metadata": {
        "id": "O68sIUV5PRLz"
      }
    },
    {
      "cell_type": "code",
      "source": [
        "a = float(input(\"Enter the kilometers: \"))\n",
        "print(\"Miles : \",a*0.621371)"
      ],
      "metadata": {
        "colab": {
          "base_uri": "https://localhost:8080/"
        },
        "id": "C45dRh_lPnZd",
        "outputId": "fdb3d2e9-250b-45f6-b94c-4f1ec4dae051"
      },
      "execution_count": 4,
      "outputs": [
        {
          "output_type": "stream",
          "name": "stdout",
          "text": [
            "Enter the kilometers: 2.5\n",
            "Miles :  1.5534275\n"
          ]
        }
      ]
    },
    {
      "cell_type": "markdown",
      "source": [
        "2. Write a Python program to convert Celsius to Fahrenheit?\n"
      ],
      "metadata": {
        "id": "jUO0PqBTPVjy"
      }
    },
    {
      "cell_type": "code",
      "source": [
        "a = float(input(\"Enter the temperature in celsius : \"))\n",
        "print(\"The temperature in Fehrenheit is : \",(a*1.8)+32)"
      ],
      "metadata": {
        "colab": {
          "base_uri": "https://localhost:8080/"
        },
        "id": "CqGAmXjCQTur",
        "outputId": "daea7dd4-032e-4619-a899-14ae83513803"
      },
      "execution_count": 5,
      "outputs": [
        {
          "output_type": "stream",
          "name": "stdout",
          "text": [
            "Enter the temperature in celsius : 32\n",
            "The temperature in Fehrenheit is :  89.6\n"
          ]
        }
      ]
    },
    {
      "cell_type": "markdown",
      "source": [
        "3. Write a Python program to display calendar?\n"
      ],
      "metadata": {
        "id": "EzzrLZOsPX_L"
      }
    },
    {
      "cell_type": "code",
      "source": [
        "import calendar\n",
        "\n",
        "yy = 2022\n",
        "mm = 11\n",
        "print(calendar.month(yy,mm,dd))"
      ],
      "metadata": {
        "colab": {
          "base_uri": "https://localhost:8080/"
        },
        "id": "RrYGToPXXxEl",
        "outputId": "d9cd45e7-aeda-4747-a85a-5b485177563f"
      },
      "execution_count": 21,
      "outputs": [
        {
          "output_type": "stream",
          "name": "stdout",
          "text": [
            "                        November 2022\n",
            "  Mon      Tue      Wed      Thu      Fri      Sat      Sun\n",
            "             1        2        3        4        5        6\n",
            "    7        8        9       10       11       12       13\n",
            "   14       15       16       17       18       19       20\n",
            "   21       22       23       24       25       26       27\n",
            "   28       29       30\n",
            "\n"
          ]
        }
      ]
    },
    {
      "cell_type": "markdown",
      "source": [
        "4. Write a Python program to solve quadratic equation?\n"
      ],
      "metadata": {
        "id": "xWwYvljgPaKn"
      }
    },
    {
      "cell_type": "code",
      "source": [
        "#The quadratic equation is ax^2+bx+c=0\n",
        "a =float(input(\"The value of a is: \"))\n",
        "b =int(input(\"The value of b is: \"))\n",
        "c =int(input(\"The value of c is: \"))\n",
        "d = (b**2)-(4*a*c)\n",
        "print(\"The solution of the quadratic equation is:\",d**0.5)"
      ],
      "metadata": {
        "colab": {
          "base_uri": "https://localhost:8080/"
        },
        "id": "E5q8mFn-R6gL",
        "outputId": "66695d67-f78a-4c30-b9be-2cb16548f2e3"
      },
      "execution_count": 22,
      "outputs": [
        {
          "output_type": "stream",
          "name": "stdout",
          "text": [
            "The value of a is: 1\n",
            "The value of b is: 5\n",
            "The value of c is: 6\n",
            "The solution of the quadratic equation is: 1.0\n"
          ]
        }
      ]
    },
    {
      "cell_type": "markdown",
      "source": [
        "5. Write a Python program to swap two variables without temp variable?4"
      ],
      "metadata": {
        "id": "UxZgLIdZPcy1"
      }
    },
    {
      "cell_type": "code",
      "execution_count": 6,
      "metadata": {
        "colab": {
          "base_uri": "https://localhost:8080/"
        },
        "id": "GYM7T4uQPLO_",
        "outputId": "2f9a2914-81a0-404a-8017-bbc461f8e4dd"
      },
      "outputs": [
        {
          "output_type": "stream",
          "name": "stdout",
          "text": [
            "10\n",
            "12\n",
            "The value of x after swapping : 12\n",
            "The value of x after swapping : 10\n"
          ]
        }
      ],
      "source": [
        "x = input()\n",
        "y = input()\n",
        "\n",
        "x,y = y,x\n",
        "print(\"The value of x after swapping :\",x)\n",
        "print(\"The value of x after swapping :\",y)\n"
      ]
    }
  ]
}