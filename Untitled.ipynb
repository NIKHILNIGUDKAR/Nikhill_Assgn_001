{
 "cells": [
  {
   "cell_type": "markdown",
   "id": "ce7e692a",
   "metadata": {},
   "source": [
    "Q1. What is the purpose of the try statement?"
   ]
  },
  {
   "cell_type": "markdown",
   "id": "a3ac1962",
   "metadata": {},
   "source": [
    "ANS--->It is used to test the block of code for errors"
   ]
  },
  {
   "cell_type": "markdown",
   "id": "fc9f781e",
   "metadata": {},
   "source": [
    "Q2. What are the two most popular try statement variations?"
   ]
  },
  {
   "cell_type": "markdown",
   "id": "d8dd9a0a",
   "metadata": {},
   "source": [
    "ANS--->The try-except block is used to catch and handle exceptions that may occur during the execution of a block of code. The try block contains the code that may raise an exception, while the except block contains the code that will be executed if an exception is raised."
   ]
  },
  {
   "cell_type": "code",
   "execution_count": null,
   "id": "47700f91",
   "metadata": {},
   "outputs": [],
   "source": [
    "#ex:\n",
    "try:\n",
    "    # code that may raise an exception\n",
    "    result = 10 / 0\n",
    "except ZeroDivisionError:\n",
    "    # code to handle the exception\n",
    "    print(\"Error: division by zero\")\n"
   ]
  },
  {
   "cell_type": "markdown",
   "id": "42c8471f",
   "metadata": {},
   "source": [
    "Q3. What is the purpose of the raise statement?"
   ]
  },
  {
   "cell_type": "markdown",
   "id": "95fd992e",
   "metadata": {},
   "source": [
    "ANS--->The raise statement in python used to raise exception.When a raise statement is executed, it causes an exception to be raised, which can then be caught and handled by an appropriate exception handler. The purpose of the raise statement is to signal to the caller of a function that an error or exceptional situation has occurred that cannot be handled within the function itself."
   ]
  },
  {
   "cell_type": "markdown",
   "id": "2be1dbf7",
   "metadata": {},
   "source": [
    "Q4. What does the assert statement do, and what other statement is it like?"
   ]
  },
  {
   "cell_type": "markdown",
   "id": "5a069906",
   "metadata": {},
   "source": [
    "ANS--->The assert statement in python is used to assert that certain condition is trueif assert condition is 'false' then it will throw assertationError."
   ]
  },
  {
   "cell_type": "markdown",
   "id": "9cccb7ae",
   "metadata": {},
   "source": [
    "Q5. What is the purpose of the with/as argument, and what other statement is it like?"
   ]
  },
  {
   "cell_type": "markdown",
   "id": "68bff8f2",
   "metadata": {},
   "source": [
    "ANS--->The with statement is used to make the code cleaner and much more readable. It simplifies the management of common resources like file streams."
   ]
  }
 ],
 "metadata": {
  "kernelspec": {
   "display_name": "Python 3 (ipykernel)",
   "language": "python",
   "name": "python3"
  },
  "language_info": {
   "codemirror_mode": {
    "name": "ipython",
    "version": 3
   },
   "file_extension": ".py",
   "mimetype": "text/x-python",
   "name": "python",
   "nbconvert_exporter": "python",
   "pygments_lexer": "ipython3",
   "version": "3.9.13"
  }
 },
 "nbformat": 4,
 "nbformat_minor": 5
}
