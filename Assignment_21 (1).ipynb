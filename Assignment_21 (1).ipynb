{
  "nbformat": 4,
  "nbformat_minor": 0,
  "metadata": {
    "colab": {
      "provenance": []
    },
    "kernelspec": {
      "name": "python3",
      "display_name": "Python 3"
    },
    "language_info": {
      "name": "python"
    }
  },
  "cells": [
    {
      "cell_type": "markdown",
      "source": [
        "Question1\n",
        "Write a function that takes a list and a number as arguments. Add the number to the end of\n",
        "the list, then remove the first element of the list. The function should then return the updated\n",
        "list."
      ],
      "metadata": {
        "id": "Qm37ihbGzPsW"
      }
    },
    {
      "cell_type": "code",
      "source": [
        "def add_and_remove(lst, num):\n",
        "    lst.append(num)\n",
        "    lst.pop(0)\n",
        "    return lst"
      ],
      "metadata": {
        "id": "XaMgNfFnzR2M"
      },
      "execution_count": 55,
      "outputs": []
    },
    {
      "cell_type": "markdown",
      "source": [
        "Question2\n",
        "Create the function that takes a list of dictionaries and returns the sum of people&#39;s budgets."
      ],
      "metadata": {
        "id": "ieaBbwU1zZ7d"
      }
    },
    {
      "cell_type": "code",
      "source": [
        "def budget_total(budgets):\n",
        "    total = 0\n",
        "    for budget in budgets:\n",
        "        total += budget[\"budget\"]\n",
        "    return total\n",
        "\n",
        "budgets = [\n",
        "    {\"name\": \"Alice\", \"budget\": 1000},\n",
        "    {\"name\": \"Bob\", \"budget\": 2000},\n",
        "    {\"name\": \"Charlie\", \"budget\": 500},\n",
        "]\n",
        "\n",
        "total = budget_total(budgets)\n",
        "print(total) "
      ],
      "metadata": {
        "id": "037BX5L7zX1l",
        "outputId": "3780fe09-42ef-4463-f72e-b570fa7117b8",
        "colab": {
          "base_uri": "https://localhost:8080/"
        }
      },
      "execution_count": 58,
      "outputs": [
        {
          "output_type": "stream",
          "name": "stdout",
          "text": [
            "3500\n"
          ]
        }
      ]
    },
    {
      "cell_type": "markdown",
      "source": [
        "Question3\n",
        "Create a function that takes a string and returns a string with its letters in alphabetical order."
      ],
      "metadata": {
        "id": "tI3eDfdtziWE"
      }
    },
    {
      "cell_type": "code",
      "source": [
        "def alphabetize_string(s):\n",
        "    return ''.join(sorted(s))"
      ],
      "metadata": {
        "id": "cp9QXMFvze6l"
      },
      "execution_count": 59,
      "outputs": []
    },
    {
      "cell_type": "markdown",
      "source": [
        "Question4\n",
        "Suppose that you invest $10,000 for 10 years at an interest rate of 6% compounded monthly.\n",
        "What will be the value of your investment at the end of the 10 year period?\n",
        "Create a function that accepts the principal p, the term in years t, the interest rate r, and the\n",
        "number of compounding periods per year n. The function returns the value at the end of term\n",
        "rounded to the nearest cent.\n",
        "For the example above:\n",
        "compound_interest(10000, 10, 0.06, 12) ➞ 18193.97\n",
        "Note that the interest rate is given as a decimal and n=12 because with monthly compounding\n",
        "there are 12 periods per year. Compounding can also be done annually, quarterly, weekly, or\n",
        "daily."
      ],
      "metadata": {
        "id": "aTG6Sx8VzxB5"
      }
    },
    {
      "cell_type": "code",
      "source": [
        "def compound_interest(p, t, r, n):\n",
        "    A = p * (1 + r/n) ** (n*t)\n",
        "    return round(A, 2)\n",
        "compound_interest(10000, 10, 0.06, 12)"
      ],
      "metadata": {
        "id": "Ul3nYgvozt7x",
        "outputId": "56b77251-8118-4265-b576-f881c2bade11",
        "colab": {
          "base_uri": "https://localhost:8080/"
        }
      },
      "execution_count": 60,
      "outputs": [
        {
          "output_type": "execute_result",
          "data": {
            "text/plain": [
              "18193.97"
            ]
          },
          "metadata": {},
          "execution_count": 60
        }
      ]
    },
    {
      "cell_type": "markdown",
      "source": [
        "Question5\n",
        "Write a function that takes a list of elements and returns only the integers."
      ],
      "metadata": {
        "id": "7jqbeGSwz942"
      }
    },
    {
      "cell_type": "code",
      "source": [
        "def filter_integers(lst):\n",
        "    return [x for x in lst if isinstance(x, int)]"
      ],
      "metadata": {
        "id": "tV_DHj4iz6n8"
      },
      "execution_count": 61,
      "outputs": []
    }
  ]
}