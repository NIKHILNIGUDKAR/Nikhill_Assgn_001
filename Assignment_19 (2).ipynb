{
  "nbformat": 4,
  "nbformat_minor": 0,
  "metadata": {
    "colab": {
      "provenance": []
    },
    "kernelspec": {
      "name": "python3",
      "display_name": "Python 3"
    },
    "language_info": {
      "name": "python"
    }
  },
  "cells": [
    {
      "cell_type": "markdown",
      "source": [
        "Q1. Define the relationship between a class and its instances. Is it a one-to-one or a one-to-many\n",
        "partnership, for example?\n",
        "\n"
      ],
      "metadata": {
        "id": "NSIU4foM811Q"
      }
    },
    {
      "cell_type": "markdown",
      "source": [
        "ANS--->\n",
        "        In regular expressions, greedy syntax tries to match as much text as possible while non-greedy syntax tries to match as little text as possible. To transform a greedy pattern into a non-greedy one, you can introduce a question mark (?) after the quantifier character. This will make the quantifier non-greedy. For example, if you want to transform a greedy pattern of \".\" to non-greedy, you can change it to \".?\" which will now match the minimum possible text.\n",
        "    "
      ],
      "metadata": {
        "id": "g318Vs2P-b2_"
      }
    },
    {
      "cell_type": "markdown",
      "source": [
        "Q2. What kind of data is held only in an instance?\n",
        "\n"
      ],
      "metadata": {
        "id": "1SN7q7Jm86TX"
      }
    },
    {
      "cell_type": "markdown",
      "source": [
        "ANS--->Greedy and non-greedy syntax in regular expressions make a difference when there is more than one possible match for a pattern in a string.\n",
        "\n",
        "Greedy syntax tries to match the longest possible substring that matches the pattern. In contrast, non-greedy (or lazy) syntax matches the shortest possible substring that matches the pattern.\n",
        "\n",
        "For example, given the string \"Hello world, how are you?\" and the pattern \"H.*o\", the greedy match would return the substring \"Hello world, ho\" while the non-greedy match would return the substring \"He\".\n",
        "\n",
        "If the only available match is greedy and you need a non-greedy match, you can transform the greedy pattern into a non-greedy one by appending a question mark \"?\" to the repetition operator. For example, the greedy pattern \"H.o\" can be transformed into the non-greedy pattern \"H.?o\"."
      ],
      "metadata": {
        "id": "C3TP-DXH-jnf"
      }
    },
    {
      "cell_type": "markdown",
      "source": [
        "Q3. What kind of knowledge is stored in a class?"
      ],
      "metadata": {
        "id": "PFE3BUbv9ED-"
      }
    },
    {
      "cell_type": "markdown",
      "source": [
        "ANS---> In a class, we store the attributes and methods that are common to all instances of that class. Attributes represent the state of an object, while methods define its behavior. When we create an instance of a class, it inherits all the attributes and methods of the class, but each instance can have its own unique state. So, in short, a class stores the blueprint of an object, which includes its attributes and behavior."
      ],
      "metadata": {
        "id": "M1v0WVGM-9i3"
      }
    },
    {
      "cell_type": "markdown",
      "source": [],
      "metadata": {
        "id": "dmzqTbVg-mCx"
      }
    },
    {
      "cell_type": "markdown",
      "source": [
        "Q4. What exactly is a method, and how is it different from a regular function?"
      ],
      "metadata": {
        "id": "wY71NZM29G-8"
      }
    },
    {
      "cell_type": "markdown",
      "source": [
        "ANS--->In object-oriented programming, a method is a function that is associated with a class or an instance of a class. A method can be invoked on an instance of a class, and it can access and manipulate the data (i.e., instance variables) of that instance.\n",
        "\n",
        "The key difference between a method and a regular function is that a method is always associated with a class or an instance, while a regular function is not. Methods have an implicit first argument, which is a reference to the instance on which the method is called. This argument is typically called \"self\" in Python.\n",
        "\n",
        "Another difference between methods and regular functions is that methods can access and manipulate the instance variables of the object, while regular functions cannot."
      ],
      "metadata": {
        "id": "BH_eptfE_ETg"
      }
    },
    {
      "cell_type": "markdown",
      "source": [
        "Q5. Is inheritance supported in Python, and if so, what is the syntax?"
      ],
      "metadata": {
        "id": "sFfJ23go9Kb9"
      }
    },
    {
      "cell_type": "markdown",
      "source": [
        "Yes, inheritance is supported in Python. The syntax for inheritance is as follows:\n",
        "\n"
      ],
      "metadata": {
        "id": "22UA9bbC_IKn"
      }
    },
    {
      "cell_type": "code",
      "source": [
        "class DerivedClass(BaseClass):\n",
        "    # attributes and methods of DerivedClass\n"
      ],
      "metadata": {
        "id": "dUlEs8hHAnYf"
      },
      "execution_count": null,
      "outputs": []
    },
    {
      "cell_type": "code",
      "source": [
        "import re\n",
        "\n",
        "emails = ['john@example.com', 'jane@example.net', 'mike@example.com']\n",
        "\n",
        "# Using a positive look-ahead assertion to match email addresses that end with \".com\"\n",
        "pattern = r'\\b\\w+@[a-zA-Z_]+?\\.[a-zA-Z]{2,3}(?=\\.com)\\b'\n",
        "\n",
        "for email in emails:\n",
        "    match = re.search(pattern, email)\n",
        "    if match:\n",
        "        print(match.group())\n"
      ],
      "metadata": {
        "id": "i6550gtl_L3v"
      },
      "execution_count": 65,
      "outputs": []
    },
    {
      "cell_type": "markdown",
      "source": [
        "Q6. How much encapsulation (making instance or class variables private) does Python support?"
      ],
      "metadata": {
        "id": "Mu5XYmyU9OHV"
      }
    },
    {
      "cell_type": "markdown",
      "source": [
        "ANS--->In Python, encapsulation is supported by convention rather than by strict enforcement. Unlike some other programming languages like Java, Python does not have strict access modifiers like private, protected, and public. However, it does have a convention of prefixing the name of an instance or a class variable with a single underscore to indicate that it should not be accessed from outside the class or module, although it is technically still possible to do so.\n",
        "\n",
        "For example, consider the following class:."
      ],
      "metadata": {
        "id": "b1n43OtP_O1m"
      }
    },
    {
      "cell_type": "code",
      "source": [
        "class Person:\n",
        "    def __init__(self, name):\n",
        "        self._name = name\n",
        "\n",
        "    def greet(self):\n",
        "        print(f\"Hello, my name is {self._name}.\")\n"
      ],
      "metadata": {
        "id": "iXoHjWZuAPV2"
      },
      "execution_count": null,
      "outputs": []
    },
    {
      "cell_type": "markdown",
      "source": [
        "Q7. How do you distinguish between a class variable and an instance variable?"
      ],
      "metadata": {
        "id": "avbvI3aS9UOA"
      }
    },
    {
      "cell_type": "markdown",
      "source": [
        "In Python, class variables are defined within the class definition, and their values are shared among all instances of the class. They are accessed using the class name, not the instance, and are typically used to define constants or default values for all instances.\n",
        "\n",
        "Instance variables, on the other hand, are defined within the methods of a class and are unique to each instance of the class. They are accessed using the instance name, not the class name, and can have different values for each instance.\n",
        "\n",
        "In summary, the main differences between class and instance variables are their scope and the way they are accessed. Class variables are shared by all instances of a class, while instance variables are unique to each instance. Class variables are accessed using the class name, while instance variables are accessed using the instance name."
      ],
      "metadata": {
        "id": "MlI_MjTf_Upe"
      }
    },
    {
      "cell_type": "markdown",
      "source": [
        "\n",
        "Q8. When, if ever, can self be included in a class&#39;s method definitions?\n",
        "\n"
      ],
      "metadata": {
        "id": "u4eyU5AX9ZUn"
      }
    },
    {
      "cell_type": "markdown",
      "source": [
        "In Python, the self parameter is typically included in the method definitions of a class. It is used to refer to the instance of the class that the method is being called on. By convention, the first parameter of a method is always self, although you could technically use any variable name you like.\n",
        "\n",
        "For example, consider the following class:"
      ],
      "metadata": {
        "id": "1B37KShf_YiW"
      }
    },
    {
      "cell_type": "code",
      "source": [
        "class MyClass:\n",
        "    def __init__(self, x):\n",
        "        self.x = x\n",
        "\n",
        "    def double_x(self):\n",
        "        return self.x * 2"
      ],
      "metadata": {
        "id": "irzXpbw6AaC1"
      },
      "execution_count": null,
      "outputs": []
    },
    {
      "cell_type": "markdown",
      "source": [
        "Q9. What is the difference between the _ _add_ _ and the _ _radd_ _ methods?\n",
        "\n"
      ],
      "metadata": {
        "id": "dOx37wPl9cy3"
      }
    },
    {
      "cell_type": "markdown",
      "source": [
        "In Python, the Scanner interface is not a built-in feature. It is available in Java and is used to parse input text into tokens. In Python, the closest equivalent would be the re.Scanner class.\n",
        "\n",
        "However, to answer the question, one thing that Scanner interface does for you that re.findall does not is that it allows you to specify patterns for different tokens and perform custom actions for each token. This can be useful when you need to parse complex input text and perform different actions depending on the token type. On the other hand, re.findall only returns a list of all non-overlapping matches of a pattern in a string, without any additional parsing or custom actions."
      ],
      "metadata": {
        "id": "l5TmpaAM_hlH"
      }
    },
    {
      "cell_type": "markdown",
      "source": [
        "Q10. When is it necessary to use a reflection method? When do you not need it, even though you\n",
        "support the operation in question?\n",
        "\n"
      ],
      "metadata": {
        "id": "bbKBJZeB9fAG"
      }
    },
    {
      "cell_type": "markdown",
      "source": [
        "In Python, a reflection method is a method that returns information about an object at runtime.\n",
        "\n",
        "It is necessary to use a reflection method when you need to access the metadata of an object or class dynamically, rather than hard-coding it into your program. Reflection methods can be used to get information about an object's attributes, methods, inheritance, and more.\n",
        "\n",
        "On the other hand, you do not need a reflection method when you can directly access the information you need from the object or class itself. For example, if you know the name of an attribute or method, you can simply access it using dot notation. However, if you do not know the name of the attribute or method beforehand, you may need to use a reflection method to access it dynamically.\n",
        "\n",
        "\n",
        "\n",
        "\n",
        "\n"
      ],
      "metadata": {
        "id": "0auMaItQ_rxx"
      }
    },
    {
      "cell_type": "markdown",
      "source": [
        "Q11. What is the _ _iadd_ _ method called?\n",
        "\n"
      ],
      "metadata": {
        "id": "9A3ni26q9goP"
      }
    },
    {
      "cell_type": "markdown",
      "source": [
        "The __iadd__ method is called the in-place addition method.\n",
        "\n",
        "\n",
        "\n"
      ],
      "metadata": {
        "id": "8wDg8Ddk_o83"
      }
    },
    {
      "cell_type": "markdown",
      "source": [
        "Q12. Is the _ _init_ _ method inherited by subclasses? What do you do if you need to customize its\n",
        "behavior within a subclass?"
      ],
      "metadata": {
        "id": "2V3mrt7d9irI"
      }
    },
    {
      "cell_type": "markdown",
      "source": [
        "Yes, the __init__ method is inherited by subclasses. If you need to customize its behavior within a subclass, you can override the method by defining a new __init__ method in the subclass. This new method can then call the parent class's __init__ method using the super() function to initialize any inherited instance variables. You can also add additional instance variables or customize the initialization process as needed in the subclass's __init__ method."
      ],
      "metadata": {
        "id": "h7MQjy5e_nef"
      }
    }
  ]
}