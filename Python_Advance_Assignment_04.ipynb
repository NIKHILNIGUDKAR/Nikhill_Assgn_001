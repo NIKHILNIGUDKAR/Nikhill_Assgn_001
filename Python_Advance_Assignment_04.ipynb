{
 "cells": [
  {
   "cell_type": "markdown",
   "id": "f8b63f20",
   "metadata": {},
   "source": [
    "Q1. Which two operator overloading methods can you use in your classes to support iteration?"
   ]
  },
  {
   "cell_type": "markdown",
   "id": "197ab749",
   "metadata": {},
   "source": [
    "ANS--->To overload the + operator, we will need to implement __add__() function in the class.Python does not limit operator overloading to arithmetic operators only. We can overload comparison operators as well."
   ]
  },
  {
   "cell_type": "markdown",
   "id": "05b8b2d8",
   "metadata": {},
   "source": [
    "Q2. In what contexts do the two operator overloading methods manage printing?"
   ]
  },
  {
   "cell_type": "markdown",
   "id": "0a6051c8",
   "metadata": {},
   "source": [
    "ANS--->To perform operator overloading, Python provides some special function or magic function that is automatically invoked when it is associated with that particular operator. For example, when we use + operator, the magic method __add__ is automatically invoked in which the operation for + operator is defined."
   ]
  },
  {
   "cell_type": "markdown",
   "id": "2f331cc9",
   "metadata": {},
   "source": [
    "Q3. In a class, how do you intercept slice operations?"
   ]
  },
  {
   "cell_type": "markdown",
   "id": "dffdef65",
   "metadata": {},
   "source": [
    "ANS--->The __getitem__ method is used for accessing list items, array elements, dictionary entries etc. slice is a constructor in Python that creates slice object to represent set of indices that the range(start, stop, step) specifies. __getitem__ method can be implement in a class, and the behavior of slicing can be defined inside it."
   ]
  },
  {
   "cell_type": "markdown",
   "id": "5144fa8b",
   "metadata": {},
   "source": [
    "Q4. In a class, how do you capture in-place addition?"
   ]
  },
  {
   "cell_type": "markdown",
   "id": "df29b9c1",
   "metadata": {},
   "source": [
    "ANS--->Python in its definition provides methods to perform inplace operations, i.e doing assignment and computation in a single statement using “operator” module. For example,\n",
    "\n",
    "x += y is equivalent to x = operator.iadd(x, y) "
   ]
  },
  {
   "cell_type": "markdown",
   "id": "234c281f",
   "metadata": {},
   "source": [
    "Q5. When is it appropriate to use operator overloading?"
   ]
  },
  {
   "cell_type": "markdown",
   "id": "d4ef38be",
   "metadata": {},
   "source": [
    "ANS--->Operator overloading means giving extended meaning beyound their predefined operational meaning.For example:'+' operator is used to add strings or integer or lists(merge two lists)It is achieveable because'+' operator is overloaded by int class and string class. You might have noticed that same build in operator or function shows different behaviour for object of different classes. This is called operator oveloading."
   ]
  }
 ],
 "metadata": {
  "kernelspec": {
   "display_name": "Python 3 (ipykernel)",
   "language": "python",
   "name": "python3"
  },
  "language_info": {
   "codemirror_mode": {
    "name": "ipython",
    "version": 3
   },
   "file_extension": ".py",
   "mimetype": "text/x-python",
   "name": "python",
   "nbconvert_exporter": "python",
   "pygments_lexer": "ipython3",
   "version": "3.9.13"
  }
 },
 "nbformat": 4,
 "nbformat_minor": 5
}
