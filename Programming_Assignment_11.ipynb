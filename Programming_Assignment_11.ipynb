{
 "cells": [
  {
   "cell_type": "markdown",
   "id": "850190c2",
   "metadata": {},
   "source": [
    "1. Write a Python program to find words which are greater than given length k?"
   ]
  },
  {
   "cell_type": "code",
   "execution_count": 32,
   "id": "260dac32",
   "metadata": {},
   "outputs": [
    {
     "name": "stdout",
     "output_type": "stream",
     "text": [
      "['geek', 'geeks']\n"
     ]
    }
   ],
   "source": [
    "def string_k(k, str):\n",
    "    string = []\n",
    "\n",
    "    text = str.split(\" \")\n",
    "\n",
    "    for x in text:\n",
    "\n",
    "        if len(x) > k:\n",
    "\n",
    "            string.append(x)\n",
    "\n",
    "    return string\n",
    "k = 3\n",
    "str =\"geek for geeks\"\n",
    "print(string_k(k, str))"
   ]
  },
  {
   "cell_type": "markdown",
   "id": "e5c59b79",
   "metadata": {},
   "source": [
    "2. Write a Python program for removing i-th character from a string?"
   ]
  },
  {
   "cell_type": "code",
   "execution_count": 34,
   "id": "d4750f18",
   "metadata": {},
   "outputs": [
    {
     "name": "stdout",
     "output_type": "stream",
     "text": [
      "This s the string\n"
     ]
    }
   ],
   "source": [
    "def remove(string, i):\n",
    "\n",
    "    a = string[: i]\n",
    "    b = string[i + 1:]\n",
    "    return a + b\n",
    "\n",
    "if __name__ == '__main__':\n",
    "    string = \"This is the string\"\n",
    "\n",
    "    i = 5\n",
    "\n",
    "    print(remove(string, i))\n"
   ]
  },
  {
   "cell_type": "markdown",
   "id": "cdc924f8",
   "metadata": {},
   "source": [
    "3. Write a Python program to split and join a string?"
   ]
  },
  {
   "cell_type": "code",
   "execution_count": 36,
   "id": "3ebc4c03",
   "metadata": {},
   "outputs": [
    {
     "name": "stdout",
     "output_type": "stream",
     "text": [
      "['Geeks', 'for', 'Geeks']\n",
      "Geeks-for-Geeks\n"
     ]
    }
   ],
   "source": [
    "def split_string(string):\n",
    "\n",
    "    list_string = string.split(' ')\n",
    "\n",
    "    return list_string\n",
    "\n",
    "def join_string(list_string):\n",
    "\n",
    "    string = '-'.join(list_string)\n",
    "\n",
    "    return string\n",
    "\n",
    "if __name__ == '__main__':\n",
    "    string = 'Geeks for Geeks'\n",
    "    list_string = split_string(string)\n",
    "    print(list_string)\n",
    "\n",
    "    new_string = join_string(list_string)\n",
    "    print(new_string)\n"
   ]
  },
  {
   "cell_type": "markdown",
   "id": "c2e42729",
   "metadata": {},
   "source": [
    "4. Write a Python to check if a given string is binary string or not?"
   ]
  },
  {
   "cell_type": "code",
   "execution_count": 31,
   "id": "004efbcf",
   "metadata": {},
   "outputs": [
    {
     "name": "stdout",
     "output_type": "stream",
     "text": [
      "Yes\n"
     ]
    }
   ],
   "source": [
    "def check(string):\n",
    "    p = set(string)\n",
    "    s = {'0', '1'}\n",
    "\n",
    "    if s == p or p == {'0'} or p == {'1'}:\n",
    "        print(\"Yes\")\n",
    "    else:\n",
    "        print(\"No\")\n",
    "\n",
    "\n",
    "if __name__ == \"__main__\":\n",
    "\n",
    "    string = \"101010000111\"\n",
    "\n",
    "    check(string)\n"
   ]
  },
  {
   "cell_type": "markdown",
   "id": "afe0ad54",
   "metadata": {},
   "source": [
    "5. Write a Python program to find uncommon words from two Strings?"
   ]
  },
  {
   "cell_type": "code",
   "execution_count": 25,
   "id": "4331888d",
   "metadata": {},
   "outputs": [
    {
     "name": "stdout",
     "output_type": "stream",
     "text": [
      "['very', 'but', 'worth', 'it']\n"
     ]
    }
   ],
   "source": [
    "def UncommonWords(A, B):\n",
    "    count = {}\n",
    "\n",
    "    for word in A.split():\n",
    "        count[word] = count.get(word, 0) + 1\n",
    "\n",
    "    for word in B.split():\n",
    "        count[word] = count.get(word, 0) + 1\n",
    "\n",
    "    return [word for word in count if count[word] == 1]\n",
    "\n",
    "\n",
    "A = \"The study material is very expensive\"\n",
    "B = \"The study material is expensive but worth it\"\n",
    "\n",
    "print(UncommonWords(A, B))\n"
   ]
  },
  {
   "cell_type": "markdown",
   "id": "27e8c8d5",
   "metadata": {},
   "source": [
    "6. Write a Python to find all duplicate characters in string?"
   ]
  },
  {
   "cell_type": "code",
   "execution_count": 19,
   "id": "5904cfe9",
   "metadata": {},
   "outputs": [
    {
     "name": "stdout",
     "output_type": "stream",
     "text": [
      "Duplicate characters in a given string: \n",
      "r\n",
      "t\n",
      "o\n",
      "p\n"
     ]
    }
   ],
   "source": [
    "string = \"Great opportunity\";  \n",
    "   \n",
    "print(\"Duplicate characters in a given string: \");  \n",
    "for i in range(0, len(string)):  \n",
    "    count = 1;  \n",
    "    for j in range(i+1, len(string)):  \n",
    "        if(string[i] == string[j] and string[i] != ' '):  \n",
    "            count = count + 1;  \n",
    "            string = string[:j] + '0' + string[j+1:];  \n",
    "   \n",
    "    if(count > 1 and string[i] != '0'):  \n",
    "        print(string[i]);  "
   ]
  },
  {
   "cell_type": "markdown",
   "id": "5dd8cfce",
   "metadata": {},
   "source": [
    "7. Write a Python Program to check if a string contains any special character?"
   ]
  },
  {
   "cell_type": "code",
   "execution_count": 17,
   "id": "13634c1e",
   "metadata": {},
   "outputs": [
    {
     "name": "stdout",
     "output_type": "stream",
     "text": [
      "string is not accepted\n"
     ]
    }
   ],
   "source": [
    "\n",
    "n=\"!ove&Pe@ce#\"\n",
    "n.split()\n",
    "c=0\n",
    "s='[@_!#$%^&*()<>?/\\|}{~:]' \n",
    "for i in range(len(n)):\n",
    "    if n[i] in s:\n",
    "        c+=1 \n",
    "if c:\n",
    "    print(\"string is not accepted\")\n",
    "else:\n",
    "    print(\"string accepted\")"
   ]
  }
 ],
 "metadata": {
  "kernelspec": {
   "display_name": "Python 3 (ipykernel)",
   "language": "python",
   "name": "python3"
  },
  "language_info": {
   "codemirror_mode": {
    "name": "ipython",
    "version": 3
   },
   "file_extension": ".py",
   "mimetype": "text/x-python",
   "name": "python",
   "nbconvert_exporter": "python",
   "pygments_lexer": "ipython3",
   "version": "3.9.13"
  }
 },
 "nbformat": 4,
 "nbformat_minor": 5
}
