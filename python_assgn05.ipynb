{
 "cells": [
  {
   "cell_type": "markdown",
   "id": "6b0b6773",
   "metadata": {},
   "source": [
    "1. Write a Python Program to Find LCM?"
   ]
  },
  {
   "cell_type": "code",
   "execution_count": 2,
   "id": "4dff6f1e",
   "metadata": {},
   "outputs": [],
   "source": [
    "def LCM(x,y):\n",
    "    \n",
    "    if x>y:\n",
    "        greater = x\n",
    "    else:\n",
    "        greater = y\n",
    "        \n",
    "    while (True):\n",
    "        if ((greater % x== 0) and (greater %y ==0)):\n",
    "            LCM = greater\n",
    "            break\n",
    "        greater +=1\n",
    "        \n",
    "    return LCM"
   ]
  },
  {
   "cell_type": "code",
   "execution_count": 3,
   "id": "2fd0adfc",
   "metadata": {},
   "outputs": [
    {
     "data": {
      "text/plain": [
       "72"
      ]
     },
     "execution_count": 3,
     "metadata": {},
     "output_type": "execute_result"
    }
   ],
   "source": [
    "LCM(24,36)"
   ]
  },
  {
   "cell_type": "markdown",
   "id": "541d309f",
   "metadata": {},
   "source": [
    "2. Write a Python Program to Find HCF?\n"
   ]
  },
  {
   "cell_type": "code",
   "execution_count": 25,
   "id": "8d06d345",
   "metadata": {},
   "outputs": [],
   "source": [
    "def HCF(x,y):\n",
    "    \n",
    "    if x>y:\n",
    "        smaller =y\n",
    "    else :\n",
    "        smaller = x\n",
    "    for i in range(1,smaller+1):\n",
    "        if ((x%i ==0)and (y%i==0)):\n",
    "            HCF =i\n",
    "    return HCF"
   ]
  },
  {
   "cell_type": "code",
   "execution_count": 26,
   "id": "fb7cb184",
   "metadata": {},
   "outputs": [
    {
     "data": {
      "text/plain": [
       "10"
      ]
     },
     "execution_count": 26,
     "metadata": {},
     "output_type": "execute_result"
    }
   ],
   "source": [
    "HCF(90,70)"
   ]
  },
  {
   "cell_type": "markdown",
   "id": "11b0ea2a",
   "metadata": {},
   "source": [
    "3. Write a Python Program to Convert Decimal to Binary, Octal and Hexadecimal?\n"
   ]
  },
  {
   "cell_type": "code",
   "execution_count": 24,
   "id": "39989200",
   "metadata": {},
   "outputs": [
    {
     "name": "stdout",
     "output_type": "stream",
     "text": [
      "0b10101 in binary \n",
      "0o25 in octal \n",
      "0x15 in hexadecimal\n"
     ]
    }
   ],
   "source": [
    "number = 21\n",
    "print(bin(number),\"in binary \")\n",
    "print(oct(number),\"in octal \")\n",
    "print(hex(number),\"in hexadecimal\")"
   ]
  },
  {
   "cell_type": "markdown",
   "id": "41187e67",
   "metadata": {},
   "source": [
    "4. Write a Python Program To Find ASCII value of a character?\n"
   ]
  },
  {
   "cell_type": "code",
   "execution_count": 10,
   "id": "23f10684",
   "metadata": {},
   "outputs": [
    {
     "name": "stdout",
     "output_type": "stream",
     "text": [
      "Enter the character ofwhich you want the ASCII value :a\n",
      "97\n"
     ]
    }
   ],
   "source": [
    "a = input(\"Enter the character ofwhich you want the ASCII value :\")\n",
    "print(ord(a))"
   ]
  },
  {
   "cell_type": "markdown",
   "id": "802fe488",
   "metadata": {},
   "source": [
    "5. Write a Python Program to Make a Simple Calculator with 4 basic mathematical operations?"
   ]
  },
  {
   "cell_type": "code",
   "execution_count": 4,
   "id": "b53f88d5",
   "metadata": {},
   "outputs": [],
   "source": [
    "def Addition(a,b):\n",
    "    return a+b\n",
    "def Subtraction(a,b):\n",
    "    return a-b\n",
    "def Multiplication(a,b):\n",
    "    return a*b\n",
    "def Division(a,b):\n",
    "    return a/b\n"
   ]
  },
  {
   "cell_type": "code",
   "execution_count": 5,
   "id": "9cca9249",
   "metadata": {},
   "outputs": [
    {
     "data": {
      "text/plain": [
       "92"
      ]
     },
     "execution_count": 5,
     "metadata": {},
     "output_type": "execute_result"
    }
   ],
   "source": [
    "Addition(2,90)"
   ]
  },
  {
   "cell_type": "code",
   "execution_count": 6,
   "id": "64c4f7de",
   "metadata": {},
   "outputs": [
    {
     "data": {
      "text/plain": [
       "1"
      ]
     },
     "execution_count": 6,
     "metadata": {},
     "output_type": "execute_result"
    }
   ],
   "source": [
    "Subtraction(10,9)"
   ]
  },
  {
   "cell_type": "code",
   "execution_count": 7,
   "id": "4df2f266",
   "metadata": {},
   "outputs": [
    {
     "data": {
      "text/plain": [
       "6396"
      ]
     },
     "execution_count": 7,
     "metadata": {},
     "output_type": "execute_result"
    }
   ],
   "source": [
    "Multiplication(82,78)"
   ]
  },
  {
   "cell_type": "code",
   "execution_count": 8,
   "id": "b910043d",
   "metadata": {},
   "outputs": [
    {
     "data": {
      "text/plain": [
       "5.0"
      ]
     },
     "execution_count": 8,
     "metadata": {},
     "output_type": "execute_result"
    }
   ],
   "source": [
    "Division(90,18)"
   ]
  },
  {
   "cell_type": "code",
   "execution_count": null,
   "id": "8ae8b16e",
   "metadata": {},
   "outputs": [],
   "source": []
  }
 ],
 "metadata": {
  "kernelspec": {
   "display_name": "Python 3 (ipykernel)",
   "language": "python",
   "name": "python3"
  },
  "language_info": {
   "codemirror_mode": {
    "name": "ipython",
    "version": 3
   },
   "file_extension": ".py",
   "mimetype": "text/x-python",
   "name": "python",
   "nbconvert_exporter": "python",
   "pygments_lexer": "ipython3",
   "version": "3.9.13"
  }
 },
 "nbformat": 4,
 "nbformat_minor": 5
}
