{
  "nbformat": 4,
  "nbformat_minor": 0,
  "metadata": {
    "colab": {
      "provenance": []
    },
    "kernelspec": {
      "name": "python3",
      "display_name": "Python 3"
    },
    "language_info": {
      "name": "python"
    }
  },
  "cells": [
    {
      "cell_type": "markdown",
      "source": [
        "Q.1) Why are functions advantageous to have in your programs?\n",
        "\n",
        "Ans---> Functions are used to increase the re-useability of the code.\n",
        "we don't need while programming same statements again and again.\n"
      ],
      "metadata": {
        "id": "SEi_pB7tktr4"
      }
    },
    {
      "cell_type": "markdown",
      "source": [
        "Q.2) When does the code in a function run: when it's specified or when it's called?\n",
        "\n",
        "Ans---> The in the function runs when it's specified ."
      ],
      "metadata": {
        "id": "dX_5OPlB9387"
      }
    },
    {
      "cell_type": "markdown",
      "source": [
        "Q.3) What statement creates a function?\n",
        "\n",
        "Ans---> 'def' is the keyword which defines the function.we start the function by def keyword."
      ],
      "metadata": {
        "id": "vRMeTT3NJ8Bz"
      }
    },
    {
      "cell_type": "markdown",
      "source": [
        "Q.4) What is the difference between a function and a function call?\n",
        "\n",
        "Ans--->Function is a block of code that does a particular operation and returns a result. It usually accepts inputs as parameters and returns a result. The parameters are not mandatory. A function call is the code used to pass control to a function.\n"
      ],
      "metadata": {
        "id": "DBZPkxq2KCyH"
      }
    },
    {
      "cell_type": "markdown",
      "source": [
        "Q.5) How many global scopes are there in a Python program? How many local scopes?\n",
        "\n",
        "Ans---> At any given time during execution, we will have at most four active Python scopes—local, enclosing, global, and built-in—depending on where you are in the code. On the other hand, we will always have at least two active scopes"
      ],
      "metadata": {
        "id": "guanZvOMPY8s"
      }
    },
    {
      "cell_type": "markdown",
      "source": [
        "Q.6) What happens to variables in a local scope when the function call returns?\n",
        "\n",
        "Ans---> The local variables get destroyed when variables in local scope when the function call returns."
      ],
      "metadata": {
        "id": "Vy2OHC3jPftH"
      }
    },
    {
      "cell_type": "markdown",
      "source": [
        "Q.7) What is the concept of a return value? Is it possible to have a return value in an expression?\n",
        "\n",
        "Ans---> A return is a value that a function returns to the calling script or function when it completes its task. A return value can be any one of the four variable types: float, integer, boolean or string. The type of value your function returns depends largely on the task it performs.\n"
      ],
      "metadata": {
        "id": "BRC7D9w2PihK"
      }
    },
    {
      "cell_type": "markdown",
      "source": [
        "Q.8) If a function does not have a return statement, what is the return value of a call to that function?\n",
        "\n",
        "Ans---> It will implicitly return default value which is none."
      ],
      "metadata": {
        "id": "QG6visUfPqCU"
      }
    },
    {
      "cell_type": "markdown",
      "source": [
        "Q.9) How do you make a function variable refer to the global variable?\n",
        "\n",
        "Ans---> when you create a variable inside a function, that variable is local, and can only be used inside that function. To create a global variable inside a function, you can use the global keyword"
      ],
      "metadata": {
        "id": "-jwk0B0QBT4A"
      }
    },
    {
      "cell_type": "markdown",
      "source": [
        "Q.10) What is the data type of None?\n",
        "\n",
        "ANS---> None has its own data type none type."
      ],
      "metadata": {
        "id": "O6yrRAWWBu3a"
      }
    },
    {
      "cell_type": "markdown",
      "source": [
        "Q.11) What does the sentence import areallyourpetsnamederic do?\n",
        "\n",
        "Ans---> It import module which names areallyourpetsnamederic.\n"
      ],
      "metadata": {
        "id": "3zY9aTsJCZMZ"
      }
    },
    {
      "cell_type": "markdown",
      "source": [
        "Q.12)If you had a bacon() feature in a spam module, what would you call it after importing spam?\n",
        "\n",
        "Ans---> The function can be called with spam.bacon()"
      ],
      "metadata": {
        "id": "YtpntnBvCvq8"
      }
    },
    {
      "cell_type": "markdown",
      "source": [
        "Q.13) What can you do to save a programme from crashing if it encounters an error?\n",
        "\n",
        "Ans---> Try to run the program."
      ],
      "metadata": {
        "id": "ruP9H7reDEN5"
      }
    },
    {
      "cell_type": "markdown",
      "source": [
        "Q.14)What is the purpose of the try clause? What is the purpose of the except clause?\n",
        "\n",
        "Ans--->The try block lets you test a block of code for errors. The except block lets you handle the error. The else block lets you execute code when there is no error. The finally block lets you execute code, regardless of the result of the try and except blocks.\n"
      ],
      "metadata": {
        "id": "61Ilh-vtDUuK"
      }
    }
  ]
}