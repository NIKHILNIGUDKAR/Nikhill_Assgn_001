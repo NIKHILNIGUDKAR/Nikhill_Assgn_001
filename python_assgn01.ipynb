{
  "nbformat": 4,
  "nbformat_minor": 0,
  "metadata": {
    "colab": {
      "provenance": []
    },
    "kernelspec": {
      "name": "python3",
      "display_name": "Python 3"
    },
    "language_info": {
      "name": "python"
    }
  },
  "cells": [
    {
      "cell_type": "markdown",
      "source": [
        "Q.1) In the below elements which of them are values or an expression? eg:- values can be integer or string and expressions will be mathematical operators."
      ],
      "metadata": {
        "id": "vx6Im0Rc4Q_R"
      }
    },
    {
      "cell_type": "markdown",
      "source": [
        "* | expression\n",
        "- |-|\n",
        "'hello' | value(string)\n",
        "-87.8 | value(float)\n",
        "- | expression\n",
        "/ | expression\n",
        "+ | expression\n",
        "6 |value(integer)"
      ],
      "metadata": {
        "id": "Mm-DKEGXQzYq"
      }
    },
    {
      "cell_type": "markdown",
      "source": [
        "Q.2. What is the difference between string and variable?"
      ],
      "metadata": {
        "id": "j8zO8xqgI6HX"
      }
    },
    {
      "cell_type": "markdown",
      "source": [
        "Ans--> String is data type where varibles can be any type of data like it can be int or float or bool or str . We can say that variable can be string data type nut string is variable is not always true"
      ],
      "metadata": {
        "id": "JnDtfL48OXkL"
      }
    },
    {
      "cell_type": "markdown",
      "source": [
        "Q.3) Describe three different data types."
      ],
      "metadata": {
        "id": "YM157edWJB7I"
      }
    },
    {
      "cell_type": "markdown",
      "source": [
        "ANS--> 1)**Int**- it means integer it contain numbers which are not fraction data type without fractional values.\n",
        "e.g: 10,  100, 34 etc\n",
        "\n",
        "2) **bool**- It contains values true or false\n",
        "\n",
        "3) **str** - It contain expressions or we can say alphabets like that.\n",
        "e.g: \"nikhil\", \"India\", 'sachin' etc\n",
        "\n"
      ],
      "metadata": {
        "id": "vBdXVI7OMpEN"
      }
    },
    {
      "cell_type": "markdown",
      "source": [
        "Q.4) What is an expression made up of? What do all expressions do?"
      ],
      "metadata": {
        "id": "qHQ6x4oGJKfw"
      }
    },
    {
      "cell_type": "markdown",
      "source": [
        "Ans--> Expression is a combination of operators and oprends which is used to interpreted to produce some othr value . Expressions are made of operators and operands."
      ],
      "metadata": {
        "id": "Fx_lma1xP57t"
      }
    },
    {
      "cell_type": "markdown",
      "source": [
        "Q.5) This assignment statements, like spam = 10. What is the difference between an expression and a statement?\n"
      ],
      "metadata": {
        "id": "jZHwH90FJRd6"
      }
    },
    {
      "cell_type": "markdown",
      "source": [
        "Ans-->Statements represent an action or command e.g print statements, assignment statements. Expression is a combination of variables, operations and values that yields a result value.\n",
        "\n",
        "here in above case soam = 10 is a statement "
      ],
      "metadata": {
        "id": "jKS8coBdPdJs"
      }
    },
    {
      "cell_type": "markdown",
      "source": [
        "Q.6) After running the following code, what does the variable bacon contain?\n",
        "\n",
        "bacon = 22\n",
        "\n",
        "\n",
        "bacon + 1\n"
      ],
      "metadata": {
        "id": "WqX8vix4JZDa"
      }
    },
    {
      "cell_type": "code",
      "source": [
        "bacon = 22\n",
        "bacon + 1"
      ],
      "metadata": {
        "colab": {
          "base_uri": "https://localhost:8080/"
        },
        "id": "Jo0lDsINMTLc",
        "outputId": "88cbb32f-1091-48fd-b63b-e49dc87774dd"
      },
      "execution_count": 4,
      "outputs": [
        {
          "output_type": "execute_result",
          "data": {
            "text/plain": [
              "23"
            ]
          },
          "metadata": {},
          "execution_count": 4
        }
      ]
    },
    {
      "cell_type": "markdown",
      "source": [
        "Q.7) What should the values of the following two terms be?\n",
        "\n",
        "\n",
        "'spam' + 'spamspam'\n",
        "\n",
        "'spam' * 3\n"
      ],
      "metadata": {
        "id": "U3K8xFm8Jk9z"
      }
    },
    {
      "cell_type": "markdown",
      "source": [
        "ANS--> Here 'spam' gets added for two times but second word alredy contain two times spam so it becomes three times spam. In second case spam gets printed three times because it is multiplied three times."
      ],
      "metadata": {
        "id": "Dy2VmRmuLx-I"
      }
    },
    {
      "cell_type": "code",
      "source": [
        "'spam'+'spamspam'\n"
      ],
      "metadata": {
        "colab": {
          "base_uri": "https://localhost:8080/",
          "height": 35
        },
        "id": "6h_yas3gLSPR",
        "outputId": "8527d6e9-991c-4e5f-a871-8dd6872c42fa"
      },
      "execution_count": 2,
      "outputs": [
        {
          "output_type": "execute_result",
          "data": {
            "text/plain": [
              "'spamspamspam'"
            ],
            "application/vnd.google.colaboratory.intrinsic+json": {
              "type": "string"
            }
          },
          "metadata": {},
          "execution_count": 2
        }
      ]
    },
    {
      "cell_type": "code",
      "source": [
        "'spam'*3"
      ],
      "metadata": {
        "colab": {
          "base_uri": "https://localhost:8080/",
          "height": 35
        },
        "id": "m-Do63r3LuSa",
        "outputId": "5b978f10-a8c5-41ef-97a7-45ae116d9ec7"
      },
      "execution_count": 3,
      "outputs": [
        {
          "output_type": "execute_result",
          "data": {
            "text/plain": [
              "'spamspamspam'"
            ],
            "application/vnd.google.colaboratory.intrinsic+json": {
              "type": "string"
            }
          },
          "metadata": {},
          "execution_count": 3
        }
      ]
    },
    {
      "cell_type": "markdown",
      "source": [
        "Q.8) Why is eggs a valid variable name while 100 is invalid?"
      ],
      "metadata": {
        "id": "Rsfj4tHeJtHk"
      }
    },
    {
      "cell_type": "markdown",
      "source": [
        "ANS--> eggs is a valid variable name because variable name can start with alphabet and it should not contain any special characters .\n",
        "But 100 is invalid because Variable name can contain numbers but it cannot start with numbers.that's why 100 is invalid and eggs is valid variable name"
      ],
      "metadata": {
        "id": "phHD-1xzKfkI"
      }
    },
    {
      "cell_type": "code",
      "execution_count": null,
      "metadata": {
        "id": "jb60ItDU4Jy9"
      },
      "outputs": [],
      "source": []
    }
  ]
}