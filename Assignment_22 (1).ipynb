{
  "nbformat": 4,
  "nbformat_minor": 0,
  "metadata": {
    "colab": {
      "provenance": []
    },
    "kernelspec": {
      "name": "python3",
      "display_name": "Python 3"
    },
    "language_info": {
      "name": "python"
    }
  },
  "cells": [
    {
      "cell_type": "markdown",
      "source": [
        "Question1\n",
        "Create a function that takes three parameters where:\n",
        "\n",
        "* x is the start of the range (inclusive).\n",
        "* y is the end of the range (inclusive).\n",
        "* n is the divisor to be checked against.\n",
        "Return an ordered list with numbers in the range that are divisible by the third parameter n.\n",
        "Return an empty list if there are no numbers that are divisible by n.\n",
        "\n"
      ],
      "metadata": {
        "id": "ersLPLmxnbpD"
      }
    },
    {
      "cell_type": "code",
      "source": [
        "def divisible_numbers(x, y, n):\n",
        "    \n",
        "    divisible_nums = []\n",
        "\n",
        "    for num in range(x, y+1):\n",
        "        if num % n == 0:\n",
        "            divisible_nums.append(num)\n",
        "\n",
        "    return sorted(divisible_nums)"
      ],
      "metadata": {
        "id": "J3-elfDlnrdW"
      },
      "execution_count": 16,
      "outputs": []
    },
    {
      "cell_type": "markdown",
      "source": [
        "Question.2)\n",
        "Create a function that takes in two lists and returns True if the second list follows the first list\n",
        "by one element, and False otherwise. In other words, determine if the second list is the first\n",
        "list shifted to the right by 1."
      ],
      "metadata": {
        "id": "iM82aNdzodCb"
      }
    },
    {
      "cell_type": "code",
      "source": [
        "def is_shifted_list(list1, list2):\n",
        "\n",
        "    if len(list1) != len(list2):\n",
        "        return False\n",
        "\n",
        "    for i in range(len(list1)-1):\n",
        "        if list2[i] != list1[i+1]:\n",
        "            return False\n",
        "\n",
        "    return True\n"
      ],
      "metadata": {
        "id": "hnjvZFjMoXtz"
      },
      "execution_count": 17,
      "outputs": []
    },
    {
      "cell_type": "markdown",
      "source": [
        "Question.3)\n",
        "A group of friends have decided to start a secret society. The name will be the first letter of\n",
        "each of their names, sorted in alphabetical order.\n",
        "Create a function that takes in a list of names and returns the name of the secret society."
      ],
      "metadata": {
        "id": "y8ZtsuD4op3K"
      }
    },
    {
      "cell_type": "code",
      "source": [
        "def secret_society(names):\n",
        "    \n",
        "    society_name = \"\"\n",
        "\n",
        "    for name in names:\n",
        "        society_name += name[0]\n",
        "\n",
        "    society_name = sorted(society_name)\n",
        "\n",
        "    society_name = \"\".join(society_name)\n",
        "\n",
        "    return society_name"
      ],
      "metadata": {
        "id": "Av1yQcf8oloS"
      },
      "execution_count": 18,
      "outputs": []
    },
    {
      "cell_type": "markdown",
      "source": [
        "Question.4)\n",
        "An isogram is a word that has no duplicate letters. Create a function that takes a string and\n",
        "returns either True or False depending on whether or not it&#39;s an &quot;isogram&quot;."
      ],
      "metadata": {
        "id": "-7goaylwpD-S"
      }
    },
    {
      "cell_type": "code",
      "source": [
        "def is_isogram(string):\n",
        "    \n",
        "    string = string.lower()\n",
        "\n",
        "    for i in range(len(string)):\n",
        "        if string.count(string[i]) > 1:\n",
        "            return False\n",
        "\n",
        "    return True"
      ],
      "metadata": {
        "id": "_Ptnf_o7pDr6"
      },
      "execution_count": 19,
      "outputs": []
    },
    {
      "cell_type": "markdown",
      "source": [
        "Question.5)\n",
        "Create a function that takes a string and returns True or False, depending on whether the\n",
        "characters are in order or not."
      ],
      "metadata": {
        "id": "sv80M2C8pUbf"
      }
    },
    {
      "cell_type": "code",
      "source": [
        "def is_in_order(string):\n",
        "   \n",
        "    for i in range(len(string)-1):\n",
        "        if string[i] > string[i+1]:\n",
        "            return False\n",
        "\n",
        "    return True\n"
      ],
      "metadata": {
        "id": "HPF6g6iYpAe6"
      },
      "execution_count": 20,
      "outputs": []
    }
  ]
}