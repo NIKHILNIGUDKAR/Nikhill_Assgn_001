{
  "nbformat": 4,
  "nbformat_minor": 0,
  "metadata": {
    "colab": {
      "provenance": [],
      "collapsed_sections": []
    },
    "kernelspec": {
      "name": "python3",
      "display_name": "Python 3"
    },
    "language_info": {
      "name": "python"
    }
  },
  "cells": [
    {
      "cell_type": "markdown",
      "source": [
        "Q.1) What are the two values of the Boolean data type? How do you write them?"
      ],
      "metadata": {
        "id": "lHBPUuwmdzgY"
      }
    },
    {
      "cell_type": "markdown",
      "source": [
        "Ans--->  There are two values of the Boolean data type which are True and False.\n",
        "If the given conditions are matched with expression then that will fetch us True as output and if the it does not match then it becomes False"
      ],
      "metadata": {
        "id": "JkZQV2I7d5pu"
      }
    },
    {
      "cell_type": "markdown",
      "source": [
        "Q.2) What are the three different types of Boolean operators?"
      ],
      "metadata": {
        "id": "Qi_sqTLUbKeg"
      }
    },
    {
      "cell_type": "markdown",
      "source": [
        "Ans---> And , Or , Not are the three boolean operators."
      ],
      "metadata": {
        "id": "RzsgV5tibUGo"
      }
    },
    {
      "cell_type": "markdown",
      "source": [
        "Q.3) Make a list of each Boolean operator&#39;s truth tables (i.e. every possible combination of Boolean values for the operator and what it evaluate )."
      ],
      "metadata": {
        "id": "_shE5mJhccJA"
      }
    },
    {
      "cell_type": "markdown",
      "source": [
        "AND Truth Table\n",
        "\n",
        "Input | Output\n",
        " -|-|\n",
        " A B |out\n",
        " 0 0 |0\n",
        " 0 1 |0\n",
        " 1 0 |0\n",
        " 1 1 |1\n",
        "\n",
        " Or Truth table \n",
        "\n",
        " Input | Output\n",
        " -|-|\n",
        " A B |out\n",
        " 0 0 |0\n",
        " 0 0 |1\n",
        " 1 0 |1\n",
        " 1 1 |1\n",
        "\n",
        " And Truth table \n",
        "\n",
        " Input | output\n",
        " - | -\n",
        " 1 | 0\n",
        " 0 | 1\n",
        "\n",
        "\n",
        "In these tables we can treat 0 as false value and 1 as Truth value.\n",
        "In case of And we need both the conditions to be true then only outpu will be true otherwise it will be false.\n",
        "In case of Or we need only one input true then the output will be true , if both the output are false then output will be false. \n"
      ],
      "metadata": {
        "id": "t6nqSL7SeAw6"
      }
    },
    {
      "cell_type": "markdown",
      "source": [
        "Q.4) What are the values of the following expressions?\n",
        "1. (5 > 4) and (3 == 5)\n",
        "\n",
        "\n",
        "2. not (5 > 4)\n",
        "\n",
        "\n",
        "3. (5 > 4) or (3 == 5)\n",
        "\n",
        "\n",
        "4. not ((5 > 4) or (3 == 5))\n",
        "\n",
        "\n",
        "5. (True and True) and (True == False)\n",
        "\n",
        "\n",
        "6. (not False) or (not True)"
      ],
      "metadata": {
        "id": "1h-KsFfDgM14"
      }
    },
    {
      "cell_type": "markdown",
      "source": [],
      "metadata": {
        "id": "O_5cBi3PhK17"
      }
    },
    {
      "cell_type": "code",
      "execution_count": 1,
      "metadata": {
        "id": "TkWF8tEeWpBr",
        "colab": {
          "base_uri": "https://localhost:8080/"
        },
        "outputId": "5cf4827c-ef01-41fe-daef-d054871e48d6"
      },
      "outputs": [
        {
          "output_type": "execute_result",
          "data": {
            "text/plain": [
              "False"
            ]
          },
          "metadata": {},
          "execution_count": 1
        }
      ],
      "source": [
        "(5 > 4) and (3 == 5)"
      ]
    },
    {
      "cell_type": "code",
      "source": [
        "not (5 > 4)"
      ],
      "metadata": {
        "colab": {
          "base_uri": "https://localhost:8080/"
        },
        "id": "sLujqsiNhTG3",
        "outputId": "c36aed31-7b8b-4c38-afcd-4c9e3d23b7c0"
      },
      "execution_count": 2,
      "outputs": [
        {
          "output_type": "execute_result",
          "data": {
            "text/plain": [
              "False"
            ]
          },
          "metadata": {},
          "execution_count": 2
        }
      ]
    },
    {
      "cell_type": "code",
      "source": [
        "(5 > 4) or (3 == 5)"
      ],
      "metadata": {
        "colab": {
          "base_uri": "https://localhost:8080/"
        },
        "id": "7EpEUTUzhcP6",
        "outputId": "12372e83-3549-4d69-931e-89c87df1ca81"
      },
      "execution_count": 3,
      "outputs": [
        {
          "output_type": "execute_result",
          "data": {
            "text/plain": [
              "True"
            ]
          },
          "metadata": {},
          "execution_count": 3
        }
      ]
    },
    {
      "cell_type": "code",
      "source": [
        "not ((5 > 4) or (3 == 5))"
      ],
      "metadata": {
        "colab": {
          "base_uri": "https://localhost:8080/"
        },
        "id": "vYQGiVazhjIW",
        "outputId": "4fc61f52-3cfb-4ed4-bc40-f8ee6bfbcee0"
      },
      "execution_count": 4,
      "outputs": [
        {
          "output_type": "execute_result",
          "data": {
            "text/plain": [
              "False"
            ]
          },
          "metadata": {},
          "execution_count": 4
        }
      ]
    },
    {
      "cell_type": "code",
      "source": [
        "(True and True) and (True == False)"
      ],
      "metadata": {
        "colab": {
          "base_uri": "https://localhost:8080/"
        },
        "id": "nMfkFOO3hoNI",
        "outputId": "f3b8368e-a525-4d17-91b6-b926b47d1616"
      },
      "execution_count": 5,
      "outputs": [
        {
          "output_type": "execute_result",
          "data": {
            "text/plain": [
              "False"
            ]
          },
          "metadata": {},
          "execution_count": 5
        }
      ]
    },
    {
      "cell_type": "code",
      "source": [
        "(not False) or (not True)"
      ],
      "metadata": {
        "colab": {
          "base_uri": "https://localhost:8080/"
        },
        "id": "gPesqvcthtQB",
        "outputId": "6b75fa67-c9ff-43b4-b9ed-d4b7c3d35e0a"
      },
      "execution_count": 6,
      "outputs": [
        {
          "output_type": "execute_result",
          "data": {
            "text/plain": [
              "True"
            ]
          },
          "metadata": {},
          "execution_count": 6
        }
      ]
    },
    {
      "cell_type": "markdown",
      "source": [
        "Q.5) What are the six comparison operators?"
      ],
      "metadata": {
        "id": "eqRsgrLuh2aI"
      }
    },
    {
      "cell_type": "markdown",
      "source": [
        "Ans ---> Following are the comparison operators.\n",
        "\n",
        " \n",
        "< ,  >, <=, >= , ==  , !=\n",
        "\n",
        "\n",
        "\n",
        "\n"
      ],
      "metadata": {
        "id": "lJ9mbDvdiBiv"
      }
    },
    {
      "cell_type": "markdown",
      "source": [
        "Q.6). How do you tell the difference between the equal to and assignment operators?Describe a\n",
        "condition and when you would use one."
      ],
      "metadata": {
        "id": "GTqGu4llim2x"
      }
    },
    {
      "cell_type": "markdown",
      "source": [
        "Ans--->Assignment operator '=' is used to assign the value to the variable . equal to operator is used '==' is used to check the both the values on right side and left side are equal or not.\n",
        "e.g: \n",
        "    \n",
        "     A = 12\n",
        "\n",
        "     B = 12\n",
        "\n",
        "     if A==B :\n",
        "        print(\"A and B are equal\")\n",
        "     else:\n",
        "        print(\"A and B are not equal\")"
      ],
      "metadata": {
        "id": "BdmiXTP8-6YR"
      }
    },
    {
      "cell_type": "markdown",
      "source": [
        "Q.7) Identify the three blocks in this code:\n",
        "spam = 0\n",
        "if spam == 10:\n",
        "\n",
        "print('eggs')\n",
        "\n",
        "if spam > 5:\n",
        "\n",
        "print('bacon')\n",
        "\n",
        "else:\n",
        "\n",
        "print('ham')\n",
        "\n",
        "print('spam')\n",
        "\n",
        "print('spam')"
      ],
      "metadata": {
        "id": "n-1pimgxEtZC"
      }
    },
    {
      "cell_type": "markdown",
      "source": [
        "Ans---> There are two if and one else blocks."
      ],
      "metadata": {
        "id": "fz8alyAC-VCU"
      }
    },
    {
      "cell_type": "markdown",
      "source": [
        "Q.8) Write code that prints Hello if 1 is stored in spam, prints Howdy if 2 is stored in spam, and prints\n",
        "Greetings! if anything else is stored in spam."
      ],
      "metadata": {
        "id": "PczeZuAYF0PJ"
      }
    },
    {
      "cell_type": "code",
      "source": [
        "spam = int(input(\"Enter the spam value: \"))\n",
        "print(f\"The stored in spam is {spam}\")\n",
        "if spam == 1:\n",
        "    print(f\"Hello\")\n",
        "elif spam == 2:\n",
        "    print(\"Howdy\")\n",
        "else:\n",
        "    print(\"Greetings!\")"
      ],
      "metadata": {
        "colab": {
          "base_uri": "https://localhost:8080/"
        },
        "id": "03P1wzvlF4wj",
        "outputId": "f0432564-c8e5-46c8-ac30-15a002c9f4f1"
      },
      "execution_count": 6,
      "outputs": [
        {
          "output_type": "stream",
          "name": "stdout",
          "text": [
            "Enter the spam value: 3\n",
            "The stored in spam is 3\n",
            "Greetings!\n"
          ]
        }
      ]
    },
    {
      "cell_type": "markdown",
      "source": [
        "Q.9)If your programme is stuck in an endless loop, what keys you’ll press?\n"
      ],
      "metadata": {
        "id": "N0auqKrYHj48"
      }
    },
    {
      "cell_type": "markdown",
      "source": [
        "Ans---> CTRL+C\n"
      ],
      "metadata": {
        "id": "jeDZQyF9HqgZ"
      }
    },
    {
      "cell_type": "markdown",
      "source": [
        "Q.10) How can you tell the difference between break and continue?\n",
        "\n",
        "ANS---> break completely stops the loop but continue skeeps the loop"
      ],
      "metadata": {
        "id": "Kmu3vMroHy7a"
      }
    },
    {
      "cell_type": "markdown",
      "source": [
        "Q.11) In a for loop, what is the difference between range(10), range(0, 10), and range(0, 10, 1)?\n",
        "\n",
        "ans---> There will be no difference in the output of the following case\n",
        "these are different ways of getting same output"
      ],
      "metadata": {
        "id": "_iNzhQ0MIiL0"
      }
    },
    {
      "cell_type": "markdown",
      "source": [],
      "metadata": {
        "id": "tk14vHvBJGEa"
      }
    },
    {
      "cell_type": "code",
      "source": [
        "for i in range(10):\n",
        "    print(i)"
      ],
      "metadata": {
        "colab": {
          "base_uri": "https://localhost:8080/"
        },
        "id": "yCSuRzAtIpBP",
        "outputId": "d58a2f70-59e3-4141-a214-62f0f8930bd8"
      },
      "execution_count": 8,
      "outputs": [
        {
          "output_type": "stream",
          "name": "stdout",
          "text": [
            "0\n",
            "1\n",
            "2\n",
            "3\n",
            "4\n",
            "5\n",
            "6\n",
            "7\n",
            "8\n",
            "9\n"
          ]
        }
      ]
    },
    {
      "cell_type": "code",
      "source": [
        "for i in range (0,10):\n",
        "    print(i)"
      ],
      "metadata": {
        "colab": {
          "base_uri": "https://localhost:8080/"
        },
        "id": "HelhvXsUG3Jq",
        "outputId": "36577a1e-861a-4343-f66e-e4bda9c41dda"
      },
      "execution_count": 9,
      "outputs": [
        {
          "output_type": "stream",
          "name": "stdout",
          "text": [
            "0\n",
            "1\n",
            "2\n",
            "3\n",
            "4\n",
            "5\n",
            "6\n",
            "7\n",
            "8\n",
            "9\n"
          ]
        }
      ]
    },
    {
      "cell_type": "code",
      "source": [
        "for i in range(0,10,1):\n",
        "    print(i)"
      ],
      "metadata": {
        "colab": {
          "base_uri": "https://localhost:8080/"
        },
        "id": "A47i54iVI3X3",
        "outputId": "29c5b52e-067b-47cb-c4c8-4e416f7d1aff"
      },
      "execution_count": 10,
      "outputs": [
        {
          "output_type": "stream",
          "name": "stdout",
          "text": [
            "0\n",
            "1\n",
            "2\n",
            "3\n",
            "4\n",
            "5\n",
            "6\n",
            "7\n",
            "8\n",
            "9\n"
          ]
        }
      ]
    },
    {
      "cell_type": "markdown",
      "source": [
        "Q.12) Write a short program that prints the numbers 1 to 10 using a for \n",
        "loop. Then write an equivalent program that prints the numbers 1 to 10 using a while loop."
      ],
      "metadata": {
        "id": "rxMAqjtHJdkJ"
      }
    },
    {
      "cell_type": "code",
      "source": [
        "for i in range(1,11):\n",
        "    print(i)"
      ],
      "metadata": {
        "colab": {
          "base_uri": "https://localhost:8080/"
        },
        "id": "psQMEfmhJk9J",
        "outputId": "0c5e9361-6b5e-4735-bff1-051506af43b5"
      },
      "execution_count": 13,
      "outputs": [
        {
          "output_type": "stream",
          "name": "stdout",
          "text": [
            "1\n",
            "2\n",
            "3\n",
            "4\n",
            "5\n",
            "6\n",
            "7\n",
            "8\n",
            "9\n",
            "10\n"
          ]
        }
      ]
    },
    {
      "cell_type": "code",
      "source": [
        "i = 1\n",
        "while(i<=10):\n",
        "    print(i)\n",
        "    i += 1"
      ],
      "metadata": {
        "colab": {
          "base_uri": "https://localhost:8080/"
        },
        "id": "BJlrdF1-KDeX",
        "outputId": "1e4b1bef-a24e-42e8-a418-c9f1930f3eaf"
      },
      "execution_count": 15,
      "outputs": [
        {
          "output_type": "stream",
          "name": "stdout",
          "text": [
            "1\n",
            "2\n",
            "3\n",
            "4\n",
            "5\n",
            "6\n",
            "7\n",
            "8\n",
            "9\n",
            "10\n"
          ]
        }
      ]
    },
    {
      "cell_type": "markdown",
      "source": [
        "Q.13)If you had a function named bacon() inside a module named spam, how would you call it after\n",
        "importing spam?"
      ],
      "metadata": {
        "id": "8Hm8OXXLLwH9"
      }
    },
    {
      "cell_type": "markdown",
      "source": [
        "Ans---> The function can be called with spam.bacon() "
      ],
      "metadata": {
        "id": "MWv6txUNBsQW"
      }
    },
    {
      "cell_type": "code",
      "source": [],
      "metadata": {
        "id": "pwXf0sF-LpSQ"
      },
      "execution_count": null,
      "outputs": []
    }
  ]
}