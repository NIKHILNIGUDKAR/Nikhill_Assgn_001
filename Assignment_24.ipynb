{
 "cells": [
  {
   "cell_type": "markdown",
   "id": "4fd9568e",
   "metadata": {},
   "source": [
    "1. What is the relationship between def statements and lambda expressions ?"
   ]
  },
  {
   "cell_type": "markdown",
   "id": "e3310f98",
   "metadata": {},
   "source": [
    "ANS--->In python def is defined functions are commonly used because their simplicity.The def defined functions do not return anything,if not explicitily returned whereas the lambda function return as object."
   ]
  },
  {
   "cell_type": "markdown",
   "id": "ae20416d",
   "metadata": {},
   "source": [
    "2. What is the benefit of lambda?"
   ]
  },
  {
   "cell_type": "markdown",
   "id": "679c5910",
   "metadata": {},
   "source": [
    "ANS--->Lambda enables functions with pre-trained machine learning models to inject artificial intelligence into applications more easily."
   ]
  },
  {
   "cell_type": "markdown",
   "id": "a78f7971",
   "metadata": {},
   "source": [
    "3. Compare and contrast map, filter, and reduce."
   ]
  },
  {
   "cell_type": "markdown",
   "id": "6fcbc524",
   "metadata": {},
   "source": [
    "ANS--->Map function returns map object of the result after applying the given function .Filtre function allows us to process an iterable and extract those items that satisfy a given condition.reduce is used to take an existing function, apply it cumulatively to all the items in an iterable, and generate a single final value."
   ]
  },
  {
   "cell_type": "markdown",
   "id": "aa95df0c",
   "metadata": {},
   "source": [
    "4. What are function annotations, and how are they used?"
   ]
  },
  {
   "cell_type": "markdown",
   "id": "9fa7afdc",
   "metadata": {},
   "source": [
    "ANS--->Function annotations , both for parameter and return values, are completely optional .Function annotations are nothng more than a way of associating arbitary python expression with various parts of functions at compile time."
   ]
  },
  {
   "cell_type": "markdown",
   "id": "6f32ee7f",
   "metadata": {},
   "source": [
    "5. What are recursive functions, and how are they used?"
   ]
  },
  {
   "cell_type": "markdown",
   "id": "ae891b35",
   "metadata": {},
   "source": [
    "ANS--->Recursive function is a function that repeats or uses its own previous term to calculate subsequent term and thus forms sequence of terms."
   ]
  },
  {
   "cell_type": "markdown",
   "id": "c173f73c",
   "metadata": {},
   "source": [
    "6. What are some general design guidelines for coding functions?"
   ]
  },
  {
   "cell_type": "markdown",
   "id": "5b239fcc",
   "metadata": {},
   "source": [
    "ANS---> Use Tab for indentation,Use docstring in the functions and classes,it's one of the best practices to use a space before and after an operator. Use a space after the comma as well for more readability,"
   ]
  },
  {
   "cell_type": "markdown",
   "id": "8374997d",
   "metadata": {},
   "source": [
    "7. Name three or more ways that functions can communicate results to a caller."
   ]
  },
  {
   "cell_type": "markdown",
   "id": "d0b6f90f",
   "metadata": {},
   "source": [
    "ANS---> we can call the function by using keywords like print or return it will call the function."
   ]
  }
 ],
 "metadata": {
  "kernelspec": {
   "display_name": "Python 3 (ipykernel)",
   "language": "python",
   "name": "python3"
  },
  "language_info": {
   "codemirror_mode": {
    "name": "ipython",
    "version": 3
   },
   "file_extension": ".py",
   "mimetype": "text/x-python",
   "name": "python",
   "nbconvert_exporter": "python",
   "pygments_lexer": "ipython3",
   "version": "3.9.13"
  }
 },
 "nbformat": 4,
 "nbformat_minor": 5
}
