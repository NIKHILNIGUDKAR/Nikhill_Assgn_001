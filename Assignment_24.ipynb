{
  "nbformat": 4,
  "nbformat_minor": 0,
  "metadata": {
    "colab": {
      "provenance": []
    },
    "kernelspec": {
      "name": "python3",
      "display_name": "Python 3"
    },
    "language_info": {
      "name": "python"
    }
  },
  "cells": [
    {
      "cell_type": "markdown",
      "source": [
        "Question.1)\n",
        "Create a function that takes an integer and returns a list from 1 to the given number, where:\n",
        "1. If the number can be divided evenly by 4, amplify it by 10 (i.e. return 10 times the\n",
        "number).\n",
        "\n",
        "2. If the number cannot be divided evenly by 4, simply return the number."
      ],
      "metadata": {
        "id": "QZJNPSwo69-I"
      }
    },
    {
      "cell_type": "code",
      "source": [
        "def amplify(num):\n",
        "    return [i * 10 if i % 4 == 0 else i for i in range(1, num+1)]"
      ],
      "metadata": {
        "id": "Tq_zU2gv7B1f"
      },
      "execution_count": 6,
      "outputs": []
    },
    {
      "cell_type": "markdown",
      "source": [
        "Question.2)\n",
        "Create a function that takes a list of numbers and return the number that&#39;s unique."
      ],
      "metadata": {
        "id": "zo1a208g7QZA"
      }
    },
    {
      "cell_type": "code",
      "source": [
        "def find_unique(numbers):\n",
        " \n",
        "    unique_numbers = {}\n",
        "    for num in numbers:\n",
        "        if num in unique_numbers:\n",
        "            unique_numbers[num] += 1\n",
        "        else:\n",
        "            unique_numbers[num] = 1\n",
        "    for num, count in unique_numbers.items():\n",
        "        if count == 1:\n",
        "            return num"
      ],
      "metadata": {
        "id": "mjJ52WO-7LSn"
      },
      "execution_count": 7,
      "outputs": []
    },
    {
      "cell_type": "markdown",
      "source": [
        "Question.3)\n",
        "Your task is to create a Circle constructor that creates a circle with a radius provided by an\n",
        "argument. The circles constructed must have two getters getArea() (PIr^2) and\n",
        "getPerimeter() (2PI*r) which give both respective areas and perimeter (circumference).\n",
        "\n",
        "For help with this class, I have provided you with a Rectangle constructor which you can use\n",
        "as a base example."
      ],
      "metadata": {
        "id": "N1GgrLfGkgul"
      }
    },
    {
      "cell_type": "code",
      "source": [
        "import math\n",
        "\n",
        "class Circle:\n",
        "    def __init__(self, radius):\n",
        "        self.radius = radius\n",
        "\n",
        "    def get_area(self):\n",
        "        return math.pi * self.radius**2\n",
        "\n",
        "    def get_perimeter(self):\n",
        "        return 2 * math.pi * self.radius"
      ],
      "metadata": {
        "id": "tNiZBplokZM_"
      },
      "execution_count": 8,
      "outputs": []
    },
    {
      "cell_type": "markdown",
      "source": [
        "Question.4)\n",
        "Create a function that takes a list of strings and return a list, sorted from shortest to longest."
      ],
      "metadata": {
        "id": "X_d1_mzckwHU"
      }
    },
    {
      "cell_type": "code",
      "source": [
        "def sort_by_length(str_list):\n",
        "    \"\"\"\n",
        "    This function takes a list of strings as input and returns a new list that is sorted from shortest to longest.\n",
        "    \"\"\"\n",
        "    return sorted(str_list, key=len)\n",
        "str_list = [\"apple\", \"banana\", \"pear\", \"kiwi\", \"orange\"]\n",
        "sorted_list = sort_by_length(str_list)\n",
        "print(sorted_list)"
      ],
      "metadata": {
        "colab": {
          "base_uri": "https://localhost:8080/"
        },
        "id": "z-zfz53VkrzU",
        "outputId": "23999d26-8601-4b54-923c-38e7d889e945"
      },
      "execution_count": 9,
      "outputs": [
        {
          "output_type": "stream",
          "name": "stdout",
          "text": [
            "['pear', 'kiwi', 'apple', 'banana', 'orange']\n"
          ]
        }
      ]
    },
    {
      "cell_type": "markdown",
      "source": [
        "Question.5)\n",
        "Create a function that validates whether three given integers form a Pythagorean triplet. The\n",
        "sum of the squares of the two smallest integers must equal the square of the largest number to\n",
        "be validated.\n"
      ],
      "metadata": {
        "id": "EnCaI0R_k_ms"
      }
    },
    {
      "cell_type": "code",
      "source": [
        "def is_pythagorean_triplet(a, b, c):\n",
        "   \n",
        "    a_sq = a**2\n",
        "    b_sq = b**2\n",
        "    c_sq = c**2\n",
        "\n",
        "    smallest_sq_sum = a_sq + b_sq if a_sq < b_sq else a_sq + c_sq if a_sq < c_sq else b_sq + c_sq\n",
        "\n",
        "    return smallest_sq_sum == c_sq\n"
      ],
      "metadata": {
        "id": "lOY8Mq7Hk7Kk"
      },
      "execution_count": 10,
      "outputs": []
    },
    {
      "cell_type": "code",
      "source": [],
      "metadata": {
        "id": "w76oxCWVlPQE"
      },
      "execution_count": null,
      "outputs": []
    }
  ]
}