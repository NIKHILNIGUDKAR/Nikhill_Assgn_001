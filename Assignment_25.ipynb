{
  "nbformat": 4,
  "nbformat_minor": 0,
  "metadata": {
    "colab": {
      "provenance": []
    },
    "kernelspec": {
      "name": "python3",
      "display_name": "Python 3"
    },
    "language_info": {
      "name": "python"
    }
  },
  "cells": [
    {
      "cell_type": "markdown",
      "source": [
        "Question.1)\n",
        "Create a function that takes three integer arguments (a, b, c) and returns the amount of\n",
        "integers which are of equal value."
      ],
      "metadata": {
        "id": "jLf_0yCX5Y_K"
      }
    },
    {
      "cell_type": "code",
      "source": [
        "def equal_integers(a, b, c):\n",
        "    count = 0\n",
        "    if a == b == c:\n",
        "        count = 3\n",
        "    elif a == b or b == c or c == a:\n",
        "        count = 2\n",
        "    return count"
      ],
      "metadata": {
        "id": "2GXa2Vnc5etR"
      },
      "execution_count": 1,
      "outputs": []
    },
    {
      "cell_type": "markdown",
      "source": [
        "Question2) \n",
        "Write a function that converts a dictionary into a list of keys-values tuples."
      ],
      "metadata": {
        "id": "gA7pjcQ85uOg"
      }
    },
    {
      "cell_type": "code",
      "source": [
        "def dict_to_tuple_list(d):\n",
        "    return [(key, value) for key, value in d.items()]\n",
        "my_dict = {'a': 1, 'b': 2, 'c': 3}\n",
        "result = dict_to_tuple_list(my_dict)\n",
        "print(result) # Output: [('a', 1), ('b', 2), ('c', 3)]"
      ],
      "metadata": {
        "colab": {
          "base_uri": "https://localhost:8080/"
        },
        "id": "iVFjz3cW5owp",
        "outputId": "23eb7960-e9b8-49e0-ec2b-7957b4695af2"
      },
      "execution_count": 2,
      "outputs": [
        {
          "output_type": "stream",
          "name": "stdout",
          "text": [
            "[('a', 1), ('b', 2), ('c', 3)]\n"
          ]
        }
      ]
    },
    {
      "cell_type": "markdown",
      "source": [
        "Question.3)\n",
        "Write a function that creates a dictionary with each (key, value) pair being the (lower case,\n",
        "upper case) versions of a letter, respectively."
      ],
      "metadata": {
        "id": "CGv1tHTJ6BGn"
      }
    },
    {
      "cell_type": "code",
      "source": [
        "def letter_cases():\n",
        "    letters = 'abcdefghijklmnopqrstuvwxyz'\n",
        "    return {letter: (letter.lower(), letter.upper()) for letter in letters}"
      ],
      "metadata": {
        "id": "kT5vBz0a57So"
      },
      "execution_count": 3,
      "outputs": []
    },
    {
      "cell_type": "markdown",
      "source": [
        "Question.4)\n",
        "Write a function, that replaces all vowels in a string with a specified vowel."
      ],
      "metadata": {
        "id": "tQ3dCmGz6S-y"
      }
    },
    {
      "cell_type": "code",
      "source": [
        "def replace_vowels(text, vowel):\n",
        "    vowels = 'aeiouAEIOU'\n",
        "    return ''.join([vowel if char in vowels else char for char in text])"
      ],
      "metadata": {
        "id": "vxourK9L6L8_"
      },
      "execution_count": 4,
      "outputs": []
    },
    {
      "cell_type": "markdown",
      "source": [
        "Question.5)\n",
        "Create a function that takes a string as input and capitalizes a letter if its ASCII code is even\n",
        "and returns its lower case version if its ASCII code is odd."
      ],
      "metadata": {
        "id": "rLLdihiW6dLP"
      }
    },
    {
      "cell_type": "code",
      "source": [
        "def ascii_case(string):\n",
        "    result = ''\n",
        "    for char in string:\n",
        "        ascii_code = ord(char)\n",
        "        if ascii_code % 2 == 0:\n",
        "            result += char.upper()\n",
        "        else:\n",
        "            result += char.lower()\n",
        "    return result"
      ],
      "metadata": {
        "id": "LV7Pj5JZ6XlQ"
      },
      "execution_count": 5,
      "outputs": []
    },
    {
      "cell_type": "code",
      "source": [],
      "metadata": {
        "id": "SAvAmFBN6gwP"
      },
      "execution_count": null,
      "outputs": []
    }
  ]
}