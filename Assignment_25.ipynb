{
 "cells": [
  {
   "cell_type": "markdown",
   "id": "44542b2c",
   "metadata": {},
   "source": [
    "1)What is the difference between enclosing a list comprehension in square brackets and parentheses?"
   ]
  },
  {
   "cell_type": "markdown",
   "id": "cb564088",
   "metadata": {},
   "source": [
    "ANS--->Square brackets are lists while parentheses are tuples."
   ]
  },
  {
   "cell_type": "markdown",
   "id": "c005fe23",
   "metadata": {},
   "source": [
    "2) What is the relationship between generators and iterators?"
   ]
  },
  {
   "cell_type": "markdown",
   "id": "0095a31b",
   "metadata": {},
   "source": [
    "ANS---> iterators are objects that can be iterated on, and generators are special functions that leverage lazy evaluation."
   ]
  },
  {
   "cell_type": "markdown",
   "id": "bd35929b",
   "metadata": {},
   "source": [
    "3) What are the signs that a function is a generator function?"
   ]
  },
  {
   "cell_type": "markdown",
   "id": "d7d28d0b",
   "metadata": {},
   "source": [
    "ANS--->A generator function is a function with one or more yield statements in it. Unlike regular functions, generator\n",
    "functions return generator objects. Meaning, when you call a generator function, it doesn't run the function. Instead,\n",
    "it gives you back a generator object"
   ]
  },
  {
   "cell_type": "markdown",
   "id": "7a8d8e4c",
   "metadata": {},
   "source": [
    "4) What is the purpose of a yield statement?"
   ]
  },
  {
   "cell_type": "markdown",
   "id": "0b2c0a3a",
   "metadata": {},
   "source": [
    "ANS--->The yield statement returns a generator object to the one who calls the function which contains yield, instead of simply returning a values."
   ]
  },
  {
   "cell_type": "markdown",
   "id": "601af1b4",
   "metadata": {},
   "source": [
    "5) What is the relationship between map calls and list comprehensions? Make a comparison and contrast between the two?"
   ]
  },
  {
   "cell_type": "markdown",
   "id": "c9103aaa",
   "metadata": {},
   "source": [
    "ANS--->List comprehension returns a list, whereas the map function returns an object of Iterable."
   ]
  }
 ],
 "metadata": {
  "kernelspec": {
   "display_name": "Python 3 (ipykernel)",
   "language": "python",
   "name": "python3"
  },
  "language_info": {
   "codemirror_mode": {
    "name": "ipython",
    "version": 3
   },
   "file_extension": ".py",
   "mimetype": "text/x-python",
   "name": "python",
   "nbconvert_exporter": "python",
   "pygments_lexer": "ipython3",
   "version": "3.9.13"
  }
 },
 "nbformat": 4,
 "nbformat_minor": 5
}
