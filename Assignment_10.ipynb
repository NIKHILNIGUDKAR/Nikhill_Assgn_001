{
  "nbformat": 4,
  "nbformat_minor": 0,
  "metadata": {
    "colab": {
      "provenance": []
    },
    "kernelspec": {
      "name": "python3",
      "display_name": "Python 3"
    },
    "language_info": {
      "name": "python"
    }
  },
  "cells": [
    {
      "cell_type": "markdown",
      "source": [
        "Q1. What is the difference between __ getattr__ and __ getattribute__?"
      ],
      "metadata": {
        "id": "sOL_pnOn_Voo"
      }
    },
    {
      "cell_type": "markdown",
      "source": [
        "ANS--->The main difference between the two methods is that __ getattr__ is only called when an attribute is not found, while __ getattribute__ is called for every attribute access.\n",
        "In general, __ getattr__ is used to handle dynamic attributes, while __ getattribute__ is used for more low-level customization of attribute access."
      ],
      "metadata": {
        "id": "Y_1k2bFF_kXA"
      }
    },
    {
      "cell_type": "markdown",
      "source": [
        "Q2. What is the difference between properties and descriptors?"
      ],
      "metadata": {
        "id": "tRIoeNDu_0J2"
      }
    },
    {
      "cell_type": "markdown",
      "source": [
        "ANS--->Properties are a way of defining methods that are accessed like attributes. They allow for customizing the behavior of attribute access, by defining getter, setter, and deleter methods that are called when the attribute is accessed, assigned to, or deleted. Properties are defined using the @property, @<property_name>.setter, and @<property_name>.deleter decorators.\n",
        "\n",
        "Descriptors, on the other hand, are a more general mechanism for customizing attribute access. A descriptor is an object that defines one or more of the __get__, __set__, and __delete__ methods, which are called when the descriptor is accessed, assigned to, or deleted. Descriptors are usually defined as classes, and can be used to customize attribute access for multiple attributes across multiple classes. Descriptors can also be used to define non-data attributes, such as methods that are accessed like attributes.\n",
        "\n",
        "The main difference between properties and descriptors is that properties are simpler to use and define, but are limited to customizing a single attribute. Descriptors are more powerful and flexible, but also more complex to use and define.\n",
        "\n",
        "In summary, properties are a way of defining customized attribute access for a single attribute, while descriptors are a more general mechanism for customizing attribute access for multiple attributes across multiple classes."
      ],
      "metadata": {
        "id": "m86dMZ6b_1b2"
      }
    },
    {
      "cell_type": "markdown",
      "source": [
        "Q3. What are the key differences in functionality between __ getattr__ and __ getattribute__, as well as\n",
        "properties and descriptors?"
      ],
      "metadata": {
        "id": "eq5sNONWAReG"
      }
    },
    {
      "cell_type": "markdown",
      "source": [
        "ANS--->__getattr__ is only called when an attribute is not found in the usual places, such as the instance or its class. It can be used to provide default behavior for missing attributes.\n",
        "\n",
        "__getattribute__ is called for every attribute access, whether or not the attribute exists in the object. It can be used to intercept all attribute access and customize it.\n",
        "\n",
        "Properties and descriptors are also Python language features that allow for customizing attribute access, but they differ in functionality:\n",
        "\n",
        "Properties are a way of defining methods that are accessed like attributes. They allow for customizing the behavior of attribute access, by defining getter, setter, and deleter methods that are called when the attribute is accessed, assigned to, or deleted.\n",
        "\n",
        "Descriptors are a more general mechanism for customizing attribute access. A descriptor is an object that defines one or more of the __get__, __set__, and __delete__ methods, which are called when the descriptor is accessed, assigned to, or deleted. Descriptors can be used to customize attribute access for multiple attributes across multiple classes, and can be used to define non-data attributes, such as methods that are accessed like attributes.\n",
        "\n",
        "The key difference between properties and descriptors is that properties are simpler to use and define, but are limited to customizing a single attribute. Descriptors are more powerful and flexible, but also more complex to use and define."
      ],
      "metadata": {
        "id": "5FcbAqT6AVaX"
      }
    }
  ]
}