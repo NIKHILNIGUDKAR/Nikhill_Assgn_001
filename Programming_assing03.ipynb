{
  "nbformat": 4,
  "nbformat_minor": 0,
  "metadata": {
    "colab": {
      "provenance": []
    },
    "kernelspec": {
      "name": "python3",
      "display_name": "Python 3"
    },
    "language_info": {
      "name": "python"
    }
  },
  "cells": [
    {
      "cell_type": "markdown",
      "source": [
        "1. Write a Python Program to Check if a Number is Positive, Negative or Zero?\n"
      ],
      "metadata": {
        "id": "1wf2GW63aOSb"
      }
    },
    {
      "cell_type": "code",
      "source": [
        "x = int(input(\"Enter the number: \"))\n",
        "if x ==0 :\n",
        "   print(\"The number entered by the user is zero\")\n",
        "if x>0:\n",
        "    print(\"The number entered by the user is positive\")\n",
        "elif x<0:\n",
        "    print(\"The number entered by the user is negative\")"
      ],
      "metadata": {
        "colab": {
          "base_uri": "https://localhost:8080/"
        },
        "id": "PKK_WwYOaaWQ",
        "outputId": "71e2b43b-d416-4e96-e623-0716bb1951bb"
      },
      "execution_count": 6,
      "outputs": [
        {
          "output_type": "stream",
          "name": "stdout",
          "text": [
            "Enter the number: -25\n",
            "The number entered by the user is negative\n"
          ]
        }
      ]
    },
    {
      "cell_type": "markdown",
      "source": [
        "2. Write a Python Program to Check if a Number is Odd or Even?\n"
      ],
      "metadata": {
        "id": "FyUYcpf4aQ1a"
      }
    },
    {
      "cell_type": "code",
      "source": [
        "x =int(input(\"Enter the number: \"))\n",
        "if (x%2) ==0 :\n",
        "   print(\"The number entered by the user is even\")\n",
        "else:\n",
        "    print(\"The number entered by the user is odd\")"
      ],
      "metadata": {
        "colab": {
          "base_uri": "https://localhost:8080/"
        },
        "id": "LTLlXpjrX5Is",
        "outputId": "7a834021-1af3-43b1-9577-9d4e4ccc1b0e"
      },
      "execution_count": 14,
      "outputs": [
        {
          "output_type": "stream",
          "name": "stdout",
          "text": [
            "Enter the number: 20\n",
            "The number entered by the user is even\n"
          ]
        }
      ]
    },
    {
      "cell_type": "markdown",
      "source": [
        "3. Write a Python Program to Check Leap Year?\n"
      ],
      "metadata": {
        "id": "FsHf6CaTaTJI"
      }
    },
    {
      "cell_type": "code",
      "source": [
        "year= int(input(\"Enter the year: \"))\n",
        "if year % 4 ==0:\n",
        "   print(\"This year is a leap year\")\n",
        "else:\n",
        "    print(\"This year is not leap\")"
      ],
      "metadata": {
        "colab": {
          "base_uri": "https://localhost:8080/"
        },
        "id": "pKIPrN57Zxa6",
        "outputId": "6593bb0c-e924-4f17-fc95-ab1a3a78cf67"
      },
      "execution_count": 16,
      "outputs": [
        {
          "output_type": "stream",
          "name": "stdout",
          "text": [
            "Enter the year: 2000\n",
            "This year is a leap year\n"
          ]
        }
      ]
    },
    {
      "cell_type": "markdown",
      "source": [
        "4. Write a Python Program to Check Prime Number?\n"
      ],
      "metadata": {
        "id": "ZdJyRUWOaVFk"
      }
    },
    {
      "cell_type": "code",
      "source": [
        "num =int(input(\"Enter the number: \"))\n",
        "if num > 1:\n",
        "    for i in range (2,int(num/2)+1):\n",
        "        if num%i == 0:\n",
        "            print(\"Number is not prime\")\n",
        "            break\n",
        "    else:\n",
        "         print(\"number is prime\")\n",
        "else:\n",
        "    print(\"number is not prime\")"
      ],
      "metadata": {
        "colab": {
          "base_uri": "https://localhost:8080/"
        },
        "id": "W4sfyfbgafR-",
        "outputId": "36538f9b-f122-436a-8512-9d893968db0c"
      },
      "execution_count": 24,
      "outputs": [
        {
          "output_type": "stream",
          "name": "stdout",
          "text": [
            "Enter the number: 9\n",
            "Number is not prime\n"
          ]
        }
      ]
    },
    {
      "cell_type": "code",
      "source": [
        "from math import sqrt\n",
        "#n is the number which check whether number is prime or not\n",
        "\n",
        "n =13\n",
        "#This flag maintain whether number is prime or not\n",
        "prime_flag =0\n",
        "\n",
        "if n>1:\n",
        "    for i in range (2,int(sqrt(n)+1)):\n",
        "        if n%i ==0:\n",
        "            prime_flag =1\n",
        "            break\n",
        "    if prime_flag == 0:\n",
        "        print(\"True\")\n",
        "    else:\n",
        "        print(\"False\")\n",
        "else:\n",
        "    print(\"False\")"
      ],
      "metadata": {
        "colab": {
          "base_uri": "https://localhost:8080/"
        },
        "id": "3QxunY6edXoU",
        "outputId": "414a401f-937a-490d-d699-8f03b71a39dd"
      },
      "execution_count": 29,
      "outputs": [
        {
          "output_type": "stream",
          "name": "stdout",
          "text": [
            "True\n"
          ]
        }
      ]
    },
    {
      "cell_type": "markdown",
      "source": [
        "5. Write a Python Program to Print all Prime Numbers in an Interval of 1-10000?"
      ],
      "metadata": {
        "id": "t7B-yME7aW52"
      }
    },
    {
      "cell_type": "code",
      "source": [
        "lower= 1\n",
        "upper =1000\n",
        "print(\"Prime numbers between\", lower and upper ,\"are: \")\n",
        "for num in range(lower,upper+1):\n",
        "    if num >1:\n",
        "       for i in range (2,num):\n",
        "           if num%i == 0:\n",
        "               break\n",
        "       else :\n",
        "           print(num)       "
      ],
      "metadata": {
        "colab": {
          "base_uri": "https://localhost:8080/"
        },
        "id": "9SinFex_fLqh",
        "outputId": "d0a1505a-f479-4867-84fb-3ccfe8b21ef5"
      },
      "execution_count": 31,
      "outputs": [
        {
          "output_type": "stream",
          "name": "stdout",
          "text": [
            "Prime numbers between 1000 are: \n",
            "2\n",
            "3\n",
            "5\n",
            "7\n",
            "11\n",
            "13\n",
            "17\n",
            "19\n",
            "23\n",
            "29\n",
            "31\n",
            "37\n",
            "41\n",
            "43\n",
            "47\n",
            "53\n",
            "59\n",
            "61\n",
            "67\n",
            "71\n",
            "73\n",
            "79\n",
            "83\n",
            "89\n",
            "97\n",
            "101\n",
            "103\n",
            "107\n",
            "109\n",
            "113\n",
            "127\n",
            "131\n",
            "137\n",
            "139\n",
            "149\n",
            "151\n",
            "157\n",
            "163\n",
            "167\n",
            "173\n",
            "179\n",
            "181\n",
            "191\n",
            "193\n",
            "197\n",
            "199\n",
            "211\n",
            "223\n",
            "227\n",
            "229\n",
            "233\n",
            "239\n",
            "241\n",
            "251\n",
            "257\n",
            "263\n",
            "269\n",
            "271\n",
            "277\n",
            "281\n",
            "283\n",
            "293\n",
            "307\n",
            "311\n",
            "313\n",
            "317\n",
            "331\n",
            "337\n",
            "347\n",
            "349\n",
            "353\n",
            "359\n",
            "367\n",
            "373\n",
            "379\n",
            "383\n",
            "389\n",
            "397\n",
            "401\n",
            "409\n",
            "419\n",
            "421\n",
            "431\n",
            "433\n",
            "439\n",
            "443\n",
            "449\n",
            "457\n",
            "461\n",
            "463\n",
            "467\n",
            "479\n",
            "487\n",
            "491\n",
            "499\n",
            "503\n",
            "509\n",
            "521\n",
            "523\n",
            "541\n",
            "547\n",
            "557\n",
            "563\n",
            "569\n",
            "571\n",
            "577\n",
            "587\n",
            "593\n",
            "599\n",
            "601\n",
            "607\n",
            "613\n",
            "617\n",
            "619\n",
            "631\n",
            "641\n",
            "643\n",
            "647\n",
            "653\n",
            "659\n",
            "661\n",
            "673\n",
            "677\n",
            "683\n",
            "691\n",
            "701\n",
            "709\n",
            "719\n",
            "727\n",
            "733\n",
            "739\n",
            "743\n",
            "751\n",
            "757\n",
            "761\n",
            "769\n",
            "773\n",
            "787\n",
            "797\n",
            "809\n",
            "811\n",
            "821\n",
            "823\n",
            "827\n",
            "829\n",
            "839\n",
            "853\n",
            "857\n",
            "859\n",
            "863\n",
            "877\n",
            "881\n",
            "883\n",
            "887\n",
            "907\n",
            "911\n",
            "919\n",
            "929\n",
            "937\n",
            "941\n",
            "947\n",
            "953\n",
            "967\n",
            "971\n",
            "977\n",
            "983\n",
            "991\n",
            "997\n"
          ]
        }
      ]
    },
    {
      "cell_type": "code",
      "source": [],
      "metadata": {
        "id": "BRJzLcpne6FV"
      },
      "execution_count": null,
      "outputs": []
    },
    {
      "cell_type": "code",
      "execution_count": null,
      "metadata": {
        "id": "V_awiusWaJCj"
      },
      "outputs": [],
      "source": []
    }
  ]
}