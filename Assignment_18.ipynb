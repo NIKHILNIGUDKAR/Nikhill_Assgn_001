{
  "nbformat": 4,
  "nbformat_minor": 0,
  "metadata": {
    "colab": {
      "provenance": []
    },
    "kernelspec": {
      "name": "python3",
      "display_name": "Python 3"
    },
    "language_info": {
      "name": "python"
    }
  },
  "cells": [
    {
      "cell_type": "markdown",
      "source": [
        "1. Create a zoo.py file first. Define the hours() function, which prints the string 'Open 9-5 daily'.\n",
        "Then, use the interactive interpreter to import the zoo module and call its hours() function."
      ],
      "metadata": {
        "id": "kwpxKBji_1Lb"
      }
    },
    {
      "cell_type": "code",
      "source": [
        "def hours():\n",
        "    print(\"Open 9-5 daily\")\n",
        "import zoo\n",
        "zoo.hours()"
      ],
      "metadata": {
        "id": "aJ_qnbT4ACo5"
      },
      "execution_count": null,
      "outputs": []
    },
    {
      "cell_type": "markdown",
      "source": [
        "2. In the interactive interpreter, import the zoo module as menagerie and call its hours() function."
      ],
      "metadata": {
        "id": "SWFhFBoyAIBA"
      }
    },
    {
      "cell_type": "code",
      "source": [],
      "metadata": {
        "id": "-BcfqCgQAMnT"
      },
      "execution_count": null,
      "outputs": []
    },
    {
      "cell_type": "markdown",
      "source": [
        "5. Create a plain dictionary with the key-value pairs 'a': 1, 'b': 2, and : 3, and print it out."
      ],
      "metadata": {
        "id": "d1BhsSVvAU4y"
      }
    },
    {
      "cell_type": "code",
      "source": [
        "my_dict = {'a': 1, 'b': 2, 'c': 3}\n",
        "print(my_dict)"
      ],
      "metadata": {
        "colab": {
          "base_uri": "https://localhost:8080/"
        },
        "id": "ZTr_DAcAEdjj",
        "outputId": "890451ec-9881-44e8-b0e3-48668208b008"
      },
      "execution_count": 18,
      "outputs": [
        {
          "output_type": "stream",
          "name": "stdout",
          "text": [
            "{'a': 1, 'b': 2, 'c': 3}\n"
          ]
        }
      ]
    },
    {
      "cell_type": "markdown",
      "source": [
        "6.Make an OrderedDict called fancy from the same pairs listed in 5 and print it. Did it print in the\n",
        "same order as plain?"
      ],
      "metadata": {
        "id": "dJOZN3HYEmcq"
      }
    },
    {
      "cell_type": "code",
      "source": [
        "from collections import OrderedDict\n",
        "\n",
        "fancy = OrderedDict([('a', 1), ('b', 2), ('c', 3)])\n",
        "print(fancy)\n",
        "OrderedDict([('a', 1), ('b', 2), ('c', 3)])"
      ],
      "metadata": {
        "colab": {
          "base_uri": "https://localhost:8080/"
        },
        "id": "Gjta7Q09Eeh3",
        "outputId": "1298a4f6-7cd1-4a74-a7a5-76d33a6440e1"
      },
      "execution_count": 19,
      "outputs": [
        {
          "output_type": "stream",
          "name": "stdout",
          "text": [
            "OrderedDict([('a', 1), ('b', 2), ('c', 3)])\n"
          ]
        },
        {
          "output_type": "execute_result",
          "data": {
            "text/plain": [
              "OrderedDict([('a', 1), ('b', 2), ('c', 3)])"
            ]
          },
          "metadata": {},
          "execution_count": 19
        }
      ]
    },
    {
      "cell_type": "markdown",
      "source": [
        "7. Make a default dictionary called dict_of_lists and pass it the argument list. Make the list\n",
        "dict_of_lists['a'] and append the value &#39;something for '39' to it in one assignment. Print\n",
        "dict_of_lists['a']."
      ],
      "metadata": {
        "id": "QDoZYKR5EyGt"
      }
    },
    {
      "cell_type": "code",
      "source": [
        "from collections import defaultdict\n",
        "\n",
        "dict_of_lists = defaultdict(list)\n",
        "dict_of_lists['a'].append('something for a')\n",
        "\n",
        "print(dict_of_lists['a'])"
      ],
      "metadata": {
        "colab": {
          "base_uri": "https://localhost:8080/"
        },
        "id": "ZCwL-GMBEuUi",
        "outputId": "b1e8e8da-52e9-48ce-f724-ade80b756438"
      },
      "execution_count": 20,
      "outputs": [
        {
          "output_type": "stream",
          "name": "stdout",
          "text": [
            "['something for a']\n"
          ]
        }
      ]
    }
  ]
}