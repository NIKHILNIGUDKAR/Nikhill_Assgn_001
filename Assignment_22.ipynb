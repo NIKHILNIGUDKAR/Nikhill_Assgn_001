{
 "cells": [
  {
   "cell_type": "markdown",
   "id": "cc94de29",
   "metadata": {},
   "source": [
    "1. What is the result of the code, and explain?\n",
    "X = 'iNeuron'\n",
    "\n",
    "def func():\n",
    "\n",
    "print(X)\n",
    "\n",
    "func()"
   ]
  },
  {
   "cell_type": "code",
   "execution_count": 3,
   "id": "bc21bd87",
   "metadata": {},
   "outputs": [
    {
     "name": "stdout",
     "output_type": "stream",
     "text": [
      "INeuron\n"
     ]
    }
   ],
   "source": [
    "X=\"INeuron\"\n",
    "def func():\n",
    "    print(X)\n",
    "func()\n",
    "##In this code we firstly defined a variable X which is equal to string named \"INeuron\"\n",
    "##then we defined a function named func in that function we print the variable X which we defined \n",
    "## earlier as INeuron so it will print the output as INeuron"
   ]
  },
  {
   "cell_type": "markdown",
   "id": "d4344e6d",
   "metadata": {},
   "source": [
    "2. What is the result of the code, and explain?\n",
    "X = 'iNeuron'\n",
    "def func():\n",
    "    X = 'NI!'\n",
    "func()\n",
    "print(X)"
   ]
  },
  {
   "cell_type": "code",
   "execution_count": 6,
   "id": "f51f9a70",
   "metadata": {},
   "outputs": [
    {
     "name": "stdout",
     "output_type": "stream",
     "text": [
      "iNeuron\n"
     ]
    }
   ],
   "source": [
    "X = 'iNeuron'\n",
    "def func():\n",
    "    X = 'NI!'\n",
    "func()\n",
    "print(X)"
   ]
  },
  {
   "cell_type": "markdown",
   "id": "42a38c5d",
   "metadata": {},
   "source": [
    "In this code we defined global variable X as \"iNeuron\" then we have defined new function func() inside that function defined other variable which is also X. In this case when we try to get the output of the function func() is get terminated and other print \"iNeuron\". "
   ]
  },
  {
   "cell_type": "markdown",
   "id": "35b59d38",
   "metadata": {},
   "source": [
    "3. What does this code print, and why?\n",
    "\n",
    "X = 'iNeuron'\n",
    "def func():\n",
    "    X = 'NI'\n",
    "    print(X)\n",
    "\n",
    "func()\n",
    "print(X)"
   ]
  },
  {
   "cell_type": "code",
   "execution_count": 8,
   "id": "451aca10",
   "metadata": {},
   "outputs": [
    {
     "name": "stdout",
     "output_type": "stream",
     "text": [
      "NI\n",
      "iNeuron\n"
     ]
    }
   ],
   "source": [
    "X = 'iNeuron'\n",
    "def func():\n",
    "    X = 'NI'\n",
    "    print(X)\n",
    "\n",
    "func()\n",
    "print(X)"
   ]
  },
  {
   "cell_type": "markdown",
   "id": "caecbd0c",
   "metadata": {},
   "source": [
    "In above code this is same case as above code but there is a difference that print(X) is inside the\n",
    "function func() so it is printing the X which is inside func() and the func() which is outside the \n",
    "func so it gets terminated as above code."
   ]
  },
  {
   "cell_type": "markdown",
   "id": "3a9d0d38",
   "metadata": {},
   "source": [
    "4. What output does this code produce? Why?\n",
    "X = 'iNeuron'\n",
    "\n",
    "def func():\n",
    "\n",
    "    global X\n",
    "    \n",
    "X = 'NI'\n",
    "\n",
    "\n",
    "func()\n",
    "\n",
    "print(X)"
   ]
  },
  {
   "cell_type": "code",
   "execution_count": 10,
   "id": "efea7833",
   "metadata": {},
   "outputs": [
    {
     "name": "stdout",
     "output_type": "stream",
     "text": [
      "NI\n"
     ]
    }
   ],
   "source": [
    "X = 'iNeuron'\n",
    "def func():\n",
    "    global X\n",
    "X = 'NI'\n",
    "\n",
    "func()\n",
    "print(X)"
   ]
  },
  {
   "cell_type": "markdown",
   "id": "efe93fee",
   "metadata": {},
   "source": [
    "In this code function func() global X after that X is declared as \"NI\" which affected the variable X which was predefined . and we get the output as NI"
   ]
  },
  {
   "cell_type": "markdown",
   "id": "96d4643b",
   "metadata": {},
   "source": [
    "5. What about this code—what’s the output, and why?\n",
    "X =\"iNeuron\"\n",
    "\n",
    "def func():\n",
    "    \n",
    "X = 'NI'\n",
    "\n",
    "def nested():\n",
    "    \n",
    "print(X)\n",
    "\n",
    "nested()\n",
    "\n",
    "func()\n",
    "\n",
    "X"
   ]
  },
  {
   "cell_type": "code",
   "execution_count": 13,
   "id": "bceb0ebe",
   "metadata": {},
   "outputs": [
    {
     "name": "stdout",
     "output_type": "stream",
     "text": [
      "iNeuron\n"
     ]
    },
    {
     "data": {
      "text/plain": [
       "'iNeuron'"
      ]
     },
     "execution_count": 13,
     "metadata": {},
     "output_type": "execute_result"
    }
   ],
   "source": [
    "X =\"iNeuron\"\n",
    "def func():\n",
    "    X = 'NI'\n",
    "def nested():\n",
    "    print(X)\n",
    "nested()\n",
    "func()\n",
    "X"
   ]
  },
  {
   "cell_type": "markdown",
   "id": "77a34d57",
   "metadata": {},
   "source": [
    "In this code there are two function first is func and nested. In first function func we defined\n",
    "one variable X and its value is NI. In second function nested we passed X inside it.In this case\n",
    "nested function iterate through function func and then X as NI but there is termination because of the global \n",
    "variable X which we defined earlier as \"Ineuron\" we get outpu as iNeuron because of the last X"
   ]
  },
  {
   "cell_type": "markdown",
   "id": "3483c16d",
   "metadata": {},
   "source": [
    "6. How about this code: what is its output in Python 3, and explain?\n",
    "\n",
    "def func():\n",
    "    \n",
    "    X = 'NI'\n",
    "    \n",
    "def nested():\n",
    "    \n",
    "    nonlocal X\n",
    "    \n",
    "X = 'Spam'\n",
    "\n",
    "nested()\n",
    "\n",
    "print(X)\n",
    "\n",
    "func()"
   ]
  },
  {
   "cell_type": "code",
   "execution_count": 32,
   "id": "e061f08a",
   "metadata": {},
   "outputs": [
    {
     "ename": "SyntaxError",
     "evalue": "no binding for nonlocal 'X' found (2263015269.py, line 4)",
     "output_type": "error",
     "traceback": [
      "\u001b[1;36m  Cell \u001b[1;32mIn[32], line 4\u001b[1;36m\u001b[0m\n\u001b[1;33m    nonlocal X\u001b[0m\n\u001b[1;37m    ^\u001b[0m\n\u001b[1;31mSyntaxError\u001b[0m\u001b[1;31m:\u001b[0m no binding for nonlocal 'X' found\n"
     ]
    }
   ],
   "source": [
    "def func():\n",
    "    X = 'NI'\n",
    "def nested():\n",
    "    nonlocal X\n",
    "X = 'Spam'\n",
    "nested()\n",
    "print(X)\n",
    "func()"
   ]
  },
  {
   "cell_type": "markdown",
   "id": "5542f9ca",
   "metadata": {},
   "source": [
    "In the given code, there are two functions defined func and nested. Within the func function, a local variable X is defined and assigned the value 'NI'. However, this X variable is not used or returned by the func function, so it does not affect the behavior of the code.\n",
    "\n",
    "Within the nested function, the statement nonlocal X is used to declare that X refers to a variable in the nearest enclosing scope that is not global. However, there is no enclosing scope that defines X as a non-global variable, so this statement raises a SyntaxError at runtime.\n",
    "\n",
    "After defining these two functions, the variable X is assigned the value 'Spam'. Then the nested function is called, which raises an error due to the use of nonlocal X. Therefore, the final print(X) statement is never executed, and the code does not produce any output."
   ]
  }
 ],
 "metadata": {
  "kernelspec": {
   "display_name": "Python 3 (ipykernel)",
   "language": "python",
   "name": "python3"
  },
  "language_info": {
   "codemirror_mode": {
    "name": "ipython",
    "version": 3
   },
   "file_extension": ".py",
   "mimetype": "text/x-python",
   "name": "python",
   "nbconvert_exporter": "python",
   "pygments_lexer": "ipython3",
   "version": "3.10.9"
  }
 },
 "nbformat": 4,
 "nbformat_minor": 5
}
