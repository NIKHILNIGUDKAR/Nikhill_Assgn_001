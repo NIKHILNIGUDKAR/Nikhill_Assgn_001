{
 "cells": [
  {
   "cell_type": "markdown",
   "id": "b00e8a89",
   "metadata": {},
   "source": [
    "Question 1:\n",
    "\n",
    "Write a program that calculates and prints the value according to the given formula:\n",
    "\n",
    "Q = Square root of [(2 * C * D)/H]\n",
    "\n",
    "Following are the fixed values of C and H:\n",
    "\n",
    "C is 50. H is 30.\n",
    "\n",
    "D is the variable whose values should be input to your program in a comma-separated\n",
    "sequence.\n",
    "\n",
    "Example\n",
    "\n",
    "Let us assume the following comma separated input sequence is given to the program:\n",
    "\n",
    "100,150,180\n",
    "\n",
    "The output of the program should be:\n",
    "\n",
    "18,22,24"
   ]
  },
  {
   "cell_type": "code",
   "execution_count": 5,
   "id": "2429ae3f",
   "metadata": {},
   "outputs": [
    {
     "name": "stdout",
     "output_type": "stream",
     "text": [
      "Enter comma-separated sequence of D values: 100,150,180\n",
      "18,22,24,"
     ]
    }
   ],
   "source": [
    "import math\n",
    "\n",
    "C = 50\n",
    "H = 30\n",
    "\n",
    "input_sequence = input(\"Enter comma-separated sequence of D values: \")\n",
    "\n",
    "d_values = [int(d) for d in input_sequence.split(\",\")]\n",
    "\n",
    "for d in d_values:\n",
    "    q = round(math.sqrt((2 * C * d) / H))\n",
    "    print(q, end=\",\")\n"
   ]
  },
  {
   "cell_type": "markdown",
   "id": "fd5b3bf6",
   "metadata": {},
   "source": [
    "Question 2:\n",
    "Write a program which takes 2 digits, X,Y as input and generates a 2-dimensional array. The\n",
    "element value in the i-th row and j-th column of the array should be i*j.\n",
    "\n",
    "Note: i=0,1.., X-1; j=0,1,¡Y-1.\n",
    "    \n",
    "Example\n",
    "\n",
    "Suppose the following inputs are given to the program:\n",
    "3,5\n",
    "Then, the output of the program should be:\n",
    "[[0, 0, 0, 0, 0], [0, 1, 2, 3, 4], [0, 2, 4, 6, 8]]"
   ]
  },
  {
   "cell_type": "code",
   "execution_count": 6,
   "id": "14c2e670",
   "metadata": {},
   "outputs": [
    {
     "name": "stdout",
     "output_type": "stream",
     "text": [
      "Enter two digits X and Y: 3,5\n",
      "[[0, 0, 0, 0, 0], [0, 1, 2, 3, 4], [0, 2, 4, 6, 8]]\n"
     ]
    }
   ],
   "source": [
    "X, Y = map(int, input(\"Enter two digits X and Y: \").split(\",\"))\n",
    "\n",
    "array_2d = [[0 for j in range(Y)] for i in range(X)]\n",
    "\n",
    "for i in range(X):\n",
    "    for j in range(Y):\n",
    "        array_2d[i][j] = i * j\n",
    "\n",
    "print(array_2d)\n"
   ]
  },
  {
   "cell_type": "markdown",
   "id": "394a5f2a",
   "metadata": {},
   "source": [
    "Question 3:\n",
    "    \n",
    "Write a program that accepts a comma separated sequence of words as input and prints the\n",
    "words in a comma-separated sequence after sorting them alphabetically.\n",
    "\n",
    "Suppose the following input is supplied to the program:\n",
    "\n",
    "without,hello,bag,world\n",
    "\n",
    "Then, the output should be:\n",
    "\n",
    "bag,hello,without,world"
   ]
  },
  {
   "cell_type": "code",
   "execution_count": 9,
   "id": "3d7f93b5",
   "metadata": {},
   "outputs": [
    {
     "name": "stdout",
     "output_type": "stream",
     "text": [
      "Enter comma-separated sequence of words: without,hello,bag,world\n",
      "bag,hello,without,world\n"
     ]
    }
   ],
   "source": [
    "input_sequence = input(\"Enter comma-separated sequence of words: \")\n",
    "\n",
    "words = input_sequence.split(\",\")\n",
    "\n",
    "sorted_words = sorted(words)\n",
    "\n",
    "print(\",\".join(sorted_words))\n"
   ]
  },
  {
   "cell_type": "markdown",
   "id": "b42dd406",
   "metadata": {},
   "source": [
    "Question 4:\n",
    "    \n",
    "Write a program that accepts a sequence of whitespace separated words as input and prints\n",
    "\n",
    "the words after removing all duplicate words and sorting them alphanumerically.\n",
    "\n",
    "Suppose the following input is supplied to the program:\n",
    "\n",
    "hello world and practice makes perfect and hello world again\n",
    "\n",
    "Then, the output should be:\n",
    "\n",
    "again and hello makes perfect practice world"
   ]
  },
  {
   "cell_type": "code",
   "execution_count": 10,
   "id": "cb7929c3",
   "metadata": {},
   "outputs": [
    {
     "name": "stdout",
     "output_type": "stream",
     "text": [
      "Enter sequence of whitespace-separated words: hello world and practice makes perfect and hello world again\n",
      "again and hello makes perfect practice world\n"
     ]
    }
   ],
   "source": [
    "# Take input sequence of whitespace-separated words from the user\n",
    "input_sequence = input(\"Enter sequence of whitespace-separated words: \")\n",
    "\n",
    "# Split the input sequence into a list of words\n",
    "words = input_sequence.split()\n",
    "\n",
    "# Remove duplicates from the list of words\n",
    "unique_words = list(set(words))\n",
    "\n",
    "# Sort the list of unique words in alphabetical order\n",
    "sorted_words = sorted(unique_words)\n",
    "\n",
    "# Print the sorted list of unique words as a whitespace-separated sequence\n",
    "print(\" \".join(sorted_words))\n"
   ]
  },
  {
   "cell_type": "markdown",
   "id": "a67aa432",
   "metadata": {},
   "source": [
    "Question 5:\n",
    "    \n",
    "Write a program that accepts a sentence and calculate the number of letters and digits.\n",
    "\n",
    "Suppose the following input is supplied to the program:\n",
    "    \n",
    "hello world! 123\n",
    "\n",
    "Then, the output should be:\n",
    "    \n",
    "LETTERS 10"
   ]
  },
  {
   "cell_type": "code",
   "execution_count": 13,
   "id": "02cabd48",
   "metadata": {},
   "outputs": [
    {
     "name": "stdout",
     "output_type": "stream",
     "text": [
      "Enter a sentence: hello world! 123\n",
      "LETTERS 10\n",
      "Digits 3\n"
     ]
    }
   ],
   "source": [
    "input_sentence = input(\"Enter a sentence: \")\n",
    "\n",
    "letter_count = 0\n",
    "digit_count = 0\n",
    "\n",
    "for char in input_sentence:\n",
    "    if char.isalpha():\n",
    "        letter_count += 1\n",
    "    elif char.isdigit():\n",
    "        digit_count += 1\n",
    "\n",
    "print(\"LETTERS\", letter_count)\n",
    "print(\"Digits\",digit_count)"
   ]
  },
  {
   "cell_type": "markdown",
   "id": "4ee32c80",
   "metadata": {},
   "source": [
    "A website requires the users to input username and password to register. Write a program to\n",
    "\n",
    "check the validity of password input by users.\n",
    "\n",
    "Following are the criteria for checking the password:\n",
    "\n",
    "1. At least 1 letter between [a-z]\n",
    "\n",
    "2. At least 1 number between [0-9]\n",
    "\n",
    "1. At least 1 letter between [A-Z]\n",
    "\n",
    "3. At least 1 character from [$#@]\n",
    "\n",
    "4. Minimum length of transaction password: 6\n",
    "\n",
    "5. Maximum length of transaction password: 12\n",
    "\n",
    "Your program should accept a sequence of comma separated passwords and will check them\n",
    "\n",
    "according to the above criteria. Passwords that match the criteria are to be printed, each\n",
    "\n",
    "separated by a comma.\n",
    "\n",
    "Example\n",
    "\n",
    "If the following passwords are given as input to the program:\n",
    "\n",
    "ABd1234@1,a F1#,2w3E*,2We3345\n",
    "\n",
    "Then, the output of the program should be:\n",
    "\n",
    "ABd1234@1"
   ]
  },
  {
   "cell_type": "code",
   "execution_count": 14,
   "id": "456b311f",
   "metadata": {},
   "outputs": [
    {
     "name": "stdout",
     "output_type": "stream",
     "text": [
      "Enter comma-separated passwords: ABd1234@1,a F1#,2w3E*,2We3345\n",
      "ABd1234@1\n"
     ]
    }
   ],
   "source": [
    "import re\n",
    "\n",
    "input_passwords = input(\"Enter comma-separated passwords: \")\n",
    "\n",
    "passwords = input_passwords.split(',')\n",
    "\n",
    "regex = r\"^(?=.*[a-z])(?=.*[A-Z])(?=.*\\d)(?=.*[$#@])[A-Za-z\\d$#@]{6,12}$\"\n",
    "\n",
    "for password in passwords:\n",
    "    if re.match(regex, password):\n",
    "        print(password)\n"
   ]
  }
 ],
 "metadata": {
  "kernelspec": {
   "display_name": "Python 3 (ipykernel)",
   "language": "python",
   "name": "python3"
  },
  "language_info": {
   "codemirror_mode": {
    "name": "ipython",
    "version": 3
   },
   "file_extension": ".py",
   "mimetype": "text/x-python",
   "name": "python",
   "nbconvert_exporter": "python",
   "pygments_lexer": "ipython3",
   "version": "3.9.13"
  }
 },
 "nbformat": 4,
 "nbformat_minor": 5
}
