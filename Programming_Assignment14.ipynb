{
 "cells": [
  {
   "cell_type": "markdown",
   "id": "1227b12e",
   "metadata": {},
   "source": [
    "Question 1:\n",
    "\n",
    "Define a class with a generator which can iterate the numbers, which are divisible by\n",
    "\n",
    "7, between a given range 0 and n."
   ]
  },
  {
   "cell_type": "code",
   "execution_count": 15,
   "id": "392c61d9",
   "metadata": {},
   "outputs": [],
   "source": [
    "class DivisibleBySeven:\n",
    "    def __init__(self, n):\n",
    "        self.n = n\n",
    "\n",
    "    def numbers(self):\n",
    "        for i in range(self.n):\n",
    "            if i % 7 == 0:\n",
    "                yield i\n"
   ]
  },
  {
   "cell_type": "markdown",
   "id": "143be3e3",
   "metadata": {},
   "source": [
    "Question 2:\n",
    "    \n",
    "Write a program to compute the frequency of the words from the input. The output\n",
    "\n",
    "should output after sorting the key alphanumerically.\n",
    "\n",
    "Suppose the following input is supplied to the program:\n",
    "    \n",
    "New to Python or choosing between Python 2 and Python 3? Read Python 2 or\n",
    "\n",
    "Python 3.\n",
    "\n",
    "Then, the output should be:\n",
    "    \n",
    "2:2\n",
    "    \n",
    "3.:1\n",
    "    \n",
    "3?:1\n",
    "    \n",
    "New:1\n",
    "    \n",
    "Python:5\n",
    "    \n",
    "Read:1\n",
    "    \n",
    "and:1\n",
    "    \n",
    "between:1\n",
    "    \n",
    "choosing:1\n",
    "    \n",
    "or:2\n",
    "    \n",
    "to:1"
   ]
  },
  {
   "cell_type": "code",
   "execution_count": null,
   "id": "af6f39be",
   "metadata": {},
   "outputs": [],
   "source": [
    "sentence = input(\"Enter a sentence: \")\n",
    "\n",
    "# Split the sentence into words\n",
    "words = sentence.split()\n",
    "\n",
    "# Create an empty dictionary to store word frequencies\n",
    "word_freq = {}\n",
    "\n",
    "# Count the frequency of each word\n",
    "for word in words:\n",
    "    if word in word_freq:\n",
    "        word_freq[word] += 1\n",
    "    else:\n",
    "        word_freq[word] = 1\n",
    "\n",
    "# Sort the keys of the dictionary in ascending order\n",
    "sorted_words = sorted(word_freq.keys())\n",
    "\n",
    "# Print out the key-value pairs in the desired format\n",
    "for word in sorted_words:\n",
    "    print(f\"{word}:{word_freq[word]}\")"
   ]
  },
  {
   "cell_type": "markdown",
   "id": "e5d232de",
   "metadata": {},
   "source": [
    "Question3:\n",
    "\n",
    "Define a class Person and its two child classes: Male and Female. All classes have a\n",
    "\n",
    "method &quot;getGender&quot; which can print &quot;Male&quot; for Male class and &quot;Female&quot; \n",
    "\n",
    "for Female\n",
    "\n",
    "class."
   ]
  },
  {
   "cell_type": "code",
   "execution_count": 17,
   "id": "600f6f1d",
   "metadata": {},
   "outputs": [],
   "source": [
    "class person:\n",
    "    def get_gender(self):\n",
    "        pass\n",
    "    def male(person):\n",
    "        def get_gender(self):\n",
    "            print(\"male\")\n",
    "    def female(person):\n",
    "        def get_gender(self):\n",
    "            print(\"female\")"
   ]
  },
  {
   "cell_type": "markdown",
   "id": "cbc6cfe2",
   "metadata": {},
   "source": [
    "Question 4:\n",
    "Please write a program to generate all sentences where subject is in [\"I\", \"You\"] and\n",
    "verb is in [\"Play\", \"Love\"] and the object is in [\"Hockey\",\"Football\"]."
   ]
  },
  {
   "cell_type": "code",
   "execution_count": 18,
   "id": "c15462b2",
   "metadata": {},
   "outputs": [
    {
     "name": "stdout",
     "output_type": "stream",
     "text": [
      "['I Play Hockey', 'I Play Football', 'I Love Hockey', 'I Love Football', 'You Play Hockey', 'You Play Football', 'You Love Hockey', 'You Love Football']\n"
     ]
    }
   ],
   "source": [
    "subjects = [\"I\", \"You\"]\n",
    "verbs = [\"Play\", \"Love\"]\n",
    "objects = [\"Hockey\", \"Football\"]\n",
    "\n",
    "sentences = []\n",
    "\n",
    "for subject in subjects:\n",
    "    for verb in verbs:\n",
    "        for obj in objects:\n",
    "            sentence = f\"{subject} {verb} {obj}\"\n",
    "            sentences.append(sentence)\n",
    "\n",
    "print(sentences)\n"
   ]
  },
  {
   "cell_type": "markdown",
   "id": "b02b7388",
   "metadata": {},
   "source": [
    "Question 5:\n",
    "Please write a program to compress and decompress the string \"hello world!hello\n",
    "world!hello world!hello world\"."
   ]
  },
  {
   "cell_type": "code",
   "execution_count": null,
   "id": "87a54438",
   "metadata": {},
   "outputs": [],
   "source": [
    "import gzip\n",
    "\n",
    "string = \"hello world!hello world!hello world!hello world!\"\n",
    "encoded = string.encode('utf-8') # convert string to bytes\n",
    "\n",
    "compressed = gzip.compress(encoded) # compress the bytes\n",
    "\n",
    "print(compressed)\n",
    "\n",
    "compressed = b'\\x1f\\x8b\\x08\\x00\\xc8\\x1d\\xeeF\\x02\\xffhello world!hello world!hello world!hello world!\\x00\\xf3Z\\xd4\\x0b\\x00\\x00\\x00'\n",
    "\n",
    "decompressed = gzip.decompress(compressed) # decompress the bytes\n",
    "\n",
    "string = decompressed.decode('utf-8') # convert bytes to string\n",
    "\n",
    "print(string)\n"
   ]
  },
  {
   "cell_type": "markdown",
   "id": "bf76d152",
   "metadata": {},
   "source": [
    "Question 6:\n",
    "    \n",
    "Please write a binary search function which searches an item in a sorted list. The\n",
    "\n",
    "function should return the index of element to be searched in the list."
   ]
  },
  {
   "cell_type": "code",
   "execution_count": 22,
   "id": "8e717085",
   "metadata": {},
   "outputs": [],
   "source": [
    "def binary_search(arr, x):\n",
    "    left, right = 0, len(arr) - 1\n",
    "    \n",
    "    while left <= right:\n",
    "        mid = (left + right) // 2\n",
    "        \n",
    "        if arr[mid] == x:\n",
    "            return mid\n",
    "        elif arr[mid] < x:\n",
    "            left = mid + 1\n",
    "        else:\n",
    "            right = mid - 1\n",
    "    \n",
    "    return -1\n"
   ]
  }
 ],
 "metadata": {
  "kernelspec": {
   "display_name": "Python 3 (ipykernel)",
   "language": "python",
   "name": "python3"
  },
  "language_info": {
   "codemirror_mode": {
    "name": "ipython",
    "version": 3
   },
   "file_extension": ".py",
   "mimetype": "text/x-python",
   "name": "python",
   "nbconvert_exporter": "python",
   "pygments_lexer": "ipython3",
   "version": "3.9.13"
  }
 },
 "nbformat": 4,
 "nbformat_minor": 5
}
