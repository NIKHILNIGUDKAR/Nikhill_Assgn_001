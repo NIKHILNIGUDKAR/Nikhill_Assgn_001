{
  "nbformat": 4,
  "nbformat_minor": 0,
  "metadata": {
    "colab": {
      "provenance": []
    },
    "kernelspec": {
      "name": "python3",
      "display_name": "Python 3"
    },
    "language_info": {
      "name": "python"
    }
  },
  "cells": [
    {
      "cell_type": "markdown",
      "source": [
        "#Q.1) Find out all the types of errors that we have encountered inour lectures and why?"
      ],
      "metadata": {
        "id": "WcyaThhsT8N6"
      }
    },
    {
      "cell_type": "markdown",
      "source": [
        "##ANS: 1) In variables we get different values for the variable ten , Ten and TEN because Python is a case sensitive language so it will store different values for same variables but in different case"
      ],
      "metadata": {
        "id": "QYaWHxx3UBK7"
      }
    },
    {
      "cell_type": "markdown",
      "source": [
        "##2)In reserved keywords in python we get one error while doing a program is that\n",
        " **print = \"HI There\"\n",
        "   print(print)**\n",
        "because we cannot use reserved keywords as an variables .\n"
      ],
      "metadata": {
        "id": "-9U50psnUmop"
      }
    },
    {
      "cell_type": "markdown",
      "source": [
        "##3) We cannot store 50.0 value as an integer because it is float data type not an integer if while doing it  get an error"
      ],
      "metadata": {
        "id": "l5aZlP7eVnG0"
      }
    },
    {
      "cell_type": "markdown",
      "source": [
        "#Q.2)Take input A and B and print their sum, multiplication , division , squares of the numbers"
      ],
      "metadata": {
        "id": "EiVPoch2WKlC"
      }
    },
    {
      "cell_type": "code",
      "source": [
        " X = 1729\n",
        " Y = 9"
      ],
      "metadata": {
        "id": "jbDAIddCWgqy"
      },
      "execution_count": 2,
      "outputs": []
    },
    {
      "cell_type": "code",
      "source": [
        "print(X+Y)"
      ],
      "metadata": {
        "colab": {
          "base_uri": "https://localhost:8080/"
        },
        "id": "qSGLQLElWpqJ",
        "outputId": "28f40f8a-2be6-4fd8-996c-169768aa7b98"
      },
      "execution_count": 3,
      "outputs": [
        {
          "output_type": "stream",
          "name": "stdout",
          "text": [
            "1738\n"
          ]
        }
      ]
    },
    {
      "cell_type": "code",
      "source": [
        "print(X-Y)"
      ],
      "metadata": {
        "colab": {
          "base_uri": "https://localhost:8080/"
        },
        "id": "mn8-8npRWu3G",
        "outputId": "a04bd2f8-0bb2-4abd-ecfe-f504fe9c21b5"
      },
      "execution_count": 4,
      "outputs": [
        {
          "output_type": "stream",
          "name": "stdout",
          "text": [
            "1720\n"
          ]
        }
      ]
    },
    {
      "cell_type": "code",
      "source": [
        "print(X*Y)"
      ],
      "metadata": {
        "colab": {
          "base_uri": "https://localhost:8080/"
        },
        "id": "M_e0tlkNWys5",
        "outputId": "e073fa10-c402-41d3-ecc6-25e55856f2c7"
      },
      "execution_count": 6,
      "outputs": [
        {
          "output_type": "stream",
          "name": "stdout",
          "text": [
            "15561\n"
          ]
        }
      ]
    },
    {
      "cell_type": "code",
      "source": [
        "print(X/Y)"
      ],
      "metadata": {
        "colab": {
          "base_uri": "https://localhost:8080/"
        },
        "id": "Q5UvT5D5W4Y_",
        "outputId": "e55cc97c-293d-4e16-fac8-4d45ac29071a"
      },
      "execution_count": 8,
      "outputs": [
        {
          "output_type": "stream",
          "name": "stdout",
          "text": [
            "192.11111111111111\n"
          ]
        }
      ]
    },
    {
      "cell_type": "code",
      "source": [
        "print(X**2)"
      ],
      "metadata": {
        "colab": {
          "base_uri": "https://localhost:8080/"
        },
        "id": "_0PQ1i-AW9aE",
        "outputId": "113e34bf-484f-43a5-b21f-f04ecc61a994"
      },
      "execution_count": 9,
      "outputs": [
        {
          "output_type": "stream",
          "name": "stdout",
          "text": [
            "2989441\n"
          ]
        }
      ]
    },
    {
      "cell_type": "code",
      "source": [
        "print(Y**2)"
      ],
      "metadata": {
        "colab": {
          "base_uri": "https://localhost:8080/"
        },
        "id": "YdaD9plvXC5D",
        "outputId": "039e61a9-277c-4e62-a32e-a9a68f3fc761"
      },
      "execution_count": 10,
      "outputs": [
        {
          "output_type": "stream",
          "name": "stdout",
          "text": [
            "81\n"
          ]
        }
      ]
    },
    {
      "cell_type": "markdown",
      "source": [
        "#Q.3)3. How many reserved keywords are there in python and why should not use them as varaible name?"
      ],
      "metadata": {
        "id": "NnXsQRq6XMhS"
      }
    },
    {
      "cell_type": "markdown",
      "source": [
        "##Ans: Keywords in Python-\n",
        "1.False 2.await 3.else 4.import\t5.pass 6.None 7.break 8.except 9.in\n",
        "10.raise 11.True 12.class 13.finally 14.is 15.return 16.and\t17.continue\t18.for\t19.lambda\t20.try 21.as\t22.def\t23.from\t24.nonlocal\t25.while\n",
        "26.assert\t28.del\t29.global\t30.not\t31.with\n",
        "32.async\t33.elif\t34.if\t35.or\t36.yield\n",
        "\n",
        "We cannot use keywords as variables in python because keywords are predefined in python.In python they have special meaning in compiler\n",
        "also keywords are used to define the syntax so"
      ],
      "metadata": {
        "id": "SUu0xYGWXSyG"
      }
    },
    {
      "cell_type": "markdown",
      "source": [
        "#4. Create email ids with your user inputs. In the following format -->\n",
        "  lastname.firstname@gamilcom"
      ],
      "metadata": {
        "id": "Ef-yNNADZrlj"
      }
    },
    {
      "cell_type": "code",
      "source": [
        "lastname =\"Nigudkar\"\n",
        "firstname = \"Nikhil\""
      ],
      "metadata": {
        "id": "ANErdUWkZ1YZ"
      },
      "execution_count": 11,
      "outputs": []
    },
    {
      "cell_type": "code",
      "source": [
        "print(f\"{lastname}.{firstname}@gamil.com\")"
      ],
      "metadata": {
        "colab": {
          "base_uri": "https://localhost:8080/"
        },
        "id": "qhyA2at0Z_EP",
        "outputId": "9dd81908-b93a-4dfb-887e-2539910aadbc"
      },
      "execution_count": 14,
      "outputs": [
        {
          "output_type": "stream",
          "name": "stdout",
          "text": [
            "Nigudkar.Nikhil@gamil.com\n"
          ]
        }
      ]
    },
    {
      "cell_type": "markdown",
      "source": [
        "#Q,5)5. try to print the follwing lines \n",
        "  - Hi I'm Sunny\n",
        "  - MY ADDRESS is 22\\3\n",
        "  - I earn 20$ daily."
      ],
      "metadata": {
        "id": "3FkuREtDajnk"
      }
    },
    {
      "cell_type": "code",
      "source": [
        "Name = \"Sunny\"\n",
        "Address = \" 22\\\\3\"\n",
        "daily_income = \"I earn 20$ daily\""
      ],
      "metadata": {
        "id": "rXIJfnAtoxML"
      },
      "execution_count": 8,
      "outputs": []
    },
    {
      "cell_type": "code",
      "source": [
        "print(f\"\"\"Hi I'm {Name}\n",
        "My address is{Address}\n",
        "{daily_income}\"\"\")"
      ],
      "metadata": {
        "colab": {
          "base_uri": "https://localhost:8080/"
        },
        "id": "LDhCcYl3pG8Z",
        "outputId": "56a3e26b-921e-4aa0-d5ce-37b300c3e0be"
      },
      "execution_count": 10,
      "outputs": [
        {
          "output_type": "stream",
          "name": "stdout",
          "text": [
            "Hi I'm Sunny\n",
            "My address is 22\\3\n",
            "I earn 20$ daily\n"
          ]
        }
      ]
    },
    {
      "cell_type": "markdown",
      "source": [
        "##Q.6). Take user input to fill a form for your college and create their email ID's \n",
        "   (name, address, Date of birth, etc) and print their email address"
      ],
      "metadata": {
        "id": "hkbAGI2fqbGF"
      }
    },
    {
      "cell_type": "code",
      "source": [
        "Name = input(\"Name : \")\n",
        "Address = input(\"Address: \")\n",
        "Date_of_Birth = input(\"Date_of_Birth\")"
      ],
      "metadata": {
        "colab": {
          "base_uri": "https://localhost:8080/"
        },
        "id": "1z5D1RBpqiFM",
        "outputId": "904cbb8f-2aa6-4613-8782-a707e53c51ef"
      },
      "execution_count": 14,
      "outputs": [
        {
          "name": "stdout",
          "output_type": "stream",
          "text": [
            "Name : Nikhil\n",
            "Address: At post- jeur tal- karamala dist-solapur\n",
            "Date_of_Birth20_Apr_2000\n"
          ]
        }
      ]
    },
    {
      "cell_type": "code",
      "source": [
        "print(f\"{Name}.{Date_of_Birth}.gmail.com\")"
      ],
      "metadata": {
        "colab": {
          "base_uri": "https://localhost:8080/"
        },
        "id": "2z_CbPA7rVUV",
        "outputId": "7c1586c1-cb38-496b-f164-5d230f616c54"
      },
      "execution_count": 15,
      "outputs": [
        {
          "output_type": "stream",
          "name": "stdout",
          "text": [
            "Nikhil.20_Apr_2000.gmail.com\n"
          ]
        }
      ]
    },
    {
      "cell_type": "markdown",
      "source": [
        "##Q.7) Convert the following \n",
        "  - \"22.4\" into integer\n",
        "  - \"22\" into Complex No"
      ],
      "metadata": {
        "id": "xf2L6HQSr9cv"
      }
    },
    {
      "cell_type": "code",
      "source": [
        "A = \"22.4\"\n",
        "print(f\"Data Type  before :{type(A)}\")\n",
        "A = float (A)\n",
        "print(f\"Data Type  after :{type(A)}\")"
      ],
      "metadata": {
        "colab": {
          "base_uri": "https://localhost:8080/"
        },
        "id": "_EyLK3GnsDRG",
        "outputId": "34170918-a464-48cb-9b4d-0671cf91964a"
      },
      "execution_count": 23,
      "outputs": [
        {
          "output_type": "stream",
          "name": "stdout",
          "text": [
            "Data Type  before :<class 'str'>\n",
            "Data Type  after :<class 'float'>\n"
          ]
        }
      ]
    },
    {
      "cell_type": "code",
      "source": [
        "A = int(A)\n",
        "print(A)"
      ],
      "metadata": {
        "colab": {
          "base_uri": "https://localhost:8080/"
        },
        "id": "7Ek5F43AsKz9",
        "outputId": "78256040-0506-488d-e039-ee60f9b67317"
      },
      "execution_count": 25,
      "outputs": [
        {
          "output_type": "stream",
          "name": "stdout",
          "text": [
            "22\n"
          ]
        }
      ]
    },
    {
      "cell_type": "code",
      "source": [
        "B = 22\n",
        "print(f\"Data Type  before :{type(B)}\")\n",
        "B = complex (B)\n",
        "print(f\"Data Type  after :{type(B)}\")"
      ],
      "metadata": {
        "colab": {
          "base_uri": "https://localhost:8080/"
        },
        "id": "Mhwr-YoNuV0y",
        "outputId": "b2afb8a5-9e2b-44b7-f667-f3ce4436bcd7"
      },
      "execution_count": 27,
      "outputs": [
        {
          "output_type": "stream",
          "name": "stdout",
          "text": [
            "Data Type  before :<class 'int'>\n",
            "Data Type  after :<class 'complex'>\n"
          ]
        }
      ]
    },
    {
      "cell_type": "code",
      "source": [
        "B = complex(B)"
      ],
      "metadata": {
        "id": "LsLg5IGFuscn"
      },
      "execution_count": 28,
      "outputs": []
    },
    {
      "cell_type": "code",
      "source": [
        "print(B)"
      ],
      "metadata": {
        "colab": {
          "base_uri": "https://localhost:8080/"
        },
        "id": "WQiILVKIuvr2",
        "outputId": "6ba5f8e9-a020-4f13-c8a6-c46bbdb0931f"
      },
      "execution_count": 29,
      "outputs": [
        {
          "output_type": "stream",
          "name": "stdout",
          "text": [
            "(22+0j)\n"
          ]
        }
      ]
    },
    {
      "cell_type": "markdown",
      "source": [],
      "metadata": {
        "id": "7S2LBNdrTwxh"
      }
    }
  ]
}