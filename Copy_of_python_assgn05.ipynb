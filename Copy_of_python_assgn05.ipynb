{
  "nbformat": 4,
  "nbformat_minor": 0,
  "metadata": {
    "colab": {
      "provenance": []
    },
    "kernelspec": {
      "name": "python3",
      "display_name": "Python 3"
    },
    "language_info": {
      "name": "python"
    }
  },
  "cells": [
    {
      "cell_type": "markdown",
      "source": [
        "1. What does an empty dictionary&#39;s code look like?"
      ],
      "metadata": {
        "id": "27emLDEAPJkD"
      }
    },
    {
      "cell_type": "markdown",
      "source": [
        "Ans---> The empty dictionary's code looks like a empty set or { }\n"
      ],
      "metadata": {
        "id": "hF8Er2q4Iiux"
      }
    },
    {
      "cell_type": "markdown",
      "source": [
        "2. What is the value of a dictionary value with the key 'foo' and the value 42?"
      ],
      "metadata": {
        "id": "OSfILv8QPOD-"
      }
    },
    {
      "cell_type": "code",
      "source": [
        "temp ={'foo' : 42}\n",
        "temp"
      ],
      "metadata": {
        "colab": {
          "base_uri": "https://localhost:8080/"
        },
        "id": "Dn-IUTVn0q0y",
        "outputId": "2344b196-a86d-4a04-8a30-5512547804c8"
      },
      "execution_count": null,
      "outputs": [
        {
          "output_type": "execute_result",
          "data": {
            "text/plain": [
              "{'foo': 42}"
            ]
          },
          "metadata": {},
          "execution_count": 3
        }
      ]
    },
    {
      "cell_type": "markdown",
      "source": [
        "3. What is the most significant distinction between a dictionary and a list?\n",
        "\n",
        "Ans---> Dictionary items are in ordered manner lists are unordered."
      ],
      "metadata": {
        "id": "uDWWdPZGPadY"
      }
    },
    {
      "cell_type": "markdown",
      "source": [
        "4. What happens if you try to access spam['foo'] if spam is {'bar':100}?"
      ],
      "metadata": {
        "id": "y3DkKJapPfWZ"
      }
    },
    {
      "cell_type": "markdown",
      "source": [
        "Ans---> will get error KeyError."
      ],
      "metadata": {
        "id": "Bjsol2t-YhHZ"
      }
    },
    {
      "cell_type": "markdown",
      "source": [
        "5. If a dictionary is stored in spam, what is the difference between the expressions 'cat' in spam and\n",
        "'cat' in spam.keys()?"
      ],
      "metadata": {
        "id": "HU_pkGZpP5ZM"
      }
    },
    {
      "cell_type": "markdown",
      "source": [
        "Ans---> There is no difference, the expression \" 'cat' in spam \" checks whether 'cat' is a key in spam.\n"
      ],
      "metadata": {
        "id": "llUBGE4B1KPo"
      }
    },
    {
      "cell_type": "markdown",
      "source": [
        "6. If a dictionary is stored in spam, what is the difference between the expressions 'cat' in spam and'cat' in spam.values()?"
      ],
      "metadata": {
        "id": "t4MdiSw1QC0Q"
      }
    },
    {
      "cell_type": "markdown",
      "source": [
        "ANS--->'cat' in spam checks whether 'cat' as a key in spam .'cat' in spam as a values check by spam.check()"
      ],
      "metadata": {
        "id": "YKNb0bnmQ6NJ"
      }
    },
    {
      "cell_type": "markdown",
      "source": [
        "7. What is a shortcut for the following code?\n",
        "\n",
        "if 'color' not in spam:\n",
        "\n",
        "spam['color'] = 'black'"
      ],
      "metadata": {
        "id": "DZl6D5q6QPc6"
      }
    },
    {
      "cell_type": "code",
      "source": [
        "spam.setdefault('color','black')"
      ],
      "metadata": {
        "id": "KWSrAB0yQriJ"
      },
      "execution_count": null,
      "outputs": []
    },
    {
      "cell_type": "markdown",
      "source": [
        "8. How do you \"pretty print\" dictionary values using which module and function?\n",
        "\n",
        "> Indented block\n",
        "\n",
        "> Indented block\n",
        "\n",
        "\n",
        "\n"
      ],
      "metadata": {
        "id": "d52ITdBUQgnX"
      }
    },
    {
      "cell_type": "markdown",
      "source": [
        "ANS--->The module is pprint.\n",
        "The functions are pprint.pprint() and pprint.pformat().\n"
      ],
      "metadata": {
        "id": "sCVXYK_XQvyO"
      }
    }
  ]
}