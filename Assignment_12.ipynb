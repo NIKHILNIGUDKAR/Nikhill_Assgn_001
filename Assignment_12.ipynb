{
  "nbformat": 4,
  "nbformat_minor": 0,
  "metadata": {
    "colab": {
      "provenance": []
    },
    "kernelspec": {
      "name": "python3",
      "display_name": "Python 3"
    },
    "language_info": {
      "name": "python"
    }
  },
  "cells": [
    {
      "cell_type": "markdown",
      "source": [
        "1. In what modes should the PdfFileReader() and PdfFileWriter() File objects will be opened?\n"
      ],
      "metadata": {
        "id": "wxB_zau403C1"
      }
    },
    {
      "cell_type": "markdown",
      "source": [
        "1)PdfFileReader(): The PdfFileReader() class is used to read the contents of a PDF file. To open a PDF file in read-only mode, you should pass the file object to PdfFileReader() with the mode set to \"rb\", which stands for \"read binary\". This ensures that the PDF file is opened in binary mode, which is necessary for working with PDF files\n",
        "2)PdfFileWriter(): The PdfFileWriter() class is used to write to a PDF file. To open a PDF file in write mode, you should pass the file object to PdfFileWriter() with the mode set to \"wb\", which stands for \"write binary\". This ensures that the PDF file is opened in binary mode and allows you to write data to the file."
      ],
      "metadata": {
        "id": "oCMn12uZ10M5"
      }
    },
    {
      "cell_type": "markdown",
      "source": [
        "2. From a PdfFileReader object, how do you get a Page object for page 5?\n",
        "\n"
      ],
      "metadata": {
        "id": "BKFZKnSg0-gq"
      }
    },
    {
      "cell_type": "code",
      "source": [
        "pdf_file = open(\"example.pdf\", \"rb\")\n",
        "pdf_reader = PdfFileReader(pdf_file)\n",
        "\n",
        "page_five = pdf_reader.getPage(4)\n",
        "\n",
        "page_text = page_five.extractText()\n",
        "\n",
        "pdf_file.close()\n"
      ],
      "metadata": {
        "id": "1ZPkfcxi2F8M"
      },
      "execution_count": null,
      "outputs": []
    },
    {
      "cell_type": "markdown",
      "source": [
        "3. What PdfFileReader variable stores the number of pages in the PDF document?\n"
      ],
      "metadata": {
        "id": "tL74DGm-0-2a"
      }
    },
    {
      "cell_type": "code",
      "source": [
        "pdf_file = open(\"example.pdf\", \"rb\")\n",
        "pdf_reader = PdfFileReader(pdf_file)\n",
        "\n",
        "num_pages = pdf_reader.numPages\n",
        "\n",
        "print(\"Number of pages:\", num_pages)\n",
        "\n",
        "pdf_file.close()\n"
      ],
      "metadata": {
        "id": "ZS2KJgL22Z53"
      },
      "execution_count": null,
      "outputs": []
    },
    {
      "cell_type": "markdown",
      "source": [
        "4. If a PdfFileReader object’s PDF is encrypted with the password swordfish, what must you do\n",
        "before you can obtain Page objects from it?\n"
      ],
      "metadata": {
        "id": "K_PIJNZG0_XT"
      }
    },
    {
      "cell_type": "code",
      "source": [
        "pdf_file = open(\"example_encrypted.pdf\", \"rb\")\n",
        "pdf_reader = PdfFileReader(pdf_file)\n",
        "\n",
        "pdf_reader.decrypt('swordfish')\n",
        "\n",
        "page_five = pdf_reader.getPage(4)\n",
        "\n",
        "\n",
        "page_text = page_five.extractText()\n",
        "\n",
        "pdf_file.close()\n"
      ],
      "metadata": {
        "id": "uhfgZykC2kyO"
      },
      "execution_count": null,
      "outputs": []
    },
    {
      "cell_type": "markdown",
      "source": [
        "5. What methods do you use to rotate a page?\n",
        "\n",
        "\n",
        "\n"
      ],
      "metadata": {
        "id": "w35hmHig0_qp"
      }
    },
    {
      "cell_type": "markdown",
      "source": [
        "ANS--->To rotate a page in PyPDF2, you can use the rotateClockwise() and rotateCounterClockwise() methods of a Page object."
      ],
      "metadata": {
        "id": "hnxvBqYb2xKb"
      }
    },
    {
      "cell_type": "markdown",
      "source": [
        "6. What is the difference between a Run object and a Paragraph object?\n",
        "\n",
        "\n",
        "---\n",
        "\n"
      ],
      "metadata": {
        "id": "a7EZGrjJ0_7S"
      }
    },
    {
      "cell_type": "markdown",
      "source": [
        "ANS--->A Run object represents a single run of text, while a Paragraph object represents a block of text.\n",
        "\n",
        "A Run object has a single set of character properties, such as font size, boldness, or italicization, while a Paragraph object can have multiple Run objects with different character properties.\n",
        "A Run object cannot contain other Run or Paragraph objects, while a Paragraph object can contain multiple Run objects and other block-level elements such as tables and lists.\n",
        "\n",
        "A Run object is typically used for applying character-level formatting to a portion of text, while a Paragraph object is used for grouping runs of text into a logical block."
      ],
      "metadata": {
        "id": "vlHII-1633Xi"
      }
    },
    {
      "cell_type": "markdown",
      "source": [
        "7. How do you obtain a list of Paragraph objects for a Document object that’s stored in a variable\n",
        "named doc?"
      ],
      "metadata": {
        "id": "ymJCc1s71A0p"
      }
    },
    {
      "cell_type": "markdown",
      "source": [
        "8. What type of object has bold, underline, italic, strike, and outline variables?\n",
        "\n",
        "\n",
        "> Indented block\n",
        "\n"
      ],
      "metadata": {
        "id": "tK7H76o61Aoi"
      }
    },
    {
      "cell_type": "code",
      "source": [
        "from docx import Document\n",
        "from docx.shared import Pt\n",
        "\n",
        "document = Document()\n",
        "paragraph = document.add_paragraph('Hello, world!')\n",
        "font = paragraph.add_run().font\n",
        "font.bold = True\n"
      ],
      "metadata": {
        "id": "Xgg6hkZ64F96"
      },
      "execution_count": null,
      "outputs": []
    },
    {
      "cell_type": "markdown",
      "source": [
        "9. What is the difference between False, True, and None for the bold variable?\n"
      ],
      "metadata": {
        "id": "XoXLwThT1eXa"
      }
    },
    {
      "cell_type": "markdown",
      "source": [
        "ANS--->False is a boolean value that represents false. It is used to represent the boolean result of an expression that evaluates to false.\n",
        "\n",
        "True is a boolean value that represents true. It is used to represent the boolean result of an expression that evaluates to true.\n",
        "\n",
        "None is a special value that represents the absence of a value. It is used to indicate that a variable or expression does not have a value.\n",
        "\n",
        "For the bold variable, the value assigned to it would depend on the context and what it is used for. If it is used to represent the bold attribute of a text, then False would indicate that the text is not bold, while True would indicate that the text is bold. None could be used to indicate that the bold attribute is not applicable or has not been set."
      ],
      "metadata": {
        "id": "0r04wGP13lvC"
      }
    },
    {
      "cell_type": "markdown",
      "source": [
        "10. How do you create a Document object for a new Word document?\n"
      ],
      "metadata": {
        "id": "9izp_VI61gk1"
      }
    },
    {
      "cell_type": "code",
      "source": [
        "from docx import Document\n",
        "\n",
        "doc = Document()\n",
        "\n",
        "doc.add_paragraph('Hello, world!')\n",
        "\n",
        "doc.save('example.docx')\n"
      ],
      "metadata": {
        "id": "3mV4dd_i3ZD5"
      },
      "execution_count": null,
      "outputs": []
    },
    {
      "cell_type": "markdown",
      "source": [
        "11. How do you add a paragraph with the text 'Hello, there' to a Document object stored in a\n",
        "variable named doc?"
      ],
      "metadata": {
        "id": "cRtNV7LE1j3M"
      }
    },
    {
      "cell_type": "code",
      "source": [
        "from docx import Document\n",
        "\n",
        "doc = Document()\n",
        "\n",
        "doc.add_paragraph('Hello, there')\n",
        "\n",
        "doc.save('example.docx')\n"
      ],
      "metadata": {
        "id": "GgwVoGLb3PP2"
      },
      "execution_count": null,
      "outputs": []
    },
    {
      "cell_type": "markdown",
      "source": [
        "12. What integers represent the levels of headings available in Word documents?"
      ],
      "metadata": {
        "id": "WY1KM3F91ALS"
      }
    },
    {
      "cell_type": "markdown",
      "source": [
        "Level 1: 1\n",
        "\n",
        "Level 2: 2\n",
        "\n",
        "Level 3: 3\n",
        "\n",
        "Level 4: 4\n",
        "\n",
        "Level 5: 5\n",
        "\n",
        "Level 6: 6\n",
        "\n",
        "Level 7: 7\n",
        "\n",
        "Level 8: 8\n",
        "\n",
        "Level 9: 9\n",
        "\n",
        "These heading levels can be used to structure the document and create \n",
        "an automatic table of contents based on the headings."
      ],
      "metadata": {
        "id": "7hYvUoCZ2_S8"
      }
    }
  ]
}