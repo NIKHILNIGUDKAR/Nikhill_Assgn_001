{
 "cells": [
  {
   "cell_type": "markdown",
   "id": "4be7c0b7",
   "metadata": {},
   "source": [
    "1. Write a Python program to Extract Unique values dictionary values?"
   ]
  },
  {
   "cell_type": "code",
   "execution_count": null,
   "id": "13a7e600",
   "metadata": {},
   "outputs": [],
   "source": [
    "test_dict = {'gfg': [5, 22, 7, 8],\n",
    "             'is': [10, 110, 7, 5],\n",
    "             'best': [6, 12, 107, 87,5,111],\n",
    "             'for': [1, 27, 15 ,40,8,22]}\n",
    " \n",
    "\n",
    "print(\"The original dictionary is : \" + str(test_dict))\n",
    " \n",
    "res = list(sorted({ele for val in test_dict.values() for ele in val}))\n",
    " \n",
    "print(\"The unique values list is : \" + str(res))"
   ]
  },
  {
   "cell_type": "markdown",
   "id": "cd1b24c5",
   "metadata": {},
   "source": [
    "2. Write a Python program to find the sum of all items in a dictionary?"
   ]
  },
  {
   "cell_type": "code",
   "execution_count": null,
   "id": "50b97601",
   "metadata": {},
   "outputs": [],
   "source": [
    "def sumofitems(dict):\n",
    "    sum=0\n",
    "    for i in dict.values():\n",
    "        sum = sum+i\n",
    "    return sum\n",
    "dict={\"a\":190,\"b\":201,\"c\":111,\"d\":20,\"e\":1}\n",
    "print(\"sum: \",sumofitems(dict))"
   ]
  },
  {
   "cell_type": "markdown",
   "id": "c8cfb2fa",
   "metadata": {},
   "source": [
    "3. Write a Python program to Merging two Dictionaries?"
   ]
  },
  {
   "cell_type": "code",
   "execution_count": null,
   "id": "a43bdc14",
   "metadata": {},
   "outputs": [],
   "source": [
    "dict1={\"a\":\"abhishek\",\"b\":\"bhola\",\"c\":\"Chotu\",\"d\":\"Dinesh\"}\n",
    "dict2={\"e\":\"Esha\",\"f\":\"Farhan\",\"g\":\"Golu\",\"h\":\"Hitesh\"}\n",
    "print(dict1 | dict2)"
   ]
  },
  {
   "cell_type": "markdown",
   "id": "a267628a",
   "metadata": {},
   "source": [
    "4. Write a Python program to convert key-values list to flat dictionary?"
   ]
  },
  {
   "cell_type": "code",
   "execution_count": 8,
   "id": "1319b400",
   "metadata": {},
   "outputs": [
    {
     "name": "stdout",
     "output_type": "stream",
     "text": [
      "The original dictionary is : {'month': [1, 2, 3], 'name': ['Jan', 'Feb', 'March']}\n",
      "Flattened dictionary : {1: 'Jan', 2: 'Feb', 3: 'March'}\n"
     ]
    }
   ],
   "source": [
    "test_dict = {'month' : [1, 2, 3],\n",
    "            'name' : ['Jan', 'Feb', 'March']}\n",
    " \n",
    "print(\"The original dictionary is : \" + str(test_dict))\n",
    " \n",
    "x=list(test_dict.values())\n",
    "a=x[0]\n",
    "b=x[1]\n",
    "d=dict()\n",
    "for i in range(0,len(a)):\n",
    "    d[a[i]]=b[i]\n",
    "print(\"Flattened dictionary : \" + str(d))"
   ]
  },
  {
   "cell_type": "markdown",
   "id": "37ed44b2",
   "metadata": {},
   "source": [
    "5. Write a Python program to insertion at the beginning in OrderedDict?"
   ]
  },
  {
   "cell_type": "code",
   "execution_count": 10,
   "id": "d2a79536",
   "metadata": {},
   "outputs": [
    {
     "name": "stdout",
     "output_type": "stream",
     "text": [
      "Resultant Dictionary : OrderedDict([('manjeet', '3'), ('akshat', '1'), ('nikhil', '2')])\n"
     ]
    }
   ],
   "source": [
    "from collections import OrderedDict\n",
    " \n",
    "iniordered_dict = OrderedDict([('akshat', '1'), ('nikhil', '2')])\n",
    " \n",
    "iniordered_dict.update({'manjeet':'3'})\n",
    "iniordered_dict.move_to_end('manjeet', last = False)\n",
    " \n",
    "print (\"Resultant Dictionary : \"+str(iniordered_dict))"
   ]
  },
  {
   "cell_type": "markdown",
   "id": "c65be260",
   "metadata": {},
   "source": [
    "6. Write a Python program to check order of character in string using OrderedDict()?"
   ]
  },
  {
   "cell_type": "code",
   "execution_count": 12,
   "id": "7a000e67",
   "metadata": {},
   "outputs": [
    {
     "name": "stdout",
     "output_type": "stream",
     "text": [
      "true\n"
     ]
    }
   ],
   "source": [
    "from collections import OrderedDict\n",
    "\n",
    "def checkOrder(input, pattern):\n",
    "\n",
    "    dict = OrderedDict.fromkeys(input)\n",
    "\n",
    "\n",
    "    ptrlen = 0\n",
    "    for key,value in dict.items():\n",
    "        if (key == pattern[ptrlen]):\n",
    "            ptrlen = ptrlen + 1\n",
    "\n",
    "        if (ptrlen == (len(pattern))):\n",
    "            return 'true'\n",
    "\n",
    "\n",
    "    return 'false'\n",
    "\n",
    "\n",
    "if __name__ == \"__main__\":\n",
    "    input = 'engineers rock'\n",
    "    pattern = 'er'\n",
    "    print (checkOrder(input,pattern))\n"
   ]
  },
  {
   "cell_type": "markdown",
   "id": "8cbf2c53",
   "metadata": {},
   "source": [
    "7. Write a Python program to sort Python Dictionaries by Key or Value?"
   ]
  },
  {
   "cell_type": "code",
   "execution_count": 13,
   "id": "d82f0c02",
   "metadata": {},
   "outputs": [
    {
     "name": "stdout",
     "output_type": "stream",
     "text": [
      "{'rajnish': 9, 'ravi': 10, 'sanjeev': 15, 'suraj': 32, 'yash': 2}\n"
     ]
    }
   ],
   "source": [
    "myDict = {'ravi': 10, 'rajnish': 9,\n",
    "        'sanjeev': 15, 'yash': 2, 'suraj': 32}\n",
    " \n",
    "myKeys = list(myDict.keys())\n",
    "myKeys.sort()\n",
    "sorted_dict = {i: myDict[i] for i in myKeys}\n",
    " \n",
    "print(sorted_dict)"
   ]
  }
 ],
 "metadata": {
  "kernelspec": {
   "display_name": "Python 3 (ipykernel)",
   "language": "python",
   "name": "python3"
  },
  "language_info": {
   "codemirror_mode": {
    "name": "ipython",
    "version": 3
   },
   "file_extension": ".py",
   "mimetype": "text/x-python",
   "name": "python",
   "nbconvert_exporter": "python",
   "pygments_lexer": "ipython3",
   "version": "3.9.13"
  }
 },
 "nbformat": 4,
 "nbformat_minor": 5
}
