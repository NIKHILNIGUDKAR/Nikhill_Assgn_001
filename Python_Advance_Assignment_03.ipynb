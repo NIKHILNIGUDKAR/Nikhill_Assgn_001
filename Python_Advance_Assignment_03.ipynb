{
 "cells": [
  {
   "cell_type": "markdown",
   "id": "ad2e5ed9",
   "metadata": {},
   "source": [
    "1. What is the concept of an abstract superclass?"
   ]
  },
  {
   "cell_type": "markdown",
   "id": "6b0c435f",
   "metadata": {},
   "source": [
    "ANS--->In python abstract superclass is a class that designed to be inherited from but not directly instaniated.It is a way to define common interface or set of behaviours that can be shared by multiple subclasses."
   ]
  },
  {
   "cell_type": "markdown",
   "id": "bb6c5b22",
   "metadata": {},
   "source": [
    "2. What happens when a class statement's top level contains a basic assignment statement?"
   ]
  },
  {
   "cell_type": "markdown",
   "id": "e317faf4",
   "metadata": {},
   "source": [
    "ANS--->In Python, a class statement is used to define a new class. It begins with the class keyword followed by the name of the class and a colon, and then the body of the class is indented underneath. The top-level of the class statement is where the class attributes are defined, such as class variables and methods."
   ]
  },
  {
   "cell_type": "markdown",
   "id": "844dfc2a",
   "metadata": {},
   "source": [
    "3. Why does a class need to manually call a superclass __init__ method?"
   ]
  },
  {
   "cell_type": "markdown",
   "id": "1ede90f0",
   "metadata": {},
   "source": [
    "ANS--->The main reason for always calling base class _init__ is that base class may typically create member variable and initialize them to defaults."
   ]
  },
  {
   "cell_type": "markdown",
   "id": "053ea207",
   "metadata": {},
   "source": [
    "4. How can you augment, instead of completely replacing, an inherited method?"
   ]
  },
  {
   "cell_type": "markdown",
   "id": "a7339b40",
   "metadata": {},
   "source": [
    "ANS--->In Python, you can augment, or extend, an inherited method in a subclass by overriding the method in the subclass and calling the parent class's method within it. This is done by calling the parent class's method using the super() function."
   ]
  },
  {
   "cell_type": "markdown",
   "id": "0cd46bd5",
   "metadata": {},
   "source": [
    "5. How is the local scope of a class different from that of a function?"
   ]
  },
  {
   "cell_type": "markdown",
   "id": "6c80e0bb",
   "metadata": {},
   "source": [
    "ANS---> if you assign a value to a name inside a function, then that name will have a local Python scope."
   ]
  }
 ],
 "metadata": {
  "kernelspec": {
   "display_name": "Python 3 (ipykernel)",
   "language": "python",
   "name": "python3"
  },
  "language_info": {
   "codemirror_mode": {
    "name": "ipython",
    "version": 3
   },
   "file_extension": ".py",
   "mimetype": "text/x-python",
   "name": "python",
   "nbconvert_exporter": "python",
   "pygments_lexer": "ipython3",
   "version": "3.9.13"
  }
 },
 "nbformat": 4,
 "nbformat_minor": 5
}
